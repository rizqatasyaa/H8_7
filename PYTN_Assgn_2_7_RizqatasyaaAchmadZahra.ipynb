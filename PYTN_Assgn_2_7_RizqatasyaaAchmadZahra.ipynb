{
 "cells": [
  {
   "cell_type": "markdown",
   "id": "7a379a56",
   "metadata": {},
   "source": [
    "# Tentang Data\n",
    "Kumpulan data ini adalah catatan setiap bangunan atau unit bangunan (apartemen, dll.) yang terjual di pasar properti New York City selama periode 12 bulan. Properti yang dijual di New York City selama periode 12 bulan dari September 2016 hingga September 2017\n",
    "\n",
    "## Isi Dataset\n",
    "Dataset ini berisi tentang lokasi, alamat, jenis, harga jual, dan tanggal penjualan unit bangunan yang terjual. Referensi tentang bidang yang lebih rumit:\n",
    "\n",
    "- BOROUGH: Kode digit untuk wilayah tempat properti berada; dalam urutan ini adalah Manhattan (1), Bronx (2), Brooklyn (3), Queens (4), dan Staten Island (5).\n",
    "- BLOCK; LOT: Kombinasi borough, block, dan lot membentuk kunci unik untuk properti di New York City. Biasa disebut a BBL.\n",
    "- BUILDING CLASS AT PRESENT dan BUILDING CLASS AT TIME OF SALE: Jenis bangunan pada berbagai titik waktu. Lihat glosarium yang ditautkan ke bawah.\n",
    "\n",
    "Perhatikan bahwa karena ini adalah kumpulan data transaksi keuangan, ada beberapa hal yang perlu diingat:\n",
    "\n",
    "- Banyak penjualan terjadi dengan jumlah dolar yang sangat kecil: $0 paling umum. Penjualan ini sebenarnya adalah transfer akta antar pihak: misalnya, orang tua mentransfer kepemilikan rumah mereka kepada seorang anak setelah pindah untuk pensiun.\n",
    "- Dataset ini menggunakan definisi keuangan dari sebuah bangunan/unit bangunan, untuk tujuan perpajakan. Dalam hal satu entitas memiliki bangunan yang bersangkutan, penjualan mencakup nilai seluruh bangunan. Dalam hal sebuah bangunan dimiliki sedikit demi sedikit oleh penghuninya (kondominium), penjualan mengacu pada satu apartemen (atau sekelompok apartemen) yang dimiliki oleh beberapa individu."
   ]
  },
  {
   "cell_type": "code",
   "execution_count": 1,
   "id": "2c818d49",
   "metadata": {},
   "outputs": [],
   "source": [
    "import math\n",
    "import statistics\n",
    "import numpy as np\n",
    "import scipy.stats\n",
    "import pandas as pd\n",
    "\n",
    "from scipy.stats import t\n",
    "import matplotlib.pyplot as plt\n",
    "from IPython.display import Math, Latex\n",
    "from IPython.core.display import Image\n",
    "\n",
    "%matplotlib inline\n",
    "\n",
    "import seaborn as sns"
   ]
  },
  {
   "cell_type": "markdown",
   "id": "29bdc1e7",
   "metadata": {},
   "source": [
    "# Read Data"
   ]
  },
  {
   "cell_type": "code",
   "execution_count": 2,
   "id": "19c7f977",
   "metadata": {
    "scrolled": true
   },
   "outputs": [
    {
     "data": {
      "text/html": [
       "<div>\n",
       "<style scoped>\n",
       "    .dataframe tbody tr th:only-of-type {\n",
       "        vertical-align: middle;\n",
       "    }\n",
       "\n",
       "    .dataframe tbody tr th {\n",
       "        vertical-align: top;\n",
       "    }\n",
       "\n",
       "    .dataframe thead th {\n",
       "        text-align: right;\n",
       "    }\n",
       "</style>\n",
       "<table border=\"1\" class=\"dataframe\">\n",
       "  <thead>\n",
       "    <tr style=\"text-align: right;\">\n",
       "      <th></th>\n",
       "      <th>Unnamed: 0</th>\n",
       "      <th>BOROUGH</th>\n",
       "      <th>NEIGHBORHOOD</th>\n",
       "      <th>BUILDING CLASS CATEGORY</th>\n",
       "      <th>TAX CLASS AT PRESENT</th>\n",
       "      <th>BLOCK</th>\n",
       "      <th>LOT</th>\n",
       "      <th>EASE-MENT</th>\n",
       "      <th>BUILDING CLASS AT PRESENT</th>\n",
       "      <th>ADDRESS</th>\n",
       "      <th>...</th>\n",
       "      <th>RESIDENTIAL UNITS</th>\n",
       "      <th>COMMERCIAL UNITS</th>\n",
       "      <th>TOTAL UNITS</th>\n",
       "      <th>LAND SQUARE FEET</th>\n",
       "      <th>GROSS SQUARE FEET</th>\n",
       "      <th>YEAR BUILT</th>\n",
       "      <th>TAX CLASS AT TIME OF SALE</th>\n",
       "      <th>BUILDING CLASS AT TIME OF SALE</th>\n",
       "      <th>SALE PRICE</th>\n",
       "      <th>SALE DATE</th>\n",
       "    </tr>\n",
       "  </thead>\n",
       "  <tbody>\n",
       "    <tr>\n",
       "      <th>0</th>\n",
       "      <td>4</td>\n",
       "      <td>1</td>\n",
       "      <td>ALPHABET CITY</td>\n",
       "      <td>07 RENTALS - WALKUP APARTMENTS</td>\n",
       "      <td>2A</td>\n",
       "      <td>392</td>\n",
       "      <td>6</td>\n",
       "      <td></td>\n",
       "      <td>C2</td>\n",
       "      <td>153 AVENUE B</td>\n",
       "      <td>...</td>\n",
       "      <td>5</td>\n",
       "      <td>0</td>\n",
       "      <td>5</td>\n",
       "      <td>1633</td>\n",
       "      <td>6440</td>\n",
       "      <td>1900</td>\n",
       "      <td>2</td>\n",
       "      <td>C2</td>\n",
       "      <td>6625000</td>\n",
       "      <td>2017-07-19 00:00:00</td>\n",
       "    </tr>\n",
       "    <tr>\n",
       "      <th>1</th>\n",
       "      <td>5</td>\n",
       "      <td>1</td>\n",
       "      <td>ALPHABET CITY</td>\n",
       "      <td>07 RENTALS - WALKUP APARTMENTS</td>\n",
       "      <td>2</td>\n",
       "      <td>399</td>\n",
       "      <td>26</td>\n",
       "      <td></td>\n",
       "      <td>C7</td>\n",
       "      <td>234 EAST 4TH   STREET</td>\n",
       "      <td>...</td>\n",
       "      <td>28</td>\n",
       "      <td>3</td>\n",
       "      <td>31</td>\n",
       "      <td>4616</td>\n",
       "      <td>18690</td>\n",
       "      <td>1900</td>\n",
       "      <td>2</td>\n",
       "      <td>C7</td>\n",
       "      <td>-</td>\n",
       "      <td>2016-12-14 00:00:00</td>\n",
       "    </tr>\n",
       "    <tr>\n",
       "      <th>2</th>\n",
       "      <td>6</td>\n",
       "      <td>1</td>\n",
       "      <td>ALPHABET CITY</td>\n",
       "      <td>07 RENTALS - WALKUP APARTMENTS</td>\n",
       "      <td>2</td>\n",
       "      <td>399</td>\n",
       "      <td>39</td>\n",
       "      <td></td>\n",
       "      <td>C7</td>\n",
       "      <td>197 EAST 3RD   STREET</td>\n",
       "      <td>...</td>\n",
       "      <td>16</td>\n",
       "      <td>1</td>\n",
       "      <td>17</td>\n",
       "      <td>2212</td>\n",
       "      <td>7803</td>\n",
       "      <td>1900</td>\n",
       "      <td>2</td>\n",
       "      <td>C7</td>\n",
       "      <td>-</td>\n",
       "      <td>2016-12-09 00:00:00</td>\n",
       "    </tr>\n",
       "    <tr>\n",
       "      <th>3</th>\n",
       "      <td>7</td>\n",
       "      <td>1</td>\n",
       "      <td>ALPHABET CITY</td>\n",
       "      <td>07 RENTALS - WALKUP APARTMENTS</td>\n",
       "      <td>2B</td>\n",
       "      <td>402</td>\n",
       "      <td>21</td>\n",
       "      <td></td>\n",
       "      <td>C4</td>\n",
       "      <td>154 EAST 7TH STREET</td>\n",
       "      <td>...</td>\n",
       "      <td>10</td>\n",
       "      <td>0</td>\n",
       "      <td>10</td>\n",
       "      <td>2272</td>\n",
       "      <td>6794</td>\n",
       "      <td>1913</td>\n",
       "      <td>2</td>\n",
       "      <td>C4</td>\n",
       "      <td>3936272</td>\n",
       "      <td>2016-09-23 00:00:00</td>\n",
       "    </tr>\n",
       "    <tr>\n",
       "      <th>4</th>\n",
       "      <td>8</td>\n",
       "      <td>1</td>\n",
       "      <td>ALPHABET CITY</td>\n",
       "      <td>07 RENTALS - WALKUP APARTMENTS</td>\n",
       "      <td>2A</td>\n",
       "      <td>404</td>\n",
       "      <td>55</td>\n",
       "      <td></td>\n",
       "      <td>C2</td>\n",
       "      <td>301 EAST 10TH   STREET</td>\n",
       "      <td>...</td>\n",
       "      <td>6</td>\n",
       "      <td>0</td>\n",
       "      <td>6</td>\n",
       "      <td>2369</td>\n",
       "      <td>4615</td>\n",
       "      <td>1900</td>\n",
       "      <td>2</td>\n",
       "      <td>C2</td>\n",
       "      <td>8000000</td>\n",
       "      <td>2016-11-17 00:00:00</td>\n",
       "    </tr>\n",
       "  </tbody>\n",
       "</table>\n",
       "<p>5 rows × 22 columns</p>\n",
       "</div>"
      ],
      "text/plain": [
       "   Unnamed: 0  BOROUGH   NEIGHBORHOOD  \\\n",
       "0           4        1  ALPHABET CITY   \n",
       "1           5        1  ALPHABET CITY   \n",
       "2           6        1  ALPHABET CITY   \n",
       "3           7        1  ALPHABET CITY   \n",
       "4           8        1  ALPHABET CITY   \n",
       "\n",
       "                       BUILDING CLASS CATEGORY TAX CLASS AT PRESENT  BLOCK  \\\n",
       "0  07 RENTALS - WALKUP APARTMENTS                                2A    392   \n",
       "1  07 RENTALS - WALKUP APARTMENTS                                 2    399   \n",
       "2  07 RENTALS - WALKUP APARTMENTS                                 2    399   \n",
       "3  07 RENTALS - WALKUP APARTMENTS                                2B    402   \n",
       "4  07 RENTALS - WALKUP APARTMENTS                                2A    404   \n",
       "\n",
       "   LOT EASE-MENT BUILDING CLASS AT PRESENT                 ADDRESS  ...  \\\n",
       "0    6                                  C2            153 AVENUE B  ...   \n",
       "1   26                                  C7   234 EAST 4TH   STREET  ...   \n",
       "2   39                                  C7   197 EAST 3RD   STREET  ...   \n",
       "3   21                                  C4     154 EAST 7TH STREET  ...   \n",
       "4   55                                  C2  301 EAST 10TH   STREET  ...   \n",
       "\n",
       "  RESIDENTIAL UNITS  COMMERCIAL UNITS  TOTAL UNITS  LAND SQUARE FEET  \\\n",
       "0                 5                 0            5              1633   \n",
       "1                28                 3           31              4616   \n",
       "2                16                 1           17              2212   \n",
       "3                10                 0           10              2272   \n",
       "4                 6                 0            6              2369   \n",
       "\n",
       "   GROSS SQUARE FEET YEAR BUILT TAX CLASS AT TIME OF SALE  \\\n",
       "0               6440       1900                         2   \n",
       "1              18690       1900                         2   \n",
       "2               7803       1900                         2   \n",
       "3               6794       1913                         2   \n",
       "4               4615       1900                         2   \n",
       "\n",
       "   BUILDING CLASS AT TIME OF SALE  SALE PRICE            SALE DATE  \n",
       "0                              C2     6625000  2017-07-19 00:00:00  \n",
       "1                              C7         -    2016-12-14 00:00:00  \n",
       "2                              C7         -    2016-12-09 00:00:00  \n",
       "3                              C4     3936272  2016-09-23 00:00:00  \n",
       "4                              C2     8000000  2016-11-17 00:00:00  \n",
       "\n",
       "[5 rows x 22 columns]"
      ]
     },
     "execution_count": 2,
     "metadata": {},
     "output_type": "execute_result"
    }
   ],
   "source": [
    "df_nycPropertySales = pd.read_csv('D:/HACTIVE/dataset/nyc-rolling-sales.csv')\n",
    "\n",
    "df_nycPropertySales.head()"
   ]
  },
  {
   "cell_type": "code",
   "execution_count": 3,
   "id": "d0855bea",
   "metadata": {},
   "outputs": [
    {
     "name": "stdout",
     "output_type": "stream",
     "text": [
      "<class 'pandas.core.frame.DataFrame'>\n",
      "RangeIndex: 84548 entries, 0 to 84547\n",
      "Data columns (total 22 columns):\n",
      " #   Column                          Non-Null Count  Dtype \n",
      "---  ------                          --------------  ----- \n",
      " 0   Unnamed: 0                      84548 non-null  int64 \n",
      " 1   BOROUGH                         84548 non-null  int64 \n",
      " 2   NEIGHBORHOOD                    84548 non-null  object\n",
      " 3   BUILDING CLASS CATEGORY         84548 non-null  object\n",
      " 4   TAX CLASS AT PRESENT            84548 non-null  object\n",
      " 5   BLOCK                           84548 non-null  int64 \n",
      " 6   LOT                             84548 non-null  int64 \n",
      " 7   EASE-MENT                       84548 non-null  object\n",
      " 8   BUILDING CLASS AT PRESENT       84548 non-null  object\n",
      " 9   ADDRESS                         84548 non-null  object\n",
      " 10  APARTMENT NUMBER                84548 non-null  object\n",
      " 11  ZIP CODE                        84548 non-null  int64 \n",
      " 12  RESIDENTIAL UNITS               84548 non-null  int64 \n",
      " 13  COMMERCIAL UNITS                84548 non-null  int64 \n",
      " 14  TOTAL UNITS                     84548 non-null  int64 \n",
      " 15  LAND SQUARE FEET                84548 non-null  object\n",
      " 16  GROSS SQUARE FEET               84548 non-null  object\n",
      " 17  YEAR BUILT                      84548 non-null  int64 \n",
      " 18  TAX CLASS AT TIME OF SALE       84548 non-null  int64 \n",
      " 19  BUILDING CLASS AT TIME OF SALE  84548 non-null  object\n",
      " 20  SALE PRICE                      84548 non-null  object\n",
      " 21  SALE DATE                       84548 non-null  object\n",
      "dtypes: int64(10), object(12)\n",
      "memory usage: 14.2+ MB\n"
     ]
    }
   ],
   "source": [
    "df_nycPropertySales.info()"
   ]
  },
  {
   "cell_type": "code",
   "execution_count": 4,
   "id": "624b80ac",
   "metadata": {
    "scrolled": true
   },
   "outputs": [
    {
     "data": {
      "text/plain": [
       "[1, 2, 3, 4, 5]"
      ]
     },
     "execution_count": 4,
     "metadata": {},
     "output_type": "execute_result"
    }
   ],
   "source": [
    "#list 5 wilayah\n",
    "list(df_nycPropertySales[\"BOROUGH\"].unique())"
   ]
  },
  {
   "cell_type": "code",
   "execution_count": 5,
   "id": "e5199ddf",
   "metadata": {
    "scrolled": false
   },
   "outputs": [
    {
     "data": {
      "text/plain": [
       "['ALPHABET CITY',\n",
       " 'CHELSEA',\n",
       " 'CHINATOWN',\n",
       " 'CIVIC CENTER',\n",
       " 'CLINTON',\n",
       " 'EAST VILLAGE',\n",
       " 'FASHION',\n",
       " 'FINANCIAL',\n",
       " 'FLATIRON',\n",
       " 'GRAMERCY',\n",
       " 'GREENWICH VILLAGE-CENTRAL',\n",
       " 'GREENWICH VILLAGE-WEST',\n",
       " 'HARLEM-CENTRAL',\n",
       " 'HARLEM-EAST',\n",
       " 'HARLEM-UPPER',\n",
       " 'HARLEM-WEST',\n",
       " 'INWOOD',\n",
       " 'JAVITS CENTER',\n",
       " 'KIPS BAY',\n",
       " 'LITTLE ITALY',\n",
       " 'LOWER EAST SIDE',\n",
       " 'MANHATTAN VALLEY',\n",
       " 'MIDTOWN CBD',\n",
       " 'MIDTOWN EAST',\n",
       " 'MIDTOWN WEST',\n",
       " 'MORNINGSIDE HEIGHTS',\n",
       " 'MURRAY HILL',\n",
       " 'ROOSEVELT ISLAND',\n",
       " 'SOHO',\n",
       " 'SOUTHBRIDGE',\n",
       " 'TRIBECA',\n",
       " 'UPPER EAST SIDE (59-79)',\n",
       " 'UPPER EAST SIDE (79-96)',\n",
       " 'UPPER EAST SIDE (96-110)',\n",
       " 'UPPER WEST SIDE (59-79)',\n",
       " 'UPPER WEST SIDE (79-96)',\n",
       " 'UPPER WEST SIDE (96-116)',\n",
       " 'WASHINGTON HEIGHTS LOWER',\n",
       " 'WASHINGTON HEIGHTS UPPER',\n",
       " 'BATHGATE',\n",
       " 'BAYCHESTER',\n",
       " 'BEDFORD PARK/NORWOOD',\n",
       " 'BELMONT',\n",
       " 'BRONX PARK',\n",
       " 'BRONXDALE',\n",
       " 'CASTLE HILL/UNIONPORT',\n",
       " 'CITY ISLAND',\n",
       " 'CITY ISLAND-PELHAM STRIP',\n",
       " 'CO-OP CITY',\n",
       " 'COUNTRY CLUB',\n",
       " 'CROTONA PARK',\n",
       " 'EAST RIVER',\n",
       " 'EAST TREMONT',\n",
       " 'FIELDSTON',\n",
       " 'FORDHAM',\n",
       " 'HIGHBRIDGE/MORRIS HEIGHTS',\n",
       " 'HUNTS POINT',\n",
       " 'KINGSBRIDGE HTS/UNIV HTS',\n",
       " 'KINGSBRIDGE/JEROME PARK',\n",
       " 'MELROSE/CONCOURSE',\n",
       " 'MORRIS PARK/VAN NEST',\n",
       " 'MORRISANIA/LONGWOOD',\n",
       " 'MOTT HAVEN/PORT MORRIS',\n",
       " 'MOUNT HOPE/MOUNT EDEN',\n",
       " 'PARKCHESTER',\n",
       " 'PELHAM BAY',\n",
       " 'PELHAM GARDENS',\n",
       " 'PELHAM PARKWAY NORTH',\n",
       " 'PELHAM PARKWAY SOUTH',\n",
       " 'RIVERDALE',\n",
       " 'SCHUYLERVILLE/PELHAM BAY',\n",
       " 'SOUNDVIEW',\n",
       " 'THROGS NECK',\n",
       " 'VAN CORTLANDT PARK',\n",
       " 'WAKEFIELD',\n",
       " 'WESTCHESTER',\n",
       " 'WILLIAMSBRIDGE',\n",
       " 'WOODLAWN',\n",
       " 'BATH BEACH',\n",
       " 'BAY RIDGE',\n",
       " 'BEDFORD STUYVESANT',\n",
       " 'BENSONHURST',\n",
       " 'BERGEN BEACH',\n",
       " 'BOERUM HILL',\n",
       " 'BOROUGH PARK',\n",
       " 'BRIGHTON BEACH',\n",
       " 'BROOKLYN HEIGHTS',\n",
       " 'BROWNSVILLE',\n",
       " 'BUSH TERMINAL',\n",
       " 'BUSHWICK',\n",
       " 'CANARSIE',\n",
       " 'CARROLL GARDENS',\n",
       " 'CLINTON HILL',\n",
       " 'COBBLE HILL',\n",
       " 'COBBLE HILL-WEST',\n",
       " 'CONEY ISLAND',\n",
       " 'CROWN HEIGHTS',\n",
       " 'CYPRESS HILLS',\n",
       " 'DOWNTOWN-FULTON FERRY',\n",
       " 'DOWNTOWN-FULTON MALL',\n",
       " 'DOWNTOWN-METROTECH',\n",
       " 'DYKER HEIGHTS',\n",
       " 'EAST NEW YORK',\n",
       " 'FLATBUSH-CENTRAL',\n",
       " 'FLATBUSH-EAST',\n",
       " 'FLATBUSH-LEFFERTS GARDEN',\n",
       " 'FLATBUSH-NORTH',\n",
       " 'FLATLANDS',\n",
       " 'FORT GREENE',\n",
       " 'GERRITSEN BEACH',\n",
       " 'GOWANUS',\n",
       " 'GRAVESEND',\n",
       " 'GREENPOINT',\n",
       " 'JAMAICA BAY',\n",
       " 'KENSINGTON',\n",
       " 'MADISON',\n",
       " 'MANHATTAN BEACH',\n",
       " 'MARINE PARK',\n",
       " 'MIDWOOD',\n",
       " 'MILL BASIN',\n",
       " 'NAVY YARD',\n",
       " 'OCEAN HILL',\n",
       " 'OCEAN PARKWAY-NORTH',\n",
       " 'OCEAN PARKWAY-SOUTH',\n",
       " 'OLD MILL BASIN',\n",
       " 'PARK SLOPE',\n",
       " 'PARK SLOPE SOUTH',\n",
       " 'PROSPECT HEIGHTS',\n",
       " 'RED HOOK',\n",
       " 'SEAGATE',\n",
       " 'SHEEPSHEAD BAY',\n",
       " 'SPRING CREEK',\n",
       " 'SUNSET PARK',\n",
       " 'WILLIAMSBURG-CENTRAL',\n",
       " 'WILLIAMSBURG-EAST',\n",
       " 'WILLIAMSBURG-NORTH',\n",
       " 'WILLIAMSBURG-SOUTH',\n",
       " 'WINDSOR TERRACE',\n",
       " 'WYCKOFF HEIGHTS',\n",
       " 'AIRPORT LA GUARDIA',\n",
       " 'ARVERNE',\n",
       " 'ASTORIA',\n",
       " 'BAYSIDE',\n",
       " 'BEECHHURST',\n",
       " 'BELLE HARBOR',\n",
       " 'BELLEROSE',\n",
       " 'BRIARWOOD',\n",
       " 'BROAD CHANNEL',\n",
       " 'CAMBRIA HEIGHTS',\n",
       " 'COLLEGE POINT',\n",
       " 'CORONA',\n",
       " 'DOUGLASTON',\n",
       " 'EAST ELMHURST',\n",
       " 'ELMHURST',\n",
       " 'FAR ROCKAWAY',\n",
       " 'FLORAL PARK',\n",
       " 'FLUSHING MEADOW PARK',\n",
       " 'FLUSHING-NORTH',\n",
       " 'FLUSHING-SOUTH',\n",
       " 'FOREST HILLS',\n",
       " 'FRESH MEADOWS',\n",
       " 'GLEN OAKS',\n",
       " 'GLENDALE',\n",
       " 'HAMMELS',\n",
       " 'HILLCREST',\n",
       " 'HOLLIS',\n",
       " 'HOLLIS HILLS',\n",
       " 'HOLLISWOOD',\n",
       " 'HOWARD BEACH',\n",
       " 'JACKSON HEIGHTS',\n",
       " 'JAMAICA',\n",
       " 'JAMAICA ESTATES',\n",
       " 'JAMAICA HILLS',\n",
       " 'KEW GARDENS',\n",
       " 'LAURELTON',\n",
       " 'LITTLE NECK',\n",
       " 'LONG ISLAND CITY',\n",
       " 'MASPETH',\n",
       " 'MIDDLE VILLAGE',\n",
       " 'NEPONSIT',\n",
       " 'OAKLAND GARDENS',\n",
       " 'OZONE PARK',\n",
       " 'QUEENS VILLAGE',\n",
       " 'REGO PARK',\n",
       " 'RICHMOND HILL',\n",
       " 'RIDGEWOOD',\n",
       " 'ROCKAWAY PARK',\n",
       " 'ROSEDALE',\n",
       " 'SO. JAMAICA-BAISLEY PARK',\n",
       " 'SOUTH JAMAICA',\n",
       " 'SOUTH OZONE PARK',\n",
       " 'SPRINGFIELD GARDENS',\n",
       " 'ST. ALBANS',\n",
       " 'SUNNYSIDE',\n",
       " 'WHITESTONE',\n",
       " 'WOODHAVEN',\n",
       " 'WOODSIDE',\n",
       " 'ANNADALE',\n",
       " 'ARDEN HEIGHTS',\n",
       " 'ARROCHAR',\n",
       " 'ARROCHAR-SHORE ACRES',\n",
       " 'BLOOMFIELD',\n",
       " 'BULLS HEAD',\n",
       " 'CASTLETON CORNERS',\n",
       " 'CLOVE LAKES',\n",
       " 'CONCORD',\n",
       " 'CONCORD-FOX HILLS',\n",
       " 'DONGAN HILLS',\n",
       " 'DONGAN HILLS-COLONY',\n",
       " 'DONGAN HILLS-OLD TOWN',\n",
       " 'ELTINGVILLE',\n",
       " 'EMERSON HILL',\n",
       " 'FRESH KILLS',\n",
       " 'GRANT CITY',\n",
       " 'GRASMERE',\n",
       " 'GREAT KILLS',\n",
       " 'GREAT KILLS-BAY TERRACE',\n",
       " 'GRYMES HILL',\n",
       " 'HUGUENOT',\n",
       " 'LIVINGSTON',\n",
       " 'MANOR HEIGHTS',\n",
       " 'MARINERS HARBOR',\n",
       " 'MIDLAND BEACH',\n",
       " 'NEW BRIGHTON',\n",
       " 'NEW BRIGHTON-ST. GEORGE',\n",
       " 'NEW DORP',\n",
       " 'NEW DORP-BEACH',\n",
       " 'NEW DORP-HEIGHTS',\n",
       " 'NEW SPRINGVILLE',\n",
       " 'OAKWOOD',\n",
       " 'OAKWOOD-BEACH',\n",
       " 'PLEASANT PLAINS',\n",
       " 'PORT IVORY',\n",
       " 'PORT RICHMOND',\n",
       " 'PRINCES BAY',\n",
       " 'RICHMONDTOWN',\n",
       " 'RICHMONDTOWN-LIGHTHS HILL',\n",
       " 'ROSEBANK',\n",
       " 'ROSSVILLE',\n",
       " 'ROSSVILLE-CHARLESTON',\n",
       " 'ROSSVILLE-PORT MOBIL',\n",
       " 'ROSSVILLE-RICHMOND VALLEY',\n",
       " 'SILVER LAKE',\n",
       " 'SOUTH BEACH',\n",
       " 'STAPLETON',\n",
       " 'STAPLETON-CLIFTON',\n",
       " 'TODT HILL',\n",
       " 'TOMPKINSVILLE',\n",
       " 'TOTTENVILLE',\n",
       " 'TRAVIS',\n",
       " 'WEST NEW BRIGHTON',\n",
       " 'WESTERLEIGH',\n",
       " 'WILLOWBROOK',\n",
       " 'WOODROW']"
      ]
     },
     "execution_count": 5,
     "metadata": {},
     "output_type": "execute_result"
    }
   ],
   "source": [
    "#list 254 neighborhood\n",
    "neighborhood = list(df_nycPropertySales[\"NEIGHBORHOOD\"].unique())\n",
    "neighborhood"
   ]
  },
  {
   "cell_type": "code",
   "execution_count": 6,
   "id": "272b3898",
   "metadata": {},
   "outputs": [
    {
     "data": {
      "text/plain": [
       "254"
      ]
     },
     "execution_count": 6,
     "metadata": {},
     "output_type": "execute_result"
    }
   ],
   "source": [
    "len(neighborhood)"
   ]
  },
  {
   "cell_type": "code",
   "execution_count": 7,
   "id": "5ca26e42",
   "metadata": {},
   "outputs": [
    {
     "data": {
      "text/plain": [
       "['07 RENTALS - WALKUP APARTMENTS             ',\n",
       " '08 RENTALS - ELEVATOR APARTMENTS           ',\n",
       " '09 COOPS - WALKUP APARTMENTS               ',\n",
       " '10 COOPS - ELEVATOR APARTMENTS             ',\n",
       " '11A CONDO-RENTALS                           ',\n",
       " '12 CONDOS - WALKUP APARTMENTS              ',\n",
       " '13 CONDOS - ELEVATOR APARTMENTS            ',\n",
       " '14 RENTALS - 4-10 UNIT                     ',\n",
       " '15 CONDOS - 2-10 UNIT RESIDENTIAL          ',\n",
       " '16 CONDOS - 2-10 UNIT WITH COMMERCIAL UNIT ',\n",
       " '17 CONDO COOPS                             ',\n",
       " '22 STORE BUILDINGS                         ',\n",
       " '37 RELIGIOUS FACILITIES                    ',\n",
       " '42 CONDO CULTURAL/MEDICAL/EDUCATIONAL/ETC  ',\n",
       " '46 CONDO STORE BUILDINGS                   ',\n",
       " '47 CONDO NON-BUSINESS STORAGE              ',\n",
       " '01 ONE FAMILY DWELLINGS                    ',\n",
       " '02 TWO FAMILY DWELLINGS                    ',\n",
       " '03 THREE FAMILY DWELLINGS                  ',\n",
       " '04 TAX CLASS 1 CONDOS                      ',\n",
       " '21 OFFICE BUILDINGS                        ',\n",
       " '23 LOFT BUILDINGS                          ',\n",
       " '25 LUXURY HOTELS                           ',\n",
       " '26 OTHER HOTELS                            ',\n",
       " '28 COMMERCIAL CONDOS                       ',\n",
       " '29 COMMERCIAL GARAGES                      ',\n",
       " '35 INDOOR PUBLIC AND CULTURAL FACILITIES   ',\n",
       " '38 ASYLUMS AND HOMES                       ',\n",
       " '43 CONDO OFFICE BUILDINGS                  ',\n",
       " '44 CONDO PARKING                           ',\n",
       " '48 CONDO TERRACES/GARDENS/CABANAS          ',\n",
       " '31 COMMERCIAL VACANT LAND                  ',\n",
       " '32 HOSPITAL AND HEALTH FACILITIES          ',\n",
       " '41 TAX CLASS 4 - OTHER                     ',\n",
       " '18 TAX CLASS 3 - UNTILITY PROPERTIES       ',\n",
       " '30 WAREHOUSES                              ',\n",
       " '36 OUTDOOR RECREATIONAL FACILITIES         ',\n",
       " '49 CONDO WAREHOUSES/FACTORY/INDUS          ',\n",
       " '34 THEATRES                                ',\n",
       " '27 FACTORIES                               ',\n",
       " '40 SELECTED GOVERNMENTAL FACILITIES        ',\n",
       " '45 CONDO HOTELS                            ',\n",
       " '33 EDUCATIONAL FACILITIES                  ',\n",
       " '11 SPECIAL CONDO BILLING LOTS              ',\n",
       " '05 TAX CLASS 1 VACANT LAND                 ',\n",
       " '06 TAX CLASS 1 - OTHER                     ',\n",
       " '39 TRANSPORTATION FACILITIES               ']"
      ]
     },
     "execution_count": 7,
     "metadata": {},
     "output_type": "execute_result"
    }
   ],
   "source": [
    "#list 47 Kategori kelas bangunan\n",
    "building = list(df_nycPropertySales[\"BUILDING CLASS CATEGORY\"].unique())\n",
    "building"
   ]
  },
  {
   "cell_type": "code",
   "execution_count": 8,
   "id": "4c81d5e9",
   "metadata": {},
   "outputs": [
    {
     "data": {
      "text/plain": [
       "47"
      ]
     },
     "execution_count": 8,
     "metadata": {},
     "output_type": "execute_result"
    }
   ],
   "source": [
    "len(building)"
   ]
  },
  {
   "cell_type": "code",
   "execution_count": 9,
   "id": "a95124f4",
   "metadata": {},
   "outputs": [
    {
     "data": {
      "text/plain": [
       "['C2',\n",
       " 'C7',\n",
       " 'C4',\n",
       " 'D5',\n",
       " 'D9',\n",
       " 'D7',\n",
       " 'D1',\n",
       " 'C6',\n",
       " 'D0',\n",
       " 'D4',\n",
       " 'RR',\n",
       " 'R2',\n",
       " 'R4',\n",
       " 'S3',\n",
       " 'S4',\n",
       " 'S5',\n",
       " 'R1',\n",
       " 'R8',\n",
       " 'R9',\n",
       " 'K4',\n",
       " 'M9',\n",
       " 'M3',\n",
       " 'RA',\n",
       " 'RK',\n",
       " 'RS',\n",
       " 'A9',\n",
       " 'A4',\n",
       " 'B3',\n",
       " 'B1',\n",
       " 'S2',\n",
       " 'C0',\n",
       " 'R6',\n",
       " 'C5',\n",
       " 'C3',\n",
       " 'C1',\n",
       " 'D6',\n",
       " 'S9',\n",
       " 'O2',\n",
       " 'O1',\n",
       " 'O3',\n",
       " 'O5',\n",
       " 'O6',\n",
       " 'K1',\n",
       " 'K2',\n",
       " 'L9',\n",
       " 'L8',\n",
       " 'L1',\n",
       " 'H1',\n",
       " 'H8',\n",
       " 'H3',\n",
       " 'R5',\n",
       " 'G9',\n",
       " 'G6',\n",
       " 'P7',\n",
       " 'M1',\n",
       " 'N2',\n",
       " 'RB',\n",
       " 'RG',\n",
       " 'RT',\n",
       " 'K9',\n",
       " 'V1',\n",
       " 'GW',\n",
       " 'G2',\n",
       " 'I7',\n",
       " 'M4',\n",
       " 'Z9',\n",
       " 'B9',\n",
       " 'D3',\n",
       " 'I9',\n",
       " 'U6',\n",
       " 'O4',\n",
       " 'L3',\n",
       " 'H2',\n",
       " 'E1',\n",
       " 'Z3',\n",
       " 'Q1',\n",
       " 'RW',\n",
       " 'C9',\n",
       " 'J5',\n",
       " 'N9',\n",
       " 'S1',\n",
       " 'A5',\n",
       " 'J8',\n",
       " 'B2',\n",
       " 'C8',\n",
       " 'F5',\n",
       " 'G7',\n",
       " 'G5',\n",
       " 'G4',\n",
       " 'P2',\n",
       " 'Q9',\n",
       " 'Y1',\n",
       " 'RP',\n",
       " 'O8',\n",
       " 'HR',\n",
       " 'G1',\n",
       " 'E7',\n",
       " 'I5',\n",
       " 'R3',\n",
       " 'I4',\n",
       " 'H9',\n",
       " 'RH',\n",
       " 'D8',\n",
       " 'HB',\n",
       " 'J4',\n",
       " 'W2',\n",
       " 'P9',\n",
       " 'A7',\n",
       " 'D2',\n",
       " 'S0',\n",
       " 'O7',\n",
       " 'O9',\n",
       " 'W3',\n",
       " 'HS',\n",
       " 'H6',\n",
       " 'J9',\n",
       " 'R0',\n",
       " 'HH',\n",
       " 'W8',\n",
       " 'W6',\n",
       " 'A1',\n",
       " 'K5',\n",
       " 'F1',\n",
       " 'V9',\n",
       " 'A2',\n",
       " 'V0',\n",
       " 'G0',\n",
       " 'F4',\n",
       " 'E9',\n",
       " 'I3',\n",
       " 'W4',\n",
       " 'V3',\n",
       " 'I1',\n",
       " 'A6',\n",
       " 'Q8',\n",
       " 'A3',\n",
       " 'Z0',\n",
       " 'W1',\n",
       " 'U1',\n",
       " 'F2',\n",
       " 'F9',\n",
       " 'GU',\n",
       " 'I6',\n",
       " 'G8',\n",
       " 'P5',\n",
       " 'Y3',\n",
       " 'W9',\n",
       " 'M2',\n",
       " 'G3',\n",
       " 'V6',\n",
       " 'K7',\n",
       " 'K3',\n",
       " 'H4',\n",
       " 'R7',\n",
       " 'P8',\n",
       " 'K6',\n",
       " 'V2',\n",
       " 'E2',\n",
       " 'Z2',\n",
       " 'T2',\n",
       " 'K8',\n",
       " 'P6',\n",
       " 'A0',\n",
       " 'J1',\n",
       " 'CM',\n",
       " 'Z7']"
      ]
     },
     "execution_count": 9,
     "metadata": {},
     "output_type": "execute_result"
    }
   ],
   "source": [
    "#list 166 kelas bangunan\n",
    "building_class = list(df_nycPropertySales[\"BUILDING CLASS AT TIME OF SALE\"].unique())\n",
    "building_class"
   ]
  },
  {
   "cell_type": "code",
   "execution_count": 10,
   "id": "5c62d543",
   "metadata": {},
   "outputs": [
    {
     "data": {
      "text/plain": [
       "166"
      ]
     },
     "execution_count": 10,
     "metadata": {},
     "output_type": "execute_result"
    }
   ],
   "source": [
    "len(building_class)"
   ]
  },
  {
   "cell_type": "code",
   "execution_count": 11,
   "id": "c331e052",
   "metadata": {},
   "outputs": [
    {
     "data": {
      "text/plain": [
       "BUILDING CLASS CATEGORY\n",
       "01 ONE FAMILY DWELLINGS                         18235\n",
       "02 TWO FAMILY DWELLINGS                         15828\n",
       "03 THREE FAMILY DWELLINGS                        4384\n",
       "04 TAX CLASS 1 CONDOS                            1656\n",
       "05 TAX CLASS 1 VACANT LAND                       1248\n",
       "06 TAX CLASS 1 - OTHER                            182\n",
       "07 RENTALS - WALKUP APARTMENTS                   3466\n",
       "08 RENTALS - ELEVATOR APARTMENTS                  382\n",
       "09 COOPS - WALKUP APARTMENTS                     2767\n",
       "10 COOPS - ELEVATOR APARTMENTS                  12902\n",
       "11 SPECIAL CONDO BILLING LOTS                       2\n",
       "11A CONDO-RENTALS                                  43\n",
       "12 CONDOS - WALKUP APARTMENTS                     926\n",
       "13 CONDOS - ELEVATOR APARTMENTS                 12989\n",
       "14 RENTALS - 4-10 UNIT                            671\n",
       "15 CONDOS - 2-10 UNIT RESIDENTIAL                1281\n",
       "16 CONDOS - 2-10 UNIT WITH COMMERCIAL UNIT         96\n",
       "17 CONDO COOPS                                   1201\n",
       "18 TAX CLASS 3 - UNTILITY PROPERTIES                4\n",
       "21 OFFICE BUILDINGS                               350\n",
       "22 STORE BUILDINGS                                935\n",
       "23 LOFT BUILDINGS                                  46\n",
       "25 LUXURY HOTELS                                   12\n",
       "26 OTHER HOTELS                                   114\n",
       "27 FACTORIES                                      201\n",
       "28 COMMERCIAL CONDOS                               30\n",
       "29 COMMERCIAL GARAGES                             587\n",
       "30 WAREHOUSES                                     326\n",
       "31 COMMERCIAL VACANT LAND                         463\n",
       "32 HOSPITAL AND HEALTH FACILITIES                  59\n",
       "33 EDUCATIONAL FACILITIES                          69\n",
       "34 THEATRES                                        12\n",
       "35 INDOOR PUBLIC AND CULTURAL FACILITIES           32\n",
       "36 OUTDOOR RECREATIONAL FACILITIES                 14\n",
       "37 RELIGIOUS FACILITIES                           100\n",
       "38 ASYLUMS AND HOMES                               25\n",
       "39 TRANSPORTATION FACILITIES                        2\n",
       "40 SELECTED GOVERNMENTAL FACILITIES                 2\n",
       "41 TAX CLASS 4 - OTHER                            158\n",
       "42 CONDO CULTURAL/MEDICAL/EDUCATIONAL/ETC          13\n",
       "43 CONDO OFFICE BUILDINGS                         475\n",
       "44 CONDO PARKING                                 1441\n",
       "45 CONDO HOTELS                                   211\n",
       "46 CONDO STORE BUILDINGS                          154\n",
       "47 CONDO NON-BUSINESS STORAGE                     377\n",
       "48 CONDO TERRACES/GARDENS/CABANAS                  47\n",
       "49 CONDO WAREHOUSES/FACTORY/INDUS                  30\n",
       "dtype: int64"
      ]
     },
     "execution_count": 11,
     "metadata": {},
     "output_type": "execute_result"
    }
   ],
   "source": [
    "#Jumlah data tiap kelas bangunan\n",
    "df_DataBuilding = df_nycPropertySales.groupby(['BUILDING CLASS CATEGORY']).size()\n",
    "df_DataBuilding"
   ]
  },
  {
   "cell_type": "markdown",
   "id": "d7dee23b",
   "metadata": {},
   "source": [
    "## Interpretasi Data\n",
    "\n",
    "data df_nycPropertySales memiliki data sebanyak 84.548 data dengan 22 kolom. pada data ini memiliki kolom wilayah, dimana wilayah tersebut dibagi menjadi 5. dan lingkungan wilayah sebanyak 254, untuk kategori kelas bangunan sebanyak 47 sedangkan kelas bangunan sebanyak 166.\n"
   ]
  },
  {
   "cell_type": "markdown",
   "id": "954537a6",
   "metadata": {},
   "source": [
    "# Analisis Data"
   ]
  },
  {
   "cell_type": "markdown",
   "id": "98bfc86a",
   "metadata": {},
   "source": [
    "## Missing Value"
   ]
  },
  {
   "cell_type": "code",
   "execution_count": 12,
   "id": "02f2e468",
   "metadata": {},
   "outputs": [],
   "source": [
    "#Menghapus kolom yang tidak digunakan\n",
    "df_nycPropertySales.drop(['BLOCK','LOT','TAX CLASS AT PRESENT','EASE-MENT','APARTMENT NUMBER','ADDRESS','ZIP CODE','TAX CLASS AT TIME OF SALE'], axis=1, inplace=True)"
   ]
  },
  {
   "cell_type": "code",
   "execution_count": 13,
   "id": "5c53c1b4",
   "metadata": {},
   "outputs": [
    {
     "data": {
      "text/html": [
       "<div>\n",
       "<style scoped>\n",
       "    .dataframe tbody tr th:only-of-type {\n",
       "        vertical-align: middle;\n",
       "    }\n",
       "\n",
       "    .dataframe tbody tr th {\n",
       "        vertical-align: top;\n",
       "    }\n",
       "\n",
       "    .dataframe thead th {\n",
       "        text-align: right;\n",
       "    }\n",
       "</style>\n",
       "<table border=\"1\" class=\"dataframe\">\n",
       "  <thead>\n",
       "    <tr style=\"text-align: right;\">\n",
       "      <th></th>\n",
       "      <th>BOROUGH</th>\n",
       "      <th>NEIGHBORHOOD</th>\n",
       "      <th>BUILDING CLASS CATEGORY</th>\n",
       "      <th>BUILDING CLASS AT PRESENT</th>\n",
       "      <th>RESIDENTIAL UNITS</th>\n",
       "      <th>COMMERCIAL UNITS</th>\n",
       "      <th>TOTAL UNITS</th>\n",
       "      <th>LAND SQUARE FEET</th>\n",
       "      <th>GROSS SQUARE FEET</th>\n",
       "      <th>YEAR BUILT</th>\n",
       "      <th>BUILDING CLASS AT TIME OF SALE</th>\n",
       "      <th>SALE PRICE</th>\n",
       "      <th>SALE DATE</th>\n",
       "    </tr>\n",
       "  </thead>\n",
       "  <tbody>\n",
       "    <tr>\n",
       "      <th>0</th>\n",
       "      <td>1</td>\n",
       "      <td>ALPHABET CITY</td>\n",
       "      <td>07 RENTALS - WALKUP APARTMENTS</td>\n",
       "      <td>C2</td>\n",
       "      <td>5</td>\n",
       "      <td>0</td>\n",
       "      <td>5</td>\n",
       "      <td>1633</td>\n",
       "      <td>6440</td>\n",
       "      <td>1900</td>\n",
       "      <td>C2</td>\n",
       "      <td>6625000</td>\n",
       "      <td>2017-07-19 00:00:00</td>\n",
       "    </tr>\n",
       "    <tr>\n",
       "      <th>1</th>\n",
       "      <td>1</td>\n",
       "      <td>ALPHABET CITY</td>\n",
       "      <td>07 RENTALS - WALKUP APARTMENTS</td>\n",
       "      <td>C7</td>\n",
       "      <td>28</td>\n",
       "      <td>3</td>\n",
       "      <td>31</td>\n",
       "      <td>4616</td>\n",
       "      <td>18690</td>\n",
       "      <td>1900</td>\n",
       "      <td>C7</td>\n",
       "      <td>-</td>\n",
       "      <td>2016-12-14 00:00:00</td>\n",
       "    </tr>\n",
       "    <tr>\n",
       "      <th>2</th>\n",
       "      <td>1</td>\n",
       "      <td>ALPHABET CITY</td>\n",
       "      <td>07 RENTALS - WALKUP APARTMENTS</td>\n",
       "      <td>C7</td>\n",
       "      <td>16</td>\n",
       "      <td>1</td>\n",
       "      <td>17</td>\n",
       "      <td>2212</td>\n",
       "      <td>7803</td>\n",
       "      <td>1900</td>\n",
       "      <td>C7</td>\n",
       "      <td>-</td>\n",
       "      <td>2016-12-09 00:00:00</td>\n",
       "    </tr>\n",
       "    <tr>\n",
       "      <th>3</th>\n",
       "      <td>1</td>\n",
       "      <td>ALPHABET CITY</td>\n",
       "      <td>07 RENTALS - WALKUP APARTMENTS</td>\n",
       "      <td>C4</td>\n",
       "      <td>10</td>\n",
       "      <td>0</td>\n",
       "      <td>10</td>\n",
       "      <td>2272</td>\n",
       "      <td>6794</td>\n",
       "      <td>1913</td>\n",
       "      <td>C4</td>\n",
       "      <td>3936272</td>\n",
       "      <td>2016-09-23 00:00:00</td>\n",
       "    </tr>\n",
       "    <tr>\n",
       "      <th>4</th>\n",
       "      <td>1</td>\n",
       "      <td>ALPHABET CITY</td>\n",
       "      <td>07 RENTALS - WALKUP APARTMENTS</td>\n",
       "      <td>C2</td>\n",
       "      <td>6</td>\n",
       "      <td>0</td>\n",
       "      <td>6</td>\n",
       "      <td>2369</td>\n",
       "      <td>4615</td>\n",
       "      <td>1900</td>\n",
       "      <td>C2</td>\n",
       "      <td>8000000</td>\n",
       "      <td>2016-11-17 00:00:00</td>\n",
       "    </tr>\n",
       "    <tr>\n",
       "      <th>...</th>\n",
       "      <td>...</td>\n",
       "      <td>...</td>\n",
       "      <td>...</td>\n",
       "      <td>...</td>\n",
       "      <td>...</td>\n",
       "      <td>...</td>\n",
       "      <td>...</td>\n",
       "      <td>...</td>\n",
       "      <td>...</td>\n",
       "      <td>...</td>\n",
       "      <td>...</td>\n",
       "      <td>...</td>\n",
       "      <td>...</td>\n",
       "    </tr>\n",
       "    <tr>\n",
       "      <th>84543</th>\n",
       "      <td>5</td>\n",
       "      <td>WOODROW</td>\n",
       "      <td>02 TWO FAMILY DWELLINGS</td>\n",
       "      <td>B9</td>\n",
       "      <td>2</td>\n",
       "      <td>0</td>\n",
       "      <td>2</td>\n",
       "      <td>2400</td>\n",
       "      <td>2575</td>\n",
       "      <td>1998</td>\n",
       "      <td>B9</td>\n",
       "      <td>450000</td>\n",
       "      <td>2016-11-28 00:00:00</td>\n",
       "    </tr>\n",
       "    <tr>\n",
       "      <th>84544</th>\n",
       "      <td>5</td>\n",
       "      <td>WOODROW</td>\n",
       "      <td>02 TWO FAMILY DWELLINGS</td>\n",
       "      <td>B9</td>\n",
       "      <td>2</td>\n",
       "      <td>0</td>\n",
       "      <td>2</td>\n",
       "      <td>2498</td>\n",
       "      <td>2377</td>\n",
       "      <td>1998</td>\n",
       "      <td>B9</td>\n",
       "      <td>550000</td>\n",
       "      <td>2017-04-21 00:00:00</td>\n",
       "    </tr>\n",
       "    <tr>\n",
       "      <th>84545</th>\n",
       "      <td>5</td>\n",
       "      <td>WOODROW</td>\n",
       "      <td>02 TWO FAMILY DWELLINGS</td>\n",
       "      <td>B2</td>\n",
       "      <td>2</td>\n",
       "      <td>0</td>\n",
       "      <td>2</td>\n",
       "      <td>4000</td>\n",
       "      <td>1496</td>\n",
       "      <td>1925</td>\n",
       "      <td>B2</td>\n",
       "      <td>460000</td>\n",
       "      <td>2017-07-05 00:00:00</td>\n",
       "    </tr>\n",
       "    <tr>\n",
       "      <th>84546</th>\n",
       "      <td>5</td>\n",
       "      <td>WOODROW</td>\n",
       "      <td>22 STORE BUILDINGS</td>\n",
       "      <td>K6</td>\n",
       "      <td>0</td>\n",
       "      <td>7</td>\n",
       "      <td>7</td>\n",
       "      <td>208033</td>\n",
       "      <td>64117</td>\n",
       "      <td>2001</td>\n",
       "      <td>K6</td>\n",
       "      <td>11693337</td>\n",
       "      <td>2016-12-21 00:00:00</td>\n",
       "    </tr>\n",
       "    <tr>\n",
       "      <th>84547</th>\n",
       "      <td>5</td>\n",
       "      <td>WOODROW</td>\n",
       "      <td>35 INDOOR PUBLIC AND CULTURAL FACILITIES</td>\n",
       "      <td>P9</td>\n",
       "      <td>0</td>\n",
       "      <td>1</td>\n",
       "      <td>1</td>\n",
       "      <td>10796</td>\n",
       "      <td>2400</td>\n",
       "      <td>2006</td>\n",
       "      <td>P9</td>\n",
       "      <td>69300</td>\n",
       "      <td>2016-10-27 00:00:00</td>\n",
       "    </tr>\n",
       "  </tbody>\n",
       "</table>\n",
       "<p>84548 rows × 13 columns</p>\n",
       "</div>"
      ],
      "text/plain": [
       "       BOROUGH   NEIGHBORHOOD                      BUILDING CLASS CATEGORY  \\\n",
       "0            1  ALPHABET CITY  07 RENTALS - WALKUP APARTMENTS                \n",
       "1            1  ALPHABET CITY  07 RENTALS - WALKUP APARTMENTS                \n",
       "2            1  ALPHABET CITY  07 RENTALS - WALKUP APARTMENTS                \n",
       "3            1  ALPHABET CITY  07 RENTALS - WALKUP APARTMENTS                \n",
       "4            1  ALPHABET CITY  07 RENTALS - WALKUP APARTMENTS                \n",
       "...        ...            ...                                          ...   \n",
       "84543        5        WOODROW  02 TWO FAMILY DWELLINGS                       \n",
       "84544        5        WOODROW  02 TWO FAMILY DWELLINGS                       \n",
       "84545        5        WOODROW  02 TWO FAMILY DWELLINGS                       \n",
       "84546        5        WOODROW  22 STORE BUILDINGS                            \n",
       "84547        5        WOODROW  35 INDOOR PUBLIC AND CULTURAL FACILITIES      \n",
       "\n",
       "      BUILDING CLASS AT PRESENT  RESIDENTIAL UNITS  COMMERCIAL UNITS  \\\n",
       "0                            C2                  5                 0   \n",
       "1                            C7                 28                 3   \n",
       "2                            C7                 16                 1   \n",
       "3                            C4                 10                 0   \n",
       "4                            C2                  6                 0   \n",
       "...                         ...                ...               ...   \n",
       "84543                        B9                  2                 0   \n",
       "84544                        B9                  2                 0   \n",
       "84545                        B2                  2                 0   \n",
       "84546                        K6                  0                 7   \n",
       "84547                        P9                  0                 1   \n",
       "\n",
       "       TOTAL UNITS LAND SQUARE FEET GROSS SQUARE FEET  YEAR BUILT  \\\n",
       "0                5             1633              6440        1900   \n",
       "1               31             4616             18690        1900   \n",
       "2               17             2212              7803        1900   \n",
       "3               10             2272              6794        1913   \n",
       "4                6             2369              4615        1900   \n",
       "...            ...              ...               ...         ...   \n",
       "84543            2             2400              2575        1998   \n",
       "84544            2             2498              2377        1998   \n",
       "84545            2             4000              1496        1925   \n",
       "84546            7           208033             64117        2001   \n",
       "84547            1            10796              2400        2006   \n",
       "\n",
       "      BUILDING CLASS AT TIME OF SALE SALE PRICE            SALE DATE  \n",
       "0                                 C2    6625000  2017-07-19 00:00:00  \n",
       "1                                 C7        -    2016-12-14 00:00:00  \n",
       "2                                 C7        -    2016-12-09 00:00:00  \n",
       "3                                 C4    3936272  2016-09-23 00:00:00  \n",
       "4                                 C2    8000000  2016-11-17 00:00:00  \n",
       "...                              ...        ...                  ...  \n",
       "84543                             B9     450000  2016-11-28 00:00:00  \n",
       "84544                             B9     550000  2017-04-21 00:00:00  \n",
       "84545                             B2     460000  2017-07-05 00:00:00  \n",
       "84546                             K6   11693337  2016-12-21 00:00:00  \n",
       "84547                             P9      69300  2016-10-27 00:00:00  \n",
       "\n",
       "[84548 rows x 13 columns]"
      ]
     },
     "execution_count": 13,
     "metadata": {},
     "output_type": "execute_result"
    }
   ],
   "source": [
    "#Menghapus kolom yang tidak ada namanya\n",
    "df_nyc = df_nycPropertySales.drop(df_nycPropertySales.columns[df_nycPropertySales.columns.str.contains('Unnamed', case=False)], axis=1)\n",
    "df_nyc"
   ]
  },
  {
   "cell_type": "code",
   "execution_count": 14,
   "id": "1a55ffa8",
   "metadata": {
    "scrolled": true
   },
   "outputs": [
    {
     "name": "stdout",
     "output_type": "stream",
     "text": [
      "<class 'pandas.core.frame.DataFrame'>\n",
      "RangeIndex: 84548 entries, 0 to 84547\n",
      "Data columns (total 13 columns):\n",
      " #   Column                          Non-Null Count  Dtype \n",
      "---  ------                          --------------  ----- \n",
      " 0   BOROUGH                         84548 non-null  int64 \n",
      " 1   NEIGHBORHOOD                    84548 non-null  object\n",
      " 2   BUILDING CLASS CATEGORY         84548 non-null  object\n",
      " 3   BUILDING CLASS AT PRESENT       84548 non-null  object\n",
      " 4   RESIDENTIAL UNITS               84548 non-null  int64 \n",
      " 5   COMMERCIAL UNITS                84548 non-null  int64 \n",
      " 6   TOTAL UNITS                     84548 non-null  int64 \n",
      " 7   LAND SQUARE FEET                84548 non-null  object\n",
      " 8   GROSS SQUARE FEET               84548 non-null  object\n",
      " 9   YEAR BUILT                      84548 non-null  int64 \n",
      " 10  BUILDING CLASS AT TIME OF SALE  84548 non-null  object\n",
      " 11  SALE PRICE                      84548 non-null  object\n",
      " 12  SALE DATE                       84548 non-null  object\n",
      "dtypes: int64(5), object(8)\n",
      "memory usage: 8.4+ MB\n"
     ]
    }
   ],
   "source": [
    "df_nyc.info()"
   ]
  },
  {
   "cell_type": "code",
   "execution_count": 15,
   "id": "bc3744ff",
   "metadata": {},
   "outputs": [],
   "source": [
    "#Mengganti tipe data\n",
    "\n",
    "categoricals = ['BOROUGH', 'NEIGHBORHOOD', 'BUILDING CLASS CATEGORY',\n",
    "                'BUILDING CLASS AT TIME OF SALE','BUILDING CLASS AT PRESENT']\n",
    "\n",
    "for col in categoricals:\n",
    "    df_nyc[col] = df_nyc[col].astype('category')"
   ]
  },
  {
   "cell_type": "code",
   "execution_count": 16,
   "id": "0d61a358",
   "metadata": {
    "scrolled": true
   },
   "outputs": [
    {
     "data": {
      "text/plain": [
       "BOROUGH                           0\n",
       "NEIGHBORHOOD                      0\n",
       "BUILDING CLASS CATEGORY           0\n",
       "BUILDING CLASS AT PRESENT         0\n",
       "RESIDENTIAL UNITS                 0\n",
       "COMMERCIAL UNITS                  0\n",
       "TOTAL UNITS                       0\n",
       "LAND SQUARE FEET                  0\n",
       "GROSS SQUARE FEET                 0\n",
       "YEAR BUILT                        0\n",
       "BUILDING CLASS AT TIME OF SALE    0\n",
       "SALE PRICE                        0\n",
       "SALE DATE                         0\n",
       "dtype: int64"
      ]
     },
     "execution_count": 16,
     "metadata": {},
     "output_type": "execute_result"
    }
   ],
   "source": [
    "df_nyc.isnull().sum()"
   ]
  },
  {
   "cell_type": "code",
   "execution_count": 17,
   "id": "32fc775b",
   "metadata": {},
   "outputs": [
    {
     "data": {
      "text/plain": [
       "False"
      ]
     },
     "execution_count": 17,
     "metadata": {},
     "output_type": "execute_result"
    }
   ],
   "source": [
    "df_nyc.isnull().values.any()"
   ]
  },
  {
   "cell_type": "markdown",
   "id": "57fd6fcc",
   "metadata": {},
   "source": [
    "### Interpretasi\n",
    "\n",
    "dapat dilihat pada cells 16, terlihat tidak terdapat missing value. namun, apabila dilihat pada cells 2 terdapat kolom yang barisnya terdapat string \"-\". oleh karena itu, saya ubah data menjadi numerical/NaN. sedangkan data yang akan dianalisis menjadi 13 kolom."
   ]
  },
  {
   "cell_type": "markdown",
   "id": "da3ef74a",
   "metadata": {},
   "source": [
    "## Data Preprocessing and Cleaning"
   ]
  },
  {
   "cell_type": "markdown",
   "id": "a7c2c45e",
   "metadata": {},
   "source": [
    "### Mengubah data menjadi numerical"
   ]
  },
  {
   "cell_type": "code",
   "execution_count": 18,
   "id": "782da620",
   "metadata": {
    "scrolled": false
   },
   "outputs": [
    {
     "data": {
      "text/html": [
       "<div>\n",
       "<style scoped>\n",
       "    .dataframe tbody tr th:only-of-type {\n",
       "        vertical-align: middle;\n",
       "    }\n",
       "\n",
       "    .dataframe tbody tr th {\n",
       "        vertical-align: top;\n",
       "    }\n",
       "\n",
       "    .dataframe thead th {\n",
       "        text-align: right;\n",
       "    }\n",
       "</style>\n",
       "<table border=\"1\" class=\"dataframe\">\n",
       "  <thead>\n",
       "    <tr style=\"text-align: right;\">\n",
       "      <th></th>\n",
       "      <th>BOROUGH</th>\n",
       "      <th>NEIGHBORHOOD</th>\n",
       "      <th>BUILDING CLASS CATEGORY</th>\n",
       "      <th>BUILDING CLASS AT PRESENT</th>\n",
       "      <th>RESIDENTIAL UNITS</th>\n",
       "      <th>COMMERCIAL UNITS</th>\n",
       "      <th>TOTAL UNITS</th>\n",
       "      <th>LAND SQUARE FEET</th>\n",
       "      <th>GROSS SQUARE FEET</th>\n",
       "      <th>YEAR BUILT</th>\n",
       "      <th>BUILDING CLASS AT TIME OF SALE</th>\n",
       "      <th>SALE PRICE</th>\n",
       "      <th>SALE DATE</th>\n",
       "    </tr>\n",
       "  </thead>\n",
       "  <tbody>\n",
       "    <tr>\n",
       "      <th>0</th>\n",
       "      <td>1</td>\n",
       "      <td>ALPHABET CITY</td>\n",
       "      <td>07 RENTALS - WALKUP APARTMENTS</td>\n",
       "      <td>C2</td>\n",
       "      <td>5</td>\n",
       "      <td>0</td>\n",
       "      <td>5</td>\n",
       "      <td>1633.0</td>\n",
       "      <td>6440.0</td>\n",
       "      <td>1900</td>\n",
       "      <td>C2</td>\n",
       "      <td>6625000.0</td>\n",
       "      <td>2017-07-19 00:00:00</td>\n",
       "    </tr>\n",
       "    <tr>\n",
       "      <th>1</th>\n",
       "      <td>1</td>\n",
       "      <td>ALPHABET CITY</td>\n",
       "      <td>07 RENTALS - WALKUP APARTMENTS</td>\n",
       "      <td>C7</td>\n",
       "      <td>28</td>\n",
       "      <td>3</td>\n",
       "      <td>31</td>\n",
       "      <td>4616.0</td>\n",
       "      <td>18690.0</td>\n",
       "      <td>1900</td>\n",
       "      <td>C7</td>\n",
       "      <td>NaN</td>\n",
       "      <td>2016-12-14 00:00:00</td>\n",
       "    </tr>\n",
       "    <tr>\n",
       "      <th>2</th>\n",
       "      <td>1</td>\n",
       "      <td>ALPHABET CITY</td>\n",
       "      <td>07 RENTALS - WALKUP APARTMENTS</td>\n",
       "      <td>C7</td>\n",
       "      <td>16</td>\n",
       "      <td>1</td>\n",
       "      <td>17</td>\n",
       "      <td>2212.0</td>\n",
       "      <td>7803.0</td>\n",
       "      <td>1900</td>\n",
       "      <td>C7</td>\n",
       "      <td>NaN</td>\n",
       "      <td>2016-12-09 00:00:00</td>\n",
       "    </tr>\n",
       "    <tr>\n",
       "      <th>3</th>\n",
       "      <td>1</td>\n",
       "      <td>ALPHABET CITY</td>\n",
       "      <td>07 RENTALS - WALKUP APARTMENTS</td>\n",
       "      <td>C4</td>\n",
       "      <td>10</td>\n",
       "      <td>0</td>\n",
       "      <td>10</td>\n",
       "      <td>2272.0</td>\n",
       "      <td>6794.0</td>\n",
       "      <td>1913</td>\n",
       "      <td>C4</td>\n",
       "      <td>3936272.0</td>\n",
       "      <td>2016-09-23 00:00:00</td>\n",
       "    </tr>\n",
       "    <tr>\n",
       "      <th>4</th>\n",
       "      <td>1</td>\n",
       "      <td>ALPHABET CITY</td>\n",
       "      <td>07 RENTALS - WALKUP APARTMENTS</td>\n",
       "      <td>C2</td>\n",
       "      <td>6</td>\n",
       "      <td>0</td>\n",
       "      <td>6</td>\n",
       "      <td>2369.0</td>\n",
       "      <td>4615.0</td>\n",
       "      <td>1900</td>\n",
       "      <td>C2</td>\n",
       "      <td>8000000.0</td>\n",
       "      <td>2016-11-17 00:00:00</td>\n",
       "    </tr>\n",
       "  </tbody>\n",
       "</table>\n",
       "</div>"
      ],
      "text/plain": [
       "  BOROUGH   NEIGHBORHOOD                      BUILDING CLASS CATEGORY  \\\n",
       "0       1  ALPHABET CITY  07 RENTALS - WALKUP APARTMENTS                \n",
       "1       1  ALPHABET CITY  07 RENTALS - WALKUP APARTMENTS                \n",
       "2       1  ALPHABET CITY  07 RENTALS - WALKUP APARTMENTS                \n",
       "3       1  ALPHABET CITY  07 RENTALS - WALKUP APARTMENTS                \n",
       "4       1  ALPHABET CITY  07 RENTALS - WALKUP APARTMENTS                \n",
       "\n",
       "  BUILDING CLASS AT PRESENT  RESIDENTIAL UNITS  COMMERCIAL UNITS  TOTAL UNITS  \\\n",
       "0                        C2                  5                 0            5   \n",
       "1                        C7                 28                 3           31   \n",
       "2                        C7                 16                 1           17   \n",
       "3                        C4                 10                 0           10   \n",
       "4                        C2                  6                 0            6   \n",
       "\n",
       "   LAND SQUARE FEET  GROSS SQUARE FEET  YEAR BUILT  \\\n",
       "0            1633.0             6440.0        1900   \n",
       "1            4616.0            18690.0        1900   \n",
       "2            2212.0             7803.0        1900   \n",
       "3            2272.0             6794.0        1913   \n",
       "4            2369.0             4615.0        1900   \n",
       "\n",
       "  BUILDING CLASS AT TIME OF SALE  SALE PRICE            SALE DATE  \n",
       "0                             C2   6625000.0  2017-07-19 00:00:00  \n",
       "1                             C7         NaN  2016-12-14 00:00:00  \n",
       "2                             C7         NaN  2016-12-09 00:00:00  \n",
       "3                             C4   3936272.0  2016-09-23 00:00:00  \n",
       "4                             C2   8000000.0  2016-11-17 00:00:00  "
      ]
     },
     "execution_count": 18,
     "metadata": {},
     "output_type": "execute_result"
    }
   ],
   "source": [
    "num = ['LAND SQUARE FEET',\n",
    "       'GROSS SQUARE FEET',\n",
    "       'SALE PRICE'\n",
    "      ]\n",
    "\n",
    "for col in num:\n",
    "    df_nyc[col] = pd.to_numeric(df_nyc[col], errors='coerce')\n",
    "\n",
    "df_nyc.head()"
   ]
  },
  {
   "cell_type": "code",
   "execution_count": 19,
   "id": "1bc40b87",
   "metadata": {
    "scrolled": true
   },
   "outputs": [
    {
     "data": {
      "text/plain": [
       "BOROUGH                               0\n",
       "NEIGHBORHOOD                          0\n",
       "BUILDING CLASS CATEGORY               0\n",
       "BUILDING CLASS AT PRESENT             0\n",
       "RESIDENTIAL UNITS                     0\n",
       "COMMERCIAL UNITS                      0\n",
       "TOTAL UNITS                           0\n",
       "LAND SQUARE FEET                  26252\n",
       "GROSS SQUARE FEET                 27612\n",
       "YEAR BUILT                            0\n",
       "BUILDING CLASS AT TIME OF SALE        0\n",
       "SALE PRICE                        14561\n",
       "SALE DATE                             0\n",
       "dtype: int64"
      ]
     },
     "execution_count": 19,
     "metadata": {},
     "output_type": "execute_result"
    }
   ],
   "source": [
    "df_nyc.isnull().sum()"
   ]
  },
  {
   "cell_type": "markdown",
   "id": "f0d6d25c",
   "metadata": {},
   "source": [
    "### Menghapus Data Missing"
   ]
  },
  {
   "cell_type": "code",
   "execution_count": 20,
   "id": "42b80bc4",
   "metadata": {},
   "outputs": [],
   "source": [
    "df_nyc = df_nyc.dropna()"
   ]
  },
  {
   "cell_type": "code",
   "execution_count": 21,
   "id": "d50e75d1",
   "metadata": {
    "scrolled": false
   },
   "outputs": [
    {
     "data": {
      "text/plain": [
       "BOROUGH                           False\n",
       "NEIGHBORHOOD                      False\n",
       "BUILDING CLASS CATEGORY           False\n",
       "BUILDING CLASS AT PRESENT         False\n",
       "RESIDENTIAL UNITS                 False\n",
       "COMMERCIAL UNITS                  False\n",
       "TOTAL UNITS                       False\n",
       "LAND SQUARE FEET                  False\n",
       "GROSS SQUARE FEET                 False\n",
       "YEAR BUILT                        False\n",
       "BUILDING CLASS AT TIME OF SALE    False\n",
       "SALE PRICE                        False\n",
       "SALE DATE                         False\n",
       "dtype: bool"
      ]
     },
     "execution_count": 21,
     "metadata": {},
     "output_type": "execute_result"
    }
   ],
   "source": [
    "df_nyc.isnull().any()"
   ]
  },
  {
   "cell_type": "code",
   "execution_count": 22,
   "id": "9e3f5e35",
   "metadata": {},
   "outputs": [
    {
     "data": {
      "text/plain": [
       "(48244, 13)"
      ]
     },
     "execution_count": 22,
     "metadata": {},
     "output_type": "execute_result"
    }
   ],
   "source": [
    "df_nyc.shape"
   ]
  },
  {
   "cell_type": "markdown",
   "id": "4c2a29ab",
   "metadata": {},
   "source": [
    "### Mengecek duplikat value"
   ]
  },
  {
   "cell_type": "code",
   "execution_count": 23,
   "id": "969ce9a8",
   "metadata": {},
   "outputs": [
    {
     "data": {
      "text/plain": [
       "959"
      ]
     },
     "execution_count": 23,
     "metadata": {},
     "output_type": "execute_result"
    }
   ],
   "source": [
    "df_nyc.duplicated().sum()"
   ]
  },
  {
   "cell_type": "code",
   "execution_count": 24,
   "id": "61b5e5ac",
   "metadata": {},
   "outputs": [],
   "source": [
    "df_nyc = df_nyc.drop_duplicates(df_nyc.columns, keep='last')"
   ]
  },
  {
   "cell_type": "code",
   "execution_count": 25,
   "id": "4202b948",
   "metadata": {
    "scrolled": true
   },
   "outputs": [
    {
     "data": {
      "text/plain": [
       "0"
      ]
     },
     "execution_count": 25,
     "metadata": {},
     "output_type": "execute_result"
    }
   ],
   "source": [
    "df_nyc.duplicated().sum()"
   ]
  },
  {
   "cell_type": "code",
   "execution_count": 26,
   "id": "cf315b99",
   "metadata": {},
   "outputs": [
    {
     "data": {
      "text/plain": [
       "(47285, 13)"
      ]
     },
     "execution_count": 26,
     "metadata": {},
     "output_type": "execute_result"
    }
   ],
   "source": [
    "df_nyc.shape"
   ]
  },
  {
   "cell_type": "code",
   "execution_count": 27,
   "id": "31430d93",
   "metadata": {},
   "outputs": [
    {
     "data": {
      "text/html": [
       "<div>\n",
       "<style scoped>\n",
       "    .dataframe tbody tr th:only-of-type {\n",
       "        vertical-align: middle;\n",
       "    }\n",
       "\n",
       "    .dataframe tbody tr th {\n",
       "        vertical-align: top;\n",
       "    }\n",
       "\n",
       "    .dataframe thead th {\n",
       "        text-align: right;\n",
       "    }\n",
       "</style>\n",
       "<table border=\"1\" class=\"dataframe\">\n",
       "  <thead>\n",
       "    <tr style=\"text-align: right;\">\n",
       "      <th></th>\n",
       "      <th>BOROUGH</th>\n",
       "      <th>NEIGHBORHOOD</th>\n",
       "      <th>BUILDING CLASS CATEGORY</th>\n",
       "      <th>BUILDING CLASS AT PRESENT</th>\n",
       "      <th>RESIDENTIAL UNITS</th>\n",
       "      <th>COMMERCIAL UNITS</th>\n",
       "      <th>TOTAL UNITS</th>\n",
       "      <th>LAND SQUARE FEET</th>\n",
       "      <th>GROSS SQUARE FEET</th>\n",
       "      <th>YEAR BUILT</th>\n",
       "      <th>BUILDING CLASS AT TIME OF SALE</th>\n",
       "      <th>SALE PRICE</th>\n",
       "      <th>SALE DATE</th>\n",
       "    </tr>\n",
       "  </thead>\n",
       "  <tbody>\n",
       "    <tr>\n",
       "      <th>0</th>\n",
       "      <td>1</td>\n",
       "      <td>ALPHABET CITY</td>\n",
       "      <td>07 RENTALS - WALKUP APARTMENTS</td>\n",
       "      <td>C2</td>\n",
       "      <td>5</td>\n",
       "      <td>0</td>\n",
       "      <td>5</td>\n",
       "      <td>1633.0</td>\n",
       "      <td>6440.0</td>\n",
       "      <td>1900</td>\n",
       "      <td>C2</td>\n",
       "      <td>6625000.0</td>\n",
       "      <td>2017-07-19 00:00:00</td>\n",
       "    </tr>\n",
       "    <tr>\n",
       "      <th>3</th>\n",
       "      <td>1</td>\n",
       "      <td>ALPHABET CITY</td>\n",
       "      <td>07 RENTALS - WALKUP APARTMENTS</td>\n",
       "      <td>C4</td>\n",
       "      <td>10</td>\n",
       "      <td>0</td>\n",
       "      <td>10</td>\n",
       "      <td>2272.0</td>\n",
       "      <td>6794.0</td>\n",
       "      <td>1913</td>\n",
       "      <td>C4</td>\n",
       "      <td>3936272.0</td>\n",
       "      <td>2016-09-23 00:00:00</td>\n",
       "    </tr>\n",
       "    <tr>\n",
       "      <th>4</th>\n",
       "      <td>1</td>\n",
       "      <td>ALPHABET CITY</td>\n",
       "      <td>07 RENTALS - WALKUP APARTMENTS</td>\n",
       "      <td>C2</td>\n",
       "      <td>6</td>\n",
       "      <td>0</td>\n",
       "      <td>6</td>\n",
       "      <td>2369.0</td>\n",
       "      <td>4615.0</td>\n",
       "      <td>1900</td>\n",
       "      <td>C2</td>\n",
       "      <td>8000000.0</td>\n",
       "      <td>2016-11-17 00:00:00</td>\n",
       "    </tr>\n",
       "    <tr>\n",
       "      <th>6</th>\n",
       "      <td>1</td>\n",
       "      <td>ALPHABET CITY</td>\n",
       "      <td>07 RENTALS - WALKUP APARTMENTS</td>\n",
       "      <td>C4</td>\n",
       "      <td>8</td>\n",
       "      <td>0</td>\n",
       "      <td>8</td>\n",
       "      <td>1750.0</td>\n",
       "      <td>4226.0</td>\n",
       "      <td>1920</td>\n",
       "      <td>C4</td>\n",
       "      <td>3192840.0</td>\n",
       "      <td>2016-09-23 00:00:00</td>\n",
       "    </tr>\n",
       "    <tr>\n",
       "      <th>9</th>\n",
       "      <td>1</td>\n",
       "      <td>ALPHABET CITY</td>\n",
       "      <td>08 RENTALS - ELEVATOR APARTMENTS</td>\n",
       "      <td>D9</td>\n",
       "      <td>24</td>\n",
       "      <td>0</td>\n",
       "      <td>24</td>\n",
       "      <td>4489.0</td>\n",
       "      <td>18523.0</td>\n",
       "      <td>1920</td>\n",
       "      <td>D9</td>\n",
       "      <td>16232000.0</td>\n",
       "      <td>2016-11-07 00:00:00</td>\n",
       "    </tr>\n",
       "  </tbody>\n",
       "</table>\n",
       "</div>"
      ],
      "text/plain": [
       "  BOROUGH   NEIGHBORHOOD                      BUILDING CLASS CATEGORY  \\\n",
       "0       1  ALPHABET CITY  07 RENTALS - WALKUP APARTMENTS                \n",
       "3       1  ALPHABET CITY  07 RENTALS - WALKUP APARTMENTS                \n",
       "4       1  ALPHABET CITY  07 RENTALS - WALKUP APARTMENTS                \n",
       "6       1  ALPHABET CITY  07 RENTALS - WALKUP APARTMENTS                \n",
       "9       1  ALPHABET CITY  08 RENTALS - ELEVATOR APARTMENTS              \n",
       "\n",
       "  BUILDING CLASS AT PRESENT  RESIDENTIAL UNITS  COMMERCIAL UNITS  TOTAL UNITS  \\\n",
       "0                        C2                  5                 0            5   \n",
       "3                        C4                 10                 0           10   \n",
       "4                        C2                  6                 0            6   \n",
       "6                        C4                  8                 0            8   \n",
       "9                        D9                 24                 0           24   \n",
       "\n",
       "   LAND SQUARE FEET  GROSS SQUARE FEET  YEAR BUILT  \\\n",
       "0            1633.0             6440.0        1900   \n",
       "3            2272.0             6794.0        1913   \n",
       "4            2369.0             4615.0        1900   \n",
       "6            1750.0             4226.0        1920   \n",
       "9            4489.0            18523.0        1920   \n",
       "\n",
       "  BUILDING CLASS AT TIME OF SALE  SALE PRICE            SALE DATE  \n",
       "0                             C2   6625000.0  2017-07-19 00:00:00  \n",
       "3                             C4   3936272.0  2016-09-23 00:00:00  \n",
       "4                             C2   8000000.0  2016-11-17 00:00:00  \n",
       "6                             C4   3192840.0  2016-09-23 00:00:00  \n",
       "9                             D9  16232000.0  2016-11-07 00:00:00  "
      ]
     },
     "execution_count": 27,
     "metadata": {},
     "output_type": "execute_result"
    }
   ],
   "source": [
    "df_nyc.head()"
   ]
  },
  {
   "cell_type": "code",
   "execution_count": 28,
   "id": "6e80b992",
   "metadata": {
    "scrolled": true
   },
   "outputs": [
    {
     "data": {
      "text/html": [
       "<div>\n",
       "<style scoped>\n",
       "    .dataframe tbody tr th:only-of-type {\n",
       "        vertical-align: middle;\n",
       "    }\n",
       "\n",
       "    .dataframe tbody tr th {\n",
       "        vertical-align: top;\n",
       "    }\n",
       "\n",
       "    .dataframe thead th {\n",
       "        text-align: right;\n",
       "    }\n",
       "</style>\n",
       "<table border=\"1\" class=\"dataframe\">\n",
       "  <thead>\n",
       "    <tr style=\"text-align: right;\">\n",
       "      <th></th>\n",
       "      <th>BOROUGH</th>\n",
       "      <th>NEIGHBORHOOD</th>\n",
       "      <th>BUILDING CLASS CATEGORY</th>\n",
       "      <th>BUILDING CLASS AT PRESENT</th>\n",
       "      <th>RESIDENTIAL UNITS</th>\n",
       "      <th>COMMERCIAL UNITS</th>\n",
       "      <th>TOTAL UNITS</th>\n",
       "      <th>LAND SQUARE FEET</th>\n",
       "      <th>GROSS SQUARE FEET</th>\n",
       "      <th>YEAR BUILT</th>\n",
       "      <th>BUILDING CLASS AT TIME OF SALE</th>\n",
       "      <th>SALE PRICE</th>\n",
       "      <th>SALE DATE</th>\n",
       "    </tr>\n",
       "  </thead>\n",
       "  <tbody>\n",
       "    <tr>\n",
       "      <th>84543</th>\n",
       "      <td>5</td>\n",
       "      <td>WOODROW</td>\n",
       "      <td>02 TWO FAMILY DWELLINGS</td>\n",
       "      <td>B9</td>\n",
       "      <td>2</td>\n",
       "      <td>0</td>\n",
       "      <td>2</td>\n",
       "      <td>2400.0</td>\n",
       "      <td>2575.0</td>\n",
       "      <td>1998</td>\n",
       "      <td>B9</td>\n",
       "      <td>450000.0</td>\n",
       "      <td>2016-11-28 00:00:00</td>\n",
       "    </tr>\n",
       "    <tr>\n",
       "      <th>84544</th>\n",
       "      <td>5</td>\n",
       "      <td>WOODROW</td>\n",
       "      <td>02 TWO FAMILY DWELLINGS</td>\n",
       "      <td>B9</td>\n",
       "      <td>2</td>\n",
       "      <td>0</td>\n",
       "      <td>2</td>\n",
       "      <td>2498.0</td>\n",
       "      <td>2377.0</td>\n",
       "      <td>1998</td>\n",
       "      <td>B9</td>\n",
       "      <td>550000.0</td>\n",
       "      <td>2017-04-21 00:00:00</td>\n",
       "    </tr>\n",
       "    <tr>\n",
       "      <th>84545</th>\n",
       "      <td>5</td>\n",
       "      <td>WOODROW</td>\n",
       "      <td>02 TWO FAMILY DWELLINGS</td>\n",
       "      <td>B2</td>\n",
       "      <td>2</td>\n",
       "      <td>0</td>\n",
       "      <td>2</td>\n",
       "      <td>4000.0</td>\n",
       "      <td>1496.0</td>\n",
       "      <td>1925</td>\n",
       "      <td>B2</td>\n",
       "      <td>460000.0</td>\n",
       "      <td>2017-07-05 00:00:00</td>\n",
       "    </tr>\n",
       "    <tr>\n",
       "      <th>84546</th>\n",
       "      <td>5</td>\n",
       "      <td>WOODROW</td>\n",
       "      <td>22 STORE BUILDINGS</td>\n",
       "      <td>K6</td>\n",
       "      <td>0</td>\n",
       "      <td>7</td>\n",
       "      <td>7</td>\n",
       "      <td>208033.0</td>\n",
       "      <td>64117.0</td>\n",
       "      <td>2001</td>\n",
       "      <td>K6</td>\n",
       "      <td>11693337.0</td>\n",
       "      <td>2016-12-21 00:00:00</td>\n",
       "    </tr>\n",
       "    <tr>\n",
       "      <th>84547</th>\n",
       "      <td>5</td>\n",
       "      <td>WOODROW</td>\n",
       "      <td>35 INDOOR PUBLIC AND CULTURAL FACILITIES</td>\n",
       "      <td>P9</td>\n",
       "      <td>0</td>\n",
       "      <td>1</td>\n",
       "      <td>1</td>\n",
       "      <td>10796.0</td>\n",
       "      <td>2400.0</td>\n",
       "      <td>2006</td>\n",
       "      <td>P9</td>\n",
       "      <td>69300.0</td>\n",
       "      <td>2016-10-27 00:00:00</td>\n",
       "    </tr>\n",
       "  </tbody>\n",
       "</table>\n",
       "</div>"
      ],
      "text/plain": [
       "      BOROUGH NEIGHBORHOOD                      BUILDING CLASS CATEGORY  \\\n",
       "84543       5      WOODROW  02 TWO FAMILY DWELLINGS                       \n",
       "84544       5      WOODROW  02 TWO FAMILY DWELLINGS                       \n",
       "84545       5      WOODROW  02 TWO FAMILY DWELLINGS                       \n",
       "84546       5      WOODROW  22 STORE BUILDINGS                            \n",
       "84547       5      WOODROW  35 INDOOR PUBLIC AND CULTURAL FACILITIES      \n",
       "\n",
       "      BUILDING CLASS AT PRESENT  RESIDENTIAL UNITS  COMMERCIAL UNITS  \\\n",
       "84543                        B9                  2                 0   \n",
       "84544                        B9                  2                 0   \n",
       "84545                        B2                  2                 0   \n",
       "84546                        K6                  0                 7   \n",
       "84547                        P9                  0                 1   \n",
       "\n",
       "       TOTAL UNITS  LAND SQUARE FEET  GROSS SQUARE FEET  YEAR BUILT  \\\n",
       "84543            2            2400.0             2575.0        1998   \n",
       "84544            2            2498.0             2377.0        1998   \n",
       "84545            2            4000.0             1496.0        1925   \n",
       "84546            7          208033.0            64117.0        2001   \n",
       "84547            1           10796.0             2400.0        2006   \n",
       "\n",
       "      BUILDING CLASS AT TIME OF SALE  SALE PRICE            SALE DATE  \n",
       "84543                             B9    450000.0  2016-11-28 00:00:00  \n",
       "84544                             B9    550000.0  2017-04-21 00:00:00  \n",
       "84545                             B2    460000.0  2017-07-05 00:00:00  \n",
       "84546                             K6  11693337.0  2016-12-21 00:00:00  \n",
       "84547                             P9     69300.0  2016-10-27 00:00:00  "
      ]
     },
     "execution_count": 28,
     "metadata": {},
     "output_type": "execute_result"
    }
   ],
   "source": [
    "df_nyc.tail()"
   ]
  },
  {
   "cell_type": "markdown",
   "id": "7678153b",
   "metadata": {},
   "source": [
    "### Interpretasi\n",
    "\n",
    "setelah data diubah menjadi numerical, dapat dilihat diatas bahwa terdapat missing pada kolom LAND SQUARE FEET sebanyak 26.252, kolom GROSS SQUARE FEET   sebanuak 27.612 dan kolom SALE PRICE sebanyak 14.561. dengan demikian dilakukan cleaning data/menghapus data missing value karena data missing lebih dari 25%. dan setelah menghapus missing value diperoleh data sebanyak 48.244 data, namun sebelum dilakukan analisis dan dicek missing value kita perlu mengecek apakah data tersebut duplikat atau tidak, setelah dicek terdapat 959 data duplikat. oleh karena itu kita perlu menghapus data duplikat dan diperoleh data sebanyak 47.285"
   ]
  },
  {
   "cell_type": "markdown",
   "id": "a8c2c9a5",
   "metadata": {},
   "source": [
    "### Jumlah data berdasarkan year built = 0"
   ]
  },
  {
   "cell_type": "code",
   "execution_count": 29,
   "id": "5ab04a06",
   "metadata": {},
   "outputs": [
    {
     "data": {
      "text/plain": [
       "(2704, 13)"
      ]
     },
     "execution_count": 29,
     "metadata": {},
     "output_type": "execute_result"
    }
   ],
   "source": [
    "df_year = df_nyc[df_nyc[\"YEAR BUILT\"] == 0]\n",
    "df_year.shape"
   ]
  },
  {
   "cell_type": "code",
   "execution_count": 30,
   "id": "51398b68",
   "metadata": {
    "scrolled": true
   },
   "outputs": [],
   "source": [
    "#Mengganti nilai 0 pada year built dengan nilai median\n",
    "median = df_nyc['YEAR BUILT'].median()\n",
    "df_nyc['YEAR BUILT'].replace(0,median, inplace=True)"
   ]
  },
  {
   "cell_type": "code",
   "execution_count": 31,
   "id": "f150f2cd",
   "metadata": {},
   "outputs": [
    {
     "data": {
      "text/plain": [
       "1931.0"
      ]
     },
     "execution_count": 31,
     "metadata": {},
     "output_type": "execute_result"
    }
   ],
   "source": [
    "median"
   ]
  },
  {
   "cell_type": "code",
   "execution_count": 32,
   "id": "bc9b3fb8",
   "metadata": {
    "scrolled": false
   },
   "outputs": [
    {
     "data": {
      "text/html": [
       "<div>\n",
       "<style scoped>\n",
       "    .dataframe tbody tr th:only-of-type {\n",
       "        vertical-align: middle;\n",
       "    }\n",
       "\n",
       "    .dataframe tbody tr th {\n",
       "        vertical-align: top;\n",
       "    }\n",
       "\n",
       "    .dataframe thead th {\n",
       "        text-align: right;\n",
       "    }\n",
       "</style>\n",
       "<table border=\"1\" class=\"dataframe\">\n",
       "  <thead>\n",
       "    <tr style=\"text-align: right;\">\n",
       "      <th></th>\n",
       "      <th>BOROUGH</th>\n",
       "      <th>NEIGHBORHOOD</th>\n",
       "      <th>BUILDING CLASS CATEGORY</th>\n",
       "      <th>BUILDING CLASS AT PRESENT</th>\n",
       "      <th>RESIDENTIAL UNITS</th>\n",
       "      <th>COMMERCIAL UNITS</th>\n",
       "      <th>TOTAL UNITS</th>\n",
       "      <th>LAND SQUARE FEET</th>\n",
       "      <th>GROSS SQUARE FEET</th>\n",
       "      <th>YEAR BUILT</th>\n",
       "      <th>BUILDING CLASS AT TIME OF SALE</th>\n",
       "      <th>SALE PRICE</th>\n",
       "      <th>SALE DATE</th>\n",
       "    </tr>\n",
       "  </thead>\n",
       "  <tbody>\n",
       "    <tr>\n",
       "      <th>0</th>\n",
       "      <td>1</td>\n",
       "      <td>ALPHABET CITY</td>\n",
       "      <td>07 RENTALS - WALKUP APARTMENTS</td>\n",
       "      <td>C2</td>\n",
       "      <td>5</td>\n",
       "      <td>0</td>\n",
       "      <td>5</td>\n",
       "      <td>1633.0</td>\n",
       "      <td>6440.0</td>\n",
       "      <td>1900</td>\n",
       "      <td>C2</td>\n",
       "      <td>6625000.0</td>\n",
       "      <td>2017-07-19 00:00:00</td>\n",
       "    </tr>\n",
       "    <tr>\n",
       "      <th>3</th>\n",
       "      <td>1</td>\n",
       "      <td>ALPHABET CITY</td>\n",
       "      <td>07 RENTALS - WALKUP APARTMENTS</td>\n",
       "      <td>C4</td>\n",
       "      <td>10</td>\n",
       "      <td>0</td>\n",
       "      <td>10</td>\n",
       "      <td>2272.0</td>\n",
       "      <td>6794.0</td>\n",
       "      <td>1913</td>\n",
       "      <td>C4</td>\n",
       "      <td>3936272.0</td>\n",
       "      <td>2016-09-23 00:00:00</td>\n",
       "    </tr>\n",
       "    <tr>\n",
       "      <th>4</th>\n",
       "      <td>1</td>\n",
       "      <td>ALPHABET CITY</td>\n",
       "      <td>07 RENTALS - WALKUP APARTMENTS</td>\n",
       "      <td>C2</td>\n",
       "      <td>6</td>\n",
       "      <td>0</td>\n",
       "      <td>6</td>\n",
       "      <td>2369.0</td>\n",
       "      <td>4615.0</td>\n",
       "      <td>1900</td>\n",
       "      <td>C2</td>\n",
       "      <td>8000000.0</td>\n",
       "      <td>2016-11-17 00:00:00</td>\n",
       "    </tr>\n",
       "    <tr>\n",
       "      <th>6</th>\n",
       "      <td>1</td>\n",
       "      <td>ALPHABET CITY</td>\n",
       "      <td>07 RENTALS - WALKUP APARTMENTS</td>\n",
       "      <td>C4</td>\n",
       "      <td>8</td>\n",
       "      <td>0</td>\n",
       "      <td>8</td>\n",
       "      <td>1750.0</td>\n",
       "      <td>4226.0</td>\n",
       "      <td>1920</td>\n",
       "      <td>C4</td>\n",
       "      <td>3192840.0</td>\n",
       "      <td>2016-09-23 00:00:00</td>\n",
       "    </tr>\n",
       "    <tr>\n",
       "      <th>9</th>\n",
       "      <td>1</td>\n",
       "      <td>ALPHABET CITY</td>\n",
       "      <td>08 RENTALS - ELEVATOR APARTMENTS</td>\n",
       "      <td>D9</td>\n",
       "      <td>24</td>\n",
       "      <td>0</td>\n",
       "      <td>24</td>\n",
       "      <td>4489.0</td>\n",
       "      <td>18523.0</td>\n",
       "      <td>1920</td>\n",
       "      <td>D9</td>\n",
       "      <td>16232000.0</td>\n",
       "      <td>2016-11-07 00:00:00</td>\n",
       "    </tr>\n",
       "  </tbody>\n",
       "</table>\n",
       "</div>"
      ],
      "text/plain": [
       "  BOROUGH   NEIGHBORHOOD                      BUILDING CLASS CATEGORY  \\\n",
       "0       1  ALPHABET CITY  07 RENTALS - WALKUP APARTMENTS                \n",
       "3       1  ALPHABET CITY  07 RENTALS - WALKUP APARTMENTS                \n",
       "4       1  ALPHABET CITY  07 RENTALS - WALKUP APARTMENTS                \n",
       "6       1  ALPHABET CITY  07 RENTALS - WALKUP APARTMENTS                \n",
       "9       1  ALPHABET CITY  08 RENTALS - ELEVATOR APARTMENTS              \n",
       "\n",
       "  BUILDING CLASS AT PRESENT  RESIDENTIAL UNITS  COMMERCIAL UNITS  TOTAL UNITS  \\\n",
       "0                        C2                  5                 0            5   \n",
       "3                        C4                 10                 0           10   \n",
       "4                        C2                  6                 0            6   \n",
       "6                        C4                  8                 0            8   \n",
       "9                        D9                 24                 0           24   \n",
       "\n",
       "   LAND SQUARE FEET  GROSS SQUARE FEET  YEAR BUILT  \\\n",
       "0            1633.0             6440.0        1900   \n",
       "3            2272.0             6794.0        1913   \n",
       "4            2369.0             4615.0        1900   \n",
       "6            1750.0             4226.0        1920   \n",
       "9            4489.0            18523.0        1920   \n",
       "\n",
       "  BUILDING CLASS AT TIME OF SALE  SALE PRICE            SALE DATE  \n",
       "0                             C2   6625000.0  2017-07-19 00:00:00  \n",
       "3                             C4   3936272.0  2016-09-23 00:00:00  \n",
       "4                             C2   8000000.0  2016-11-17 00:00:00  \n",
       "6                             C4   3192840.0  2016-09-23 00:00:00  \n",
       "9                             D9  16232000.0  2016-11-07 00:00:00  "
      ]
     },
     "execution_count": 32,
     "metadata": {},
     "output_type": "execute_result"
    }
   ],
   "source": [
    "df_nyc.head()"
   ]
  },
  {
   "cell_type": "markdown",
   "id": "f465d4f4",
   "metadata": {},
   "source": [
    "### Interpretasi\n",
    "\n",
    "dapat dilihat juga pada cells 29, mengecek data year built karena terdapat 2.704 data yang barisnya berisi 0. oleh karena itu, data yang bernilai 0 di replace dengan median dari year built yaitu tahun 1931."
   ]
  },
  {
   "cell_type": "markdown",
   "id": "62f65cc1",
   "metadata": {},
   "source": [
    "### Mapping pada kolom Borough\n",
    "\n",
    "Merubah kolom borough yang masih berupa angka, diubah menjadi nama borough sesuai dengan keterangan yang ada pada isi dataset"
   ]
  },
  {
   "cell_type": "code",
   "execution_count": 33,
   "id": "98877dd8",
   "metadata": {
    "scrolled": true
   },
   "outputs": [
    {
     "data": {
      "text/html": [
       "<div>\n",
       "<style scoped>\n",
       "    .dataframe tbody tr th:only-of-type {\n",
       "        vertical-align: middle;\n",
       "    }\n",
       "\n",
       "    .dataframe tbody tr th {\n",
       "        vertical-align: top;\n",
       "    }\n",
       "\n",
       "    .dataframe thead th {\n",
       "        text-align: right;\n",
       "    }\n",
       "</style>\n",
       "<table border=\"1\" class=\"dataframe\">\n",
       "  <thead>\n",
       "    <tr style=\"text-align: right;\">\n",
       "      <th></th>\n",
       "      <th>BOROUGH</th>\n",
       "      <th>NEIGHBORHOOD</th>\n",
       "      <th>BUILDING CLASS CATEGORY</th>\n",
       "      <th>BUILDING CLASS AT PRESENT</th>\n",
       "      <th>RESIDENTIAL UNITS</th>\n",
       "      <th>COMMERCIAL UNITS</th>\n",
       "      <th>TOTAL UNITS</th>\n",
       "      <th>LAND SQUARE FEET</th>\n",
       "      <th>GROSS SQUARE FEET</th>\n",
       "      <th>YEAR BUILT</th>\n",
       "      <th>BUILDING CLASS AT TIME OF SALE</th>\n",
       "      <th>SALE PRICE</th>\n",
       "      <th>SALE DATE</th>\n",
       "    </tr>\n",
       "  </thead>\n",
       "  <tbody>\n",
       "    <tr>\n",
       "      <th>0</th>\n",
       "      <td>Manhattan</td>\n",
       "      <td>ALPHABET CITY</td>\n",
       "      <td>07 RENTALS - WALKUP APARTMENTS</td>\n",
       "      <td>C2</td>\n",
       "      <td>5</td>\n",
       "      <td>0</td>\n",
       "      <td>5</td>\n",
       "      <td>1633.0</td>\n",
       "      <td>6440.0</td>\n",
       "      <td>1900</td>\n",
       "      <td>C2</td>\n",
       "      <td>6625000.0</td>\n",
       "      <td>2017-07-19 00:00:00</td>\n",
       "    </tr>\n",
       "    <tr>\n",
       "      <th>3</th>\n",
       "      <td>Manhattan</td>\n",
       "      <td>ALPHABET CITY</td>\n",
       "      <td>07 RENTALS - WALKUP APARTMENTS</td>\n",
       "      <td>C4</td>\n",
       "      <td>10</td>\n",
       "      <td>0</td>\n",
       "      <td>10</td>\n",
       "      <td>2272.0</td>\n",
       "      <td>6794.0</td>\n",
       "      <td>1913</td>\n",
       "      <td>C4</td>\n",
       "      <td>3936272.0</td>\n",
       "      <td>2016-09-23 00:00:00</td>\n",
       "    </tr>\n",
       "    <tr>\n",
       "      <th>4</th>\n",
       "      <td>Manhattan</td>\n",
       "      <td>ALPHABET CITY</td>\n",
       "      <td>07 RENTALS - WALKUP APARTMENTS</td>\n",
       "      <td>C2</td>\n",
       "      <td>6</td>\n",
       "      <td>0</td>\n",
       "      <td>6</td>\n",
       "      <td>2369.0</td>\n",
       "      <td>4615.0</td>\n",
       "      <td>1900</td>\n",
       "      <td>C2</td>\n",
       "      <td>8000000.0</td>\n",
       "      <td>2016-11-17 00:00:00</td>\n",
       "    </tr>\n",
       "    <tr>\n",
       "      <th>6</th>\n",
       "      <td>Manhattan</td>\n",
       "      <td>ALPHABET CITY</td>\n",
       "      <td>07 RENTALS - WALKUP APARTMENTS</td>\n",
       "      <td>C4</td>\n",
       "      <td>8</td>\n",
       "      <td>0</td>\n",
       "      <td>8</td>\n",
       "      <td>1750.0</td>\n",
       "      <td>4226.0</td>\n",
       "      <td>1920</td>\n",
       "      <td>C4</td>\n",
       "      <td>3192840.0</td>\n",
       "      <td>2016-09-23 00:00:00</td>\n",
       "    </tr>\n",
       "    <tr>\n",
       "      <th>9</th>\n",
       "      <td>Manhattan</td>\n",
       "      <td>ALPHABET CITY</td>\n",
       "      <td>08 RENTALS - ELEVATOR APARTMENTS</td>\n",
       "      <td>D9</td>\n",
       "      <td>24</td>\n",
       "      <td>0</td>\n",
       "      <td>24</td>\n",
       "      <td>4489.0</td>\n",
       "      <td>18523.0</td>\n",
       "      <td>1920</td>\n",
       "      <td>D9</td>\n",
       "      <td>16232000.0</td>\n",
       "      <td>2016-11-07 00:00:00</td>\n",
       "    </tr>\n",
       "  </tbody>\n",
       "</table>\n",
       "</div>"
      ],
      "text/plain": [
       "     BOROUGH   NEIGHBORHOOD                      BUILDING CLASS CATEGORY  \\\n",
       "0  Manhattan  ALPHABET CITY  07 RENTALS - WALKUP APARTMENTS                \n",
       "3  Manhattan  ALPHABET CITY  07 RENTALS - WALKUP APARTMENTS                \n",
       "4  Manhattan  ALPHABET CITY  07 RENTALS - WALKUP APARTMENTS                \n",
       "6  Manhattan  ALPHABET CITY  07 RENTALS - WALKUP APARTMENTS                \n",
       "9  Manhattan  ALPHABET CITY  08 RENTALS - ELEVATOR APARTMENTS              \n",
       "\n",
       "  BUILDING CLASS AT PRESENT  RESIDENTIAL UNITS  COMMERCIAL UNITS  TOTAL UNITS  \\\n",
       "0                        C2                  5                 0            5   \n",
       "3                        C4                 10                 0           10   \n",
       "4                        C2                  6                 0            6   \n",
       "6                        C4                  8                 0            8   \n",
       "9                        D9                 24                 0           24   \n",
       "\n",
       "   LAND SQUARE FEET  GROSS SQUARE FEET  YEAR BUILT  \\\n",
       "0            1633.0             6440.0        1900   \n",
       "3            2272.0             6794.0        1913   \n",
       "4            2369.0             4615.0        1900   \n",
       "6            1750.0             4226.0        1920   \n",
       "9            4489.0            18523.0        1920   \n",
       "\n",
       "  BUILDING CLASS AT TIME OF SALE  SALE PRICE            SALE DATE  \n",
       "0                             C2   6625000.0  2017-07-19 00:00:00  \n",
       "3                             C4   3936272.0  2016-09-23 00:00:00  \n",
       "4                             C2   8000000.0  2016-11-17 00:00:00  \n",
       "6                             C4   3192840.0  2016-09-23 00:00:00  \n",
       "9                             D9  16232000.0  2016-11-07 00:00:00  "
      ]
     },
     "execution_count": 33,
     "metadata": {},
     "output_type": "execute_result"
    }
   ],
   "source": [
    "df_nyc['BOROUGH'] = df_nyc['BOROUGH'].map({1:'Manhattan', 2:'Bronx', 3: 'Brooklyn', 4:'Queens',5:'Staten Island'})\n",
    "df_nyc.head()"
   ]
  },
  {
   "cell_type": "markdown",
   "id": "a771a796",
   "metadata": {},
   "source": [
    "### Mengecek Outlier"
   ]
  },
  {
   "cell_type": "code",
   "execution_count": 34,
   "id": "ea06cf79",
   "metadata": {},
   "outputs": [
    {
     "data": {
      "text/html": [
       "<div>\n",
       "<style scoped>\n",
       "    .dataframe tbody tr th:only-of-type {\n",
       "        vertical-align: middle;\n",
       "    }\n",
       "\n",
       "    .dataframe tbody tr th {\n",
       "        vertical-align: top;\n",
       "    }\n",
       "\n",
       "    .dataframe thead th {\n",
       "        text-align: right;\n",
       "    }\n",
       "</style>\n",
       "<table border=\"1\" class=\"dataframe\">\n",
       "  <thead>\n",
       "    <tr style=\"text-align: right;\">\n",
       "      <th></th>\n",
       "      <th>RESIDENTIAL UNITS</th>\n",
       "      <th>COMMERCIAL UNITS</th>\n",
       "      <th>TOTAL UNITS</th>\n",
       "      <th>LAND SQUARE FEET</th>\n",
       "      <th>GROSS SQUARE FEET</th>\n",
       "      <th>YEAR BUILT</th>\n",
       "      <th>SALE PRICE</th>\n",
       "    </tr>\n",
       "  </thead>\n",
       "  <tbody>\n",
       "    <tr>\n",
       "      <th>count</th>\n",
       "      <td>47285.000000</td>\n",
       "      <td>47285.000000</td>\n",
       "      <td>47285.000000</td>\n",
       "      <td>4.728500e+04</td>\n",
       "      <td>4.728500e+04</td>\n",
       "      <td>47285.000000</td>\n",
       "      <td>4.728500e+04</td>\n",
       "    </tr>\n",
       "    <tr>\n",
       "      <th>mean</th>\n",
       "      <td>2.514053</td>\n",
       "      <td>0.239717</td>\n",
       "      <td>2.770561</td>\n",
       "      <td>3.291470e+03</td>\n",
       "      <td>3.530269e+03</td>\n",
       "      <td>1943.939093</td>\n",
       "      <td>1.171341e+06</td>\n",
       "    </tr>\n",
       "    <tr>\n",
       "      <th>std</th>\n",
       "      <td>16.532690</td>\n",
       "      <td>10.915300</td>\n",
       "      <td>19.935527</td>\n",
       "      <td>3.071844e+04</td>\n",
       "      <td>2.916192e+04</td>\n",
       "      <td>33.177129</td>\n",
       "      <td>1.352859e+07</td>\n",
       "    </tr>\n",
       "    <tr>\n",
       "      <th>min</th>\n",
       "      <td>0.000000</td>\n",
       "      <td>0.000000</td>\n",
       "      <td>0.000000</td>\n",
       "      <td>0.000000e+00</td>\n",
       "      <td>0.000000e+00</td>\n",
       "      <td>1800.000000</td>\n",
       "      <td>0.000000e+00</td>\n",
       "    </tr>\n",
       "    <tr>\n",
       "      <th>25%</th>\n",
       "      <td>1.000000</td>\n",
       "      <td>0.000000</td>\n",
       "      <td>1.000000</td>\n",
       "      <td>1.463000e+03</td>\n",
       "      <td>8.840000e+02</td>\n",
       "      <td>1920.000000</td>\n",
       "      <td>1.247340e+05</td>\n",
       "    </tr>\n",
       "    <tr>\n",
       "      <th>50%</th>\n",
       "      <td>1.000000</td>\n",
       "      <td>0.000000</td>\n",
       "      <td>1.000000</td>\n",
       "      <td>2.150000e+03</td>\n",
       "      <td>1.628000e+03</td>\n",
       "      <td>1931.000000</td>\n",
       "      <td>4.900000e+05</td>\n",
       "    </tr>\n",
       "    <tr>\n",
       "      <th>75%</th>\n",
       "      <td>2.000000</td>\n",
       "      <td>0.000000</td>\n",
       "      <td>2.000000</td>\n",
       "      <td>3.088000e+03</td>\n",
       "      <td>2.520000e+03</td>\n",
       "      <td>1960.000000</td>\n",
       "      <td>8.400000e+05</td>\n",
       "    </tr>\n",
       "    <tr>\n",
       "      <th>max</th>\n",
       "      <td>1844.000000</td>\n",
       "      <td>2261.000000</td>\n",
       "      <td>2261.000000</td>\n",
       "      <td>4.228300e+06</td>\n",
       "      <td>3.750565e+06</td>\n",
       "      <td>2017.000000</td>\n",
       "      <td>2.210000e+09</td>\n",
       "    </tr>\n",
       "  </tbody>\n",
       "</table>\n",
       "</div>"
      ],
      "text/plain": [
       "       RESIDENTIAL UNITS  COMMERCIAL UNITS   TOTAL UNITS  LAND SQUARE FEET  \\\n",
       "count       47285.000000      47285.000000  47285.000000      4.728500e+04   \n",
       "mean            2.514053          0.239717      2.770561      3.291470e+03   \n",
       "std            16.532690         10.915300     19.935527      3.071844e+04   \n",
       "min             0.000000          0.000000      0.000000      0.000000e+00   \n",
       "25%             1.000000          0.000000      1.000000      1.463000e+03   \n",
       "50%             1.000000          0.000000      1.000000      2.150000e+03   \n",
       "75%             2.000000          0.000000      2.000000      3.088000e+03   \n",
       "max          1844.000000       2261.000000   2261.000000      4.228300e+06   \n",
       "\n",
       "       GROSS SQUARE FEET    YEAR BUILT    SALE PRICE  \n",
       "count       4.728500e+04  47285.000000  4.728500e+04  \n",
       "mean        3.530269e+03   1943.939093  1.171341e+06  \n",
       "std         2.916192e+04     33.177129  1.352859e+07  \n",
       "min         0.000000e+00   1800.000000  0.000000e+00  \n",
       "25%         8.840000e+02   1920.000000  1.247340e+05  \n",
       "50%         1.628000e+03   1931.000000  4.900000e+05  \n",
       "75%         2.520000e+03   1960.000000  8.400000e+05  \n",
       "max         3.750565e+06   2017.000000  2.210000e+09  "
      ]
     },
     "execution_count": 34,
     "metadata": {},
     "output_type": "execute_result"
    }
   ],
   "source": [
    "df_nyc.describe()"
   ]
  },
  {
   "cell_type": "code",
   "execution_count": 35,
   "id": "be771b91",
   "metadata": {
    "scrolled": true
   },
   "outputs": [
    {
     "name": "stderr",
     "output_type": "stream",
     "text": [
      "C:\\Users\\Rizqatasyaa\\anaconda3\\lib\\site-packages\\seaborn\\_decorators.py:36: FutureWarning: Pass the following variable as a keyword arg: x. From version 0.12, the only valid positional argument will be `data`, and passing other arguments without an explicit keyword will result in an error or misinterpretation.\n",
      "  warnings.warn(\n"
     ]
    },
    {
     "data": {
      "text/plain": [
       "<AxesSubplot:xlabel='SALE PRICE'>"
      ]
     },
     "execution_count": 35,
     "metadata": {},
     "output_type": "execute_result"
    },
    {
     "data": {
      "image/png": "[encoded data removed]",
      "text/plain": [
       "<Figure size 432x288 with 1 Axes>"
      ]
     },
     "metadata": {
      "needs_background": "light"
     },
     "output_type": "display_data"
    }
   ],
   "source": [
    "sns.boxplot(df_nyc['SALE PRICE'])"
   ]
  },
  {
   "cell_type": "markdown",
   "id": "9eac6d0f",
   "metadata": {},
   "source": [
    "### Interpretasi\n",
    "\n",
    "dapat dilihat pada boxplot diatas, terlihat bahwa data harga penjualan properti di newyork terdapat pencilan atau nilai ekstrim yaitu 2.210.000.000, oleh karena itu perlu diatasi agar outlier pada data ini hilang. "
   ]
  },
  {
   "cell_type": "code",
   "execution_count": 36,
   "id": "175c5802",
   "metadata": {
    "scrolled": true
   },
   "outputs": [
    {
     "data": {
      "text/html": [
       "<div>\n",
       "<style scoped>\n",
       "    .dataframe tbody tr th:only-of-type {\n",
       "        vertical-align: middle;\n",
       "    }\n",
       "\n",
       "    .dataframe tbody tr th {\n",
       "        vertical-align: top;\n",
       "    }\n",
       "\n",
       "    .dataframe thead th {\n",
       "        text-align: right;\n",
       "    }\n",
       "</style>\n",
       "<table border=\"1\" class=\"dataframe\">\n",
       "  <thead>\n",
       "    <tr style=\"text-align: right;\">\n",
       "      <th></th>\n",
       "      <th>RESIDENTIAL UNITS</th>\n",
       "      <th>COMMERCIAL UNITS</th>\n",
       "      <th>TOTAL UNITS</th>\n",
       "      <th>LAND SQUARE FEET</th>\n",
       "      <th>GROSS SQUARE FEET</th>\n",
       "      <th>YEAR BUILT</th>\n",
       "      <th>SALE PRICE</th>\n",
       "    </tr>\n",
       "  </thead>\n",
       "  <tbody>\n",
       "    <tr>\n",
       "      <th>count</th>\n",
       "      <td>44064.000000</td>\n",
       "      <td>44064.000000</td>\n",
       "      <td>44064.000000</td>\n",
       "      <td>4.406400e+04</td>\n",
       "      <td>4.406400e+04</td>\n",
       "      <td>44064.000000</td>\n",
       "      <td>4.406400e+04</td>\n",
       "    </tr>\n",
       "    <tr>\n",
       "      <th>mean</th>\n",
       "      <td>1.941086</td>\n",
       "      <td>0.155705</td>\n",
       "      <td>2.114651</td>\n",
       "      <td>2.847442e+03</td>\n",
       "      <td>2.493790e+03</td>\n",
       "      <td>1944.540033</td>\n",
       "      <td>4.947348e+05</td>\n",
       "    </tr>\n",
       "    <tr>\n",
       "      <th>std</th>\n",
       "      <td>12.852568</td>\n",
       "      <td>10.859766</td>\n",
       "      <td>16.907784</td>\n",
       "      <td>2.562290e+04</td>\n",
       "      <td>2.392048e+04</td>\n",
       "      <td>32.720223</td>\n",
       "      <td>4.318727e+05</td>\n",
       "    </tr>\n",
       "    <tr>\n",
       "      <th>min</th>\n",
       "      <td>0.000000</td>\n",
       "      <td>0.000000</td>\n",
       "      <td>0.000000</td>\n",
       "      <td>0.000000e+00</td>\n",
       "      <td>0.000000e+00</td>\n",
       "      <td>1800.000000</td>\n",
       "      <td>0.000000e+00</td>\n",
       "    </tr>\n",
       "    <tr>\n",
       "      <th>25%</th>\n",
       "      <td>1.000000</td>\n",
       "      <td>0.000000</td>\n",
       "      <td>1.000000</td>\n",
       "      <td>1.430750e+03</td>\n",
       "      <td>8.400000e+02</td>\n",
       "      <td>1920.000000</td>\n",
       "      <td>5.000000e+04</td>\n",
       "    </tr>\n",
       "    <tr>\n",
       "      <th>50%</th>\n",
       "      <td>1.000000</td>\n",
       "      <td>0.000000</td>\n",
       "      <td>1.000000</td>\n",
       "      <td>2.125000e+03</td>\n",
       "      <td>1.575000e+03</td>\n",
       "      <td>1931.000000</td>\n",
       "      <td>4.550000e+05</td>\n",
       "    </tr>\n",
       "    <tr>\n",
       "      <th>75%</th>\n",
       "      <td>2.000000</td>\n",
       "      <td>0.000000</td>\n",
       "      <td>2.000000</td>\n",
       "      <td>3.000000e+03</td>\n",
       "      <td>2.365000e+03</td>\n",
       "      <td>1960.000000</td>\n",
       "      <td>7.450000e+05</td>\n",
       "    </tr>\n",
       "    <tr>\n",
       "      <th>max</th>\n",
       "      <td>1844.000000</td>\n",
       "      <td>2261.000000</td>\n",
       "      <td>2261.000000</td>\n",
       "      <td>4.228300e+06</td>\n",
       "      <td>3.750565e+06</td>\n",
       "      <td>2017.000000</td>\n",
       "      <td>1.910000e+06</td>\n",
       "    </tr>\n",
       "  </tbody>\n",
       "</table>\n",
       "</div>"
      ],
      "text/plain": [
       "       RESIDENTIAL UNITS  COMMERCIAL UNITS   TOTAL UNITS  LAND SQUARE FEET  \\\n",
       "count       44064.000000      44064.000000  44064.000000      4.406400e+04   \n",
       "mean            1.941086          0.155705      2.114651      2.847442e+03   \n",
       "std            12.852568         10.859766     16.907784      2.562290e+04   \n",
       "min             0.000000          0.000000      0.000000      0.000000e+00   \n",
       "25%             1.000000          0.000000      1.000000      1.430750e+03   \n",
       "50%             1.000000          0.000000      1.000000      2.125000e+03   \n",
       "75%             2.000000          0.000000      2.000000      3.000000e+03   \n",
       "max          1844.000000       2261.000000   2261.000000      4.228300e+06   \n",
       "\n",
       "       GROSS SQUARE FEET    YEAR BUILT    SALE PRICE  \n",
       "count       4.406400e+04  44064.000000  4.406400e+04  \n",
       "mean        2.493790e+03   1944.540033  4.947348e+05  \n",
       "std         2.392048e+04     32.720223  4.318727e+05  \n",
       "min         0.000000e+00   1800.000000  0.000000e+00  \n",
       "25%         8.400000e+02   1920.000000  5.000000e+04  \n",
       "50%         1.575000e+03   1931.000000  4.550000e+05  \n",
       "75%         2.365000e+03   1960.000000  7.450000e+05  \n",
       "max         3.750565e+06   2017.000000  1.910000e+06  "
      ]
     },
     "execution_count": 36,
     "metadata": {},
     "output_type": "execute_result"
    }
   ],
   "source": [
    "#Deteksi Outlier\n",
    "def remove_outlier(df_nyc, sale_price):\n",
    "    Q1 = df_nyc[\"SALE PRICE\"].quantile(0.25)\n",
    "    Q3 = df_nyc[\"SALE PRICE\"].quantile(0.75)\n",
    "    IQR = Q3 - Q1\n",
    "    maximum = Q3 + (1.5*IQR)\n",
    "    minimum = Q1 - (1.5*IQR)\n",
    "    df_out = df_nyc.loc[(df_nyc[\"SALE PRICE\"] < maximum) & (df_nyc[\"SALE PRICE\"] > minimum)]\n",
    "    return df_out\n",
    "\n",
    "df_fill = remove_outlier(df_nyc, df_nyc[\"SALE PRICE\"])\n",
    "df_fill.describe()"
   ]
  },
  {
   "cell_type": "code",
   "execution_count": 37,
   "id": "a358567a",
   "metadata": {
    "scrolled": true
   },
   "outputs": [
    {
     "name": "stderr",
     "output_type": "stream",
     "text": [
      "C:\\Users\\Rizqatasyaa\\anaconda3\\lib\\site-packages\\seaborn\\_decorators.py:36: FutureWarning: Pass the following variable as a keyword arg: x. From version 0.12, the only valid positional argument will be `data`, and passing other arguments without an explicit keyword will result in an error or misinterpretation.\n",
      "  warnings.warn(\n"
     ]
    },
    {
     "data": {
      "text/plain": [
       "<AxesSubplot:xlabel='SALE PRICE'>"
      ]
     },
     "execution_count": 37,
     "metadata": {},
     "output_type": "execute_result"
    },
    {
     "data": {
      "image/png": "[encoded data removed]",
      "text/plain": [
       "<Figure size 432x288 with 1 Axes>"
      ]
     },
     "metadata": {
      "needs_background": "light"
     },
     "output_type": "display_data"
    }
   ],
   "source": [
    "sns.boxplot(df_fill['SALE PRICE'])"
   ]
  },
  {
   "cell_type": "markdown",
   "id": "d75a0254",
   "metadata": {},
   "source": [
    "### Interpretasi\n",
    "\n",
    "setelah meremove outlier, dan diperoleh nilai maksimum pada kolom SALE PRICE adalah sekitar 2.000.000 USD, sedangkan nilai kuartil 1 sekitar 50.000 USD dan kuartil 3 sekitar 750.000 USD. Maka dari itu, akan dilihat distribusi frekuensi kolom SALE PRICE dimana nilai penjualan dibawah 50.000 USD tidak ikut dianalis dan berdasarkan boxplot diatas, penjualan diatas 1.750.000 USD tidak ikut dianalisis karena merupakan nilai outlier."
   ]
  },
  {
   "cell_type": "code",
   "execution_count": 38,
   "id": "80ed1844",
   "metadata": {
    "scrolled": true
   },
   "outputs": [
    {
     "data": {
      "text/plain": [
       "Text(0.5, 1.0, 'Distribusi SALE PRICE')"
      ]
     },
     "execution_count": 38,
     "metadata": {},
     "output_type": "execute_result"
    },
    {
     "data": {
      "image/png": "[encoded data removed]",
      "text/plain": [
       "<Figure size 360x360 with 1 Axes>"
      ]
     },
     "metadata": {
      "needs_background": "light"
     },
     "output_type": "display_data"
    }
   ],
   "source": [
    "df_fill = df_fill[(df_fill['SALE PRICE']>50000) & (df_fill['SALE PRICE']<1750000)]\n",
    "sns.displot(df_fill['SALE PRICE'], kde=True, bins=50)\n",
    "plt.title('Distribusi SALE PRICE')"
   ]
  },
  {
   "cell_type": "markdown",
   "id": "92683809",
   "metadata": {},
   "source": [
    "### Cek LAND SQUARE FEET dan GROSS SQUARE FEET\n",
    "\n",
    "pada kolom ini terdapat nilai 0, sehingga baris yang mengandung nilai 0 pada kedua kolom ini tidak ikut dianalisis, karena ukuran lahan properti ini tidak sesuai/tidak memungkinkan bernilai 0"
   ]
  },
  {
   "cell_type": "code",
   "execution_count": 39,
   "id": "6d84045a",
   "metadata": {},
   "outputs": [],
   "source": [
    "df_sales = df_fill[df_fill['LAND SQUARE FEET'] != 0]\n",
    "df_sales = df_fill[df_fill['GROSS SQUARE FEET'] != 0]"
   ]
  },
  {
   "cell_type": "markdown",
   "id": "e29148cc",
   "metadata": {},
   "source": [
    "### Cek TOTAL UNITS"
   ]
  },
  {
   "cell_type": "code",
   "execution_count": 40,
   "id": "0493072a",
   "metadata": {},
   "outputs": [
    {
     "data": {
      "text/html": [
       "<div>\n",
       "<style scoped>\n",
       "    .dataframe tbody tr th:only-of-type {\n",
       "        vertical-align: middle;\n",
       "    }\n",
       "\n",
       "    .dataframe tbody tr th {\n",
       "        vertical-align: top;\n",
       "    }\n",
       "\n",
       "    .dataframe thead th {\n",
       "        text-align: right;\n",
       "    }\n",
       "</style>\n",
       "<table border=\"1\" class=\"dataframe\">\n",
       "  <thead>\n",
       "    <tr style=\"text-align: right;\">\n",
       "      <th></th>\n",
       "      <th>SALE PRICE</th>\n",
       "    </tr>\n",
       "    <tr>\n",
       "      <th>TOTAL UNITS</th>\n",
       "      <th></th>\n",
       "    </tr>\n",
       "  </thead>\n",
       "  <tbody>\n",
       "    <tr>\n",
       "      <th>1</th>\n",
       "      <td>15994</td>\n",
       "    </tr>\n",
       "    <tr>\n",
       "      <th>2</th>\n",
       "      <td>9164</td>\n",
       "    </tr>\n",
       "    <tr>\n",
       "      <th>0</th>\n",
       "      <td>3820</td>\n",
       "    </tr>\n",
       "    <tr>\n",
       "      <th>3</th>\n",
       "      <td>2459</td>\n",
       "    </tr>\n",
       "    <tr>\n",
       "      <th>4</th>\n",
       "      <td>550</td>\n",
       "    </tr>\n",
       "    <tr>\n",
       "      <th>...</th>\n",
       "      <td>...</td>\n",
       "    </tr>\n",
       "    <tr>\n",
       "      <th>72</th>\n",
       "      <td>1</td>\n",
       "    </tr>\n",
       "    <tr>\n",
       "      <th>75</th>\n",
       "      <td>1</td>\n",
       "    </tr>\n",
       "    <tr>\n",
       "      <th>84</th>\n",
       "      <td>1</td>\n",
       "    </tr>\n",
       "    <tr>\n",
       "      <th>86</th>\n",
       "      <td>1</td>\n",
       "    </tr>\n",
       "    <tr>\n",
       "      <th>2261</th>\n",
       "      <td>1</td>\n",
       "    </tr>\n",
       "  </tbody>\n",
       "</table>\n",
       "<p>63 rows × 1 columns</p>\n",
       "</div>"
      ],
      "text/plain": [
       "             SALE PRICE\n",
       "TOTAL UNITS            \n",
       "1                 15994\n",
       "2                  9164\n",
       "0                  3820\n",
       "3                  2459\n",
       "4                   550\n",
       "...                 ...\n",
       "72                    1\n",
       "75                    1\n",
       "84                    1\n",
       "86                    1\n",
       "2261                  1\n",
       "\n",
       "[63 rows x 1 columns]"
      ]
     },
     "execution_count": 40,
     "metadata": {},
     "output_type": "execute_result"
    }
   ],
   "source": [
    "df_fill[['TOTAL UNITS','SALE PRICE']].groupby(['TOTAL UNITS']).count().sort_values(by='SALE PRICE',ascending=False)"
   ]
  },
  {
   "cell_type": "code",
   "execution_count": 41,
   "id": "3e4e9c3c",
   "metadata": {},
   "outputs": [],
   "source": [
    "df_sales = df_fill[(df_fill['TOTAL UNITS'] > 0) & (df_fill['TOTAL UNITS'] != 2261)]"
   ]
  },
  {
   "cell_type": "markdown",
   "id": "c0b1c4ff",
   "metadata": {},
   "source": [
    "### Interpretasi\n",
    "\n",
    "Berdasarkan tabel diatas, diketahui bahwa terdapat 1 gedung properti yang memiliki total unit 2.261 yang artinya nilai tersebut tidak signifikan atau tidak sesuai. sehingga baris ini tidak ikut dalam analisis."
   ]
  },
  {
   "cell_type": "markdown",
   "id": "4d287042",
   "metadata": {},
   "source": [
    "# Final Data\n",
    "\n",
    "setelah dilakukan preprocessing dan data cleaning, dihasilkan data sebanyak 28.795 dan 13 kolom."
   ]
  },
  {
   "cell_type": "code",
   "execution_count": 42,
   "id": "f4c01f5a",
   "metadata": {},
   "outputs": [
    {
     "data": {
      "text/plain": [
       "(28795, 13)"
      ]
     },
     "execution_count": 42,
     "metadata": {},
     "output_type": "execute_result"
    }
   ],
   "source": [
    "df_sales.shape"
   ]
  },
  {
   "cell_type": "code",
   "execution_count": 43,
   "id": "154ab8b2",
   "metadata": {},
   "outputs": [
    {
     "name": "stdout",
     "output_type": "stream",
     "text": [
      "<class 'pandas.core.frame.DataFrame'>\n",
      "Int64Index: 28795 entries, 222 to 84547\n",
      "Data columns (total 13 columns):\n",
      " #   Column                          Non-Null Count  Dtype   \n",
      "---  ------                          --------------  -----   \n",
      " 0   BOROUGH                         28795 non-null  category\n",
      " 1   NEIGHBORHOOD                    28795 non-null  category\n",
      " 2   BUILDING CLASS CATEGORY         28795 non-null  category\n",
      " 3   BUILDING CLASS AT PRESENT       28795 non-null  category\n",
      " 4   RESIDENTIAL UNITS               28795 non-null  int64   \n",
      " 5   COMMERCIAL UNITS                28795 non-null  int64   \n",
      " 6   TOTAL UNITS                     28795 non-null  int64   \n",
      " 7   LAND SQUARE FEET                28795 non-null  float64 \n",
      " 8   GROSS SQUARE FEET               28795 non-null  float64 \n",
      " 9   YEAR BUILT                      28795 non-null  int64   \n",
      " 10  BUILDING CLASS AT TIME OF SALE  28795 non-null  category\n",
      " 11  SALE PRICE                      28795 non-null  float64 \n",
      " 12  SALE DATE                       28795 non-null  object  \n",
      "dtypes: category(5), float64(3), int64(4), object(1)\n",
      "memory usage: 2.2+ MB\n"
     ]
    }
   ],
   "source": [
    "df_sales.info()"
   ]
  },
  {
   "cell_type": "code",
   "execution_count": 44,
   "id": "9f387d5b",
   "metadata": {
    "scrolled": false
   },
   "outputs": [
    {
     "data": {
      "text/html": [
       "<div>\n",
       "<style scoped>\n",
       "    .dataframe tbody tr th:only-of-type {\n",
       "        vertical-align: middle;\n",
       "    }\n",
       "\n",
       "    .dataframe tbody tr th {\n",
       "        vertical-align: top;\n",
       "    }\n",
       "\n",
       "    .dataframe thead th {\n",
       "        text-align: right;\n",
       "    }\n",
       "</style>\n",
       "<table border=\"1\" class=\"dataframe\">\n",
       "  <thead>\n",
       "    <tr style=\"text-align: right;\">\n",
       "      <th></th>\n",
       "      <th>RESIDENTIAL UNITS</th>\n",
       "      <th>COMMERCIAL UNITS</th>\n",
       "      <th>TOTAL UNITS</th>\n",
       "      <th>LAND SQUARE FEET</th>\n",
       "      <th>GROSS SQUARE FEET</th>\n",
       "      <th>YEAR BUILT</th>\n",
       "      <th>SALE PRICE</th>\n",
       "    </tr>\n",
       "  </thead>\n",
       "  <tbody>\n",
       "    <tr>\n",
       "      <th>count</th>\n",
       "      <td>28795.000000</td>\n",
       "      <td>28795.000000</td>\n",
       "      <td>28795.000000</td>\n",
       "      <td>2.879500e+04</td>\n",
       "      <td>2.879500e+04</td>\n",
       "      <td>28795.000000</td>\n",
       "      <td>2.879500e+04</td>\n",
       "    </tr>\n",
       "    <tr>\n",
       "      <th>mean</th>\n",
       "      <td>1.846571</td>\n",
       "      <td>0.070394</td>\n",
       "      <td>1.920611</td>\n",
       "      <td>2.998456e+03</td>\n",
       "      <td>2.156157e+03</td>\n",
       "      <td>1946.450043</td>\n",
       "      <td>6.731770e+05</td>\n",
       "    </tr>\n",
       "    <tr>\n",
       "      <th>std</th>\n",
       "      <td>12.610407</td>\n",
       "      <td>0.886962</td>\n",
       "      <td>12.767614</td>\n",
       "      <td>2.825191e+04</td>\n",
       "      <td>2.380774e+04</td>\n",
       "      <td>33.780905</td>\n",
       "      <td>3.462644e+05</td>\n",
       "    </tr>\n",
       "    <tr>\n",
       "      <th>min</th>\n",
       "      <td>0.000000</td>\n",
       "      <td>0.000000</td>\n",
       "      <td>1.000000</td>\n",
       "      <td>0.000000e+00</td>\n",
       "      <td>0.000000e+00</td>\n",
       "      <td>1800.000000</td>\n",
       "      <td>5.020000e+04</td>\n",
       "    </tr>\n",
       "    <tr>\n",
       "      <th>25%</th>\n",
       "      <td>1.000000</td>\n",
       "      <td>0.000000</td>\n",
       "      <td>1.000000</td>\n",
       "      <td>1.800000e+03</td>\n",
       "      <td>1.156000e+03</td>\n",
       "      <td>1920.000000</td>\n",
       "      <td>4.250000e+05</td>\n",
       "    </tr>\n",
       "    <tr>\n",
       "      <th>50%</th>\n",
       "      <td>1.000000</td>\n",
       "      <td>0.000000</td>\n",
       "      <td>1.000000</td>\n",
       "      <td>2.400000e+03</td>\n",
       "      <td>1.600000e+03</td>\n",
       "      <td>1935.000000</td>\n",
       "      <td>6.000000e+05</td>\n",
       "    </tr>\n",
       "    <tr>\n",
       "      <th>75%</th>\n",
       "      <td>2.000000</td>\n",
       "      <td>0.000000</td>\n",
       "      <td>2.000000</td>\n",
       "      <td>3.400000e+03</td>\n",
       "      <td>2.250000e+03</td>\n",
       "      <td>1965.000000</td>\n",
       "      <td>8.600000e+05</td>\n",
       "    </tr>\n",
       "    <tr>\n",
       "      <th>max</th>\n",
       "      <td>1844.000000</td>\n",
       "      <td>126.000000</td>\n",
       "      <td>1866.000000</td>\n",
       "      <td>4.228300e+06</td>\n",
       "      <td>3.750565e+06</td>\n",
       "      <td>2017.000000</td>\n",
       "      <td>1.749000e+06</td>\n",
       "    </tr>\n",
       "  </tbody>\n",
       "</table>\n",
       "</div>"
      ],
      "text/plain": [
       "       RESIDENTIAL UNITS  COMMERCIAL UNITS   TOTAL UNITS  LAND SQUARE FEET  \\\n",
       "count       28795.000000      28795.000000  28795.000000      2.879500e+04   \n",
       "mean            1.846571          0.070394      1.920611      2.998456e+03   \n",
       "std            12.610407          0.886962     12.767614      2.825191e+04   \n",
       "min             0.000000          0.000000      1.000000      0.000000e+00   \n",
       "25%             1.000000          0.000000      1.000000      1.800000e+03   \n",
       "50%             1.000000          0.000000      1.000000      2.400000e+03   \n",
       "75%             2.000000          0.000000      2.000000      3.400000e+03   \n",
       "max          1844.000000        126.000000   1866.000000      4.228300e+06   \n",
       "\n",
       "       GROSS SQUARE FEET    YEAR BUILT    SALE PRICE  \n",
       "count       2.879500e+04  28795.000000  2.879500e+04  \n",
       "mean        2.156157e+03   1946.450043  6.731770e+05  \n",
       "std         2.380774e+04     33.780905  3.462644e+05  \n",
       "min         0.000000e+00   1800.000000  5.020000e+04  \n",
       "25%         1.156000e+03   1920.000000  4.250000e+05  \n",
       "50%         1.600000e+03   1935.000000  6.000000e+05  \n",
       "75%         2.250000e+03   1965.000000  8.600000e+05  \n",
       "max         3.750565e+06   2017.000000  1.749000e+06  "
      ]
     },
     "execution_count": 44,
     "metadata": {},
     "output_type": "execute_result"
    }
   ],
   "source": [
    "df_sales.describe()"
   ]
  },
  {
   "cell_type": "markdown",
   "id": "37bd0ce3",
   "metadata": {},
   "source": [
    "# Analisis data dengan statistik deskriptif dan inferensial"
   ]
  },
  {
   "cell_type": "markdown",
   "id": "210d333f",
   "metadata": {},
   "source": [
    "## Analisis Deskriptif"
   ]
  },
  {
   "cell_type": "markdown",
   "id": "ba443e10",
   "metadata": {},
   "source": [
    "### Mean\n",
    "Berapakah rata-rata harga penjualan properti di newyork periode 12 bulan?"
   ]
  },
  {
   "cell_type": "code",
   "execution_count": 45,
   "id": "9aa9247c",
   "metadata": {},
   "outputs": [
    {
     "data": {
      "text/plain": [
       "673176.9851015802"
      ]
     },
     "execution_count": 45,
     "metadata": {},
     "output_type": "execute_result"
    }
   ],
   "source": [
    "mean_SP = np.mean(df_sales[\"SALE PRICE\"])\n",
    "mean_SP"
   ]
  },
  {
   "cell_type": "markdown",
   "id": "40a0105f",
   "metadata": {},
   "source": [
    "### Median\n",
    "Berapakah nilai tengah dari harga penjualan properti di newyork?"
   ]
  },
  {
   "cell_type": "code",
   "execution_count": 46,
   "id": "1adde279",
   "metadata": {},
   "outputs": [
    {
     "data": {
      "text/plain": [
       "600000.0"
      ]
     },
     "execution_count": 46,
     "metadata": {},
     "output_type": "execute_result"
    }
   ],
   "source": [
    "median_SP = np.median(df_sales[\"SALE PRICE\"])\n",
    "median_SP"
   ]
  },
  {
   "cell_type": "markdown",
   "id": "a8804991",
   "metadata": {},
   "source": [
    "### Modus\n",
    "nilai modus harga penjualan properti di newyork?"
   ]
  },
  {
   "cell_type": "code",
   "execution_count": 47,
   "id": "6d9c0d56",
   "metadata": {},
   "outputs": [
    {
     "data": {
      "text/plain": [
       "ModeResult(mode=array([600000.]), count=array([308]))"
      ]
     },
     "execution_count": 47,
     "metadata": {},
     "output_type": "execute_result"
    }
   ],
   "source": [
    "mode_SP = scipy.stats.mode(df_sales[\"SALE PRICE\"])\n",
    "mode_SP"
   ]
  },
  {
   "cell_type": "code",
   "execution_count": 48,
   "id": "a402986b",
   "metadata": {
    "scrolled": true
   },
   "outputs": [
    {
     "data": {
      "text/plain": [
       "count    2.879500e+04\n",
       "mean     6.731770e+05\n",
       "std      3.462644e+05\n",
       "min      5.020000e+04\n",
       "25%      4.250000e+05\n",
       "50%      6.000000e+05\n",
       "75%      8.600000e+05\n",
       "max      1.749000e+06\n",
       "Name: SALE PRICE, dtype: float64"
      ]
     },
     "execution_count": 48,
     "metadata": {},
     "output_type": "execute_result"
    }
   ],
   "source": [
    "# Analisis Descriptive SALE PRICE\n",
    "df_sales[\"SALE PRICE\"].describe()"
   ]
  },
  {
   "cell_type": "code",
   "execution_count": 49,
   "id": "27bed7ef",
   "metadata": {
    "scrolled": true
   },
   "outputs": [
    {
     "name": "stderr",
     "output_type": "stream",
     "text": [
      "C:\\Users\\Rizqatasyaa\\anaconda3\\lib\\site-packages\\seaborn\\distributions.py:2619: FutureWarning: `distplot` is a deprecated function and will be removed in a future version. Please adapt your code to use either `displot` (a figure-level function with similar flexibility) or `histplot` (an axes-level function for histograms).\n",
      "  warnings.warn(msg, FutureWarning)\n"
     ]
    },
    {
     "data": {
      "text/plain": [
       "<matplotlib.legend.Legend at 0x210446ea550>"
      ]
     },
     "execution_count": 49,
     "metadata": {},
     "output_type": "execute_result"
    },
    {
     "data": {
      "image/png": "[encoded data removed]",
      "text/plain": [
       "<Figure size 720x432 with 1 Axes>"
      ]
     },
     "metadata": {
      "needs_background": "light"
     },
     "output_type": "display_data"
    }
   ],
   "source": [
    "plt.figure(figsize = (10, 6))\n",
    "plt.title(\"Distribusi Frekuensi Harga Penjualan Properti di NYC (2016-2017)\", fontsize=15)\n",
    "plt.ylabel('Frekuensi', fontsize=12)\n",
    "plt.axvline(df_sales['SALE PRICE'].describe()['mean'], color = 'red', label = 'mean')\n",
    "plt.axvline(df_sales['SALE PRICE'].describe()['50%'], color = 'green', label = 'median')\n",
    "plt.axvline(df_sales['SALE PRICE'].mode()[0], color = 'yellow', label = 'mode')\n",
    "sns.distplot(df_sales['SALE PRICE'])\n",
    "plt.legend()"
   ]
  },
  {
   "cell_type": "markdown",
   "id": "2178b892",
   "metadata": {},
   "source": [
    "### Interpretasi\n",
    "\n",
    "berdasarkan plot diatas, dapat dilihat pemusatan data harga penjualan properti di NYC dimana rata-rata harga penjualan sebesar 673.177 USD, median dan modus dari harga penjualan sebesar 600.000 USD. dan untuk frekuensi tertinggi harga penjualan properti dibawah 500.000 USD. "
   ]
  },
  {
   "cell_type": "markdown",
   "id": "c8a9db66",
   "metadata": {},
   "source": [
    "### Range\n",
    "berapa range dari harga penjualan properti di NYC ?"
   ]
  },
  {
   "cell_type": "code",
   "execution_count": 50,
   "id": "bcce084d",
   "metadata": {},
   "outputs": [
    {
     "data": {
      "text/plain": [
       "1698800.0"
      ]
     },
     "execution_count": 50,
     "metadata": {},
     "output_type": "execute_result"
    }
   ],
   "source": [
    "range_SP = np.ptp(df_sales['SALE PRICE'])\n",
    "range_SP"
   ]
  },
  {
   "cell_type": "markdown",
   "id": "82d1d2af",
   "metadata": {},
   "source": [
    "### Varians\n",
    "berapa varian dari harga penjualan properti di NYC?"
   ]
  },
  {
   "cell_type": "code",
   "execution_count": 51,
   "id": "bba6a892",
   "metadata": {},
   "outputs": [
    {
     "data": {
      "text/plain": [
       "119899022434.09659"
      ]
     },
     "execution_count": 51,
     "metadata": {},
     "output_type": "execute_result"
    }
   ],
   "source": [
    "var_SP = np.var(df_sales[\"SALE PRICE\"], ddof=1)\n",
    "var_SP"
   ]
  },
  {
   "cell_type": "markdown",
   "id": "f0a13887",
   "metadata": {},
   "source": [
    "### Standar Deviasi"
   ]
  },
  {
   "cell_type": "code",
   "execution_count": 52,
   "id": "744db0fb",
   "metadata": {},
   "outputs": [
    {
     "data": {
      "text/plain": [
       "346264.3822776125"
      ]
     },
     "execution_count": 52,
     "metadata": {},
     "output_type": "execute_result"
    }
   ],
   "source": [
    "std_SP = np.std(df_sales[\"SALE PRICE\"], ddof=1)\n",
    "std_SP"
   ]
  },
  {
   "cell_type": "markdown",
   "id": "928bd73c",
   "metadata": {},
   "source": [
    "### Skewness"
   ]
  },
  {
   "cell_type": "code",
   "execution_count": 53,
   "id": "ecbb6299",
   "metadata": {
    "scrolled": true
   },
   "outputs": [
    {
     "data": {
      "text/plain": [
       "0.8431839788042697"
      ]
     },
     "execution_count": 53,
     "metadata": {},
     "output_type": "execute_result"
    }
   ],
   "source": [
    "skew_SP = scipy.stats.skew(df_sales['SALE PRICE'], bias=False)\n",
    "skew_SP"
   ]
  },
  {
   "cell_type": "markdown",
   "id": "5d6a8a22",
   "metadata": {},
   "source": [
    "## Distribusi Data SALE PRICE"
   ]
  },
  {
   "cell_type": "code",
   "execution_count": 54,
   "id": "6721b926",
   "metadata": {},
   "outputs": [
    {
     "name": "stderr",
     "output_type": "stream",
     "text": [
      "C:\\Users\\Rizqatasyaa\\anaconda3\\lib\\site-packages\\seaborn\\distributions.py:2619: FutureWarning: `distplot` is a deprecated function and will be removed in a future version. Please adapt your code to use either `displot` (a figure-level function with similar flexibility) or `histplot` (an axes-level function for histograms).\n",
      "  warnings.warn(msg, FutureWarning)\n"
     ]
    },
    {
     "data": {
      "image/png": "[encoded data removed]",
      "text/plain": [
       "<Figure size 432x288 with 1 Axes>"
      ]
     },
     "metadata": {
      "needs_background": "light"
     },
     "output_type": "display_data"
    },
    {
     "name": "stdout",
     "output_type": "stream",
     "text": [
      "Penyebaran Data SALE PRICE NYC:\n",
      "\n",
      "Range:  1698800.0\n",
      "Variance:  119899022434.09659\n",
      "Standar Deviation:  346264.3822776125\n",
      "Skewness:  0.8431839788042697\n",
      "Kurtosis: 0.33668398099480834\n"
     ]
    }
   ],
   "source": [
    "data = df_sales[\"SALE PRICE\"]\n",
    "np.var(data)\n",
    "\n",
    "sns.distplot(data, kde=True, bins=100)\n",
    "plt.show()\n",
    "\n",
    "print(\"Penyebaran Data SALE PRICE NYC:\\n\")\n",
    "print('Range: ', range_SP)\n",
    "print('Variance: ', var_SP)\n",
    "print('Standar Deviation: ', std_SP)\n",
    "print('Skewness: ', skew_SP)\n",
    "print('Kurtosis:', data.kurt())"
   ]
  },
  {
   "cell_type": "markdown",
   "id": "85d37d4f",
   "metadata": {},
   "source": [
    "### Interpretasi\n",
    "\n",
    "dapat dilihat plot harga penjualan properti di NYC memiliki sebaran yaitu positive skew atau yang artinya sebaran data mlenceng ke kanan. sedangkan untuk range harga penjualan atau selisih nilai maksimum dan minimum dari data SALE PRICE ini sebesar 1.698.800 USD , untuk varian dari data ini cukup besar yang artinya data sangat bervariasi atau tersebar disekitar reratanya. dengan nilai stanar deviasi sebesar 346.264 , dimana nilai tersebut lebih kecil dari mean yang artinya nilai standar deviasi ini dikatakan baik, atau mendekati rata-rata."
   ]
  },
  {
   "cell_type": "markdown",
   "id": "d6228c99",
   "metadata": {},
   "source": [
    "## Analisis Deskriptif SALE PRICE Berdasarkan wilayah"
   ]
  },
  {
   "cell_type": "code",
   "execution_count": 55,
   "id": "e7814fad",
   "metadata": {},
   "outputs": [
    {
     "name": "stdout",
     "output_type": "stream",
     "text": [
      "Variance and Standar Deviation tiap wilayah:\n",
      "\n",
      "Manhattan:  322867787161.7291 and 568214.5608497983\n",
      "Bronx:  53390110235.81175 and 231063.00057735716\n",
      "Brooklyn:  148492349759.99277 and 385347.0510591625\n",
      "Queens:  99399579268.92471 and 315276.98816901416\n",
      "Staten Island:  44225410289.46873 and 210298.3839440254\n"
     ]
    }
   ],
   "source": [
    "# Membuat tabel nilai harga penjualan berdasarkan masing-masing borough\n",
    "df_manhattan = df_sales[df_sales['BOROUGH']=='Manhattan']\n",
    "df_bronx = df_sales[df_sales['BOROUGH']=='Bronx']\n",
    "df_brooklyn = df_sales[df_sales['BOROUGH']=='Brooklyn']\n",
    "df_queens = df_sales[df_sales['BOROUGH']=='Queens']\n",
    "df_staten = df_sales[df_sales['BOROUGH']=='Staten Island']\n",
    "\n",
    "# Menampilkan nilai varians dan standar deviasi masing-masing borough\n",
    "print(\"Variance and Standar Deviation tiap wilayah:\\n\")\n",
    "print('Manhattan: ',np.var(df_manhattan['SALE PRICE'], ddof=1), 'and',np.std(df_manhattan['SALE PRICE'], ddof=1))\n",
    "print('Bronx: ',np.var(df_bronx['SALE PRICE'], ddof=1), 'and',np.std(df_bronx['SALE PRICE'], ddof=1))\n",
    "print('Brooklyn: ',np.var(df_brooklyn['SALE PRICE'], ddof=1), 'and',np.std(df_brooklyn['SALE PRICE'], ddof=1))\n",
    "print('Queens: ',np.var(df_queens['SALE PRICE'], ddof=1), 'and',np.std(df_queens['SALE PRICE'], ddof=1))\n",
    "print('Staten Island: ',np.var(df_staten['SALE PRICE'], ddof=1), 'and',np.std(df_staten['SALE PRICE'], ddof=1))"
   ]
  },
  {
   "cell_type": "code",
   "execution_count": 56,
   "id": "fbfddfac",
   "metadata": {
    "scrolled": false
   },
   "outputs": [
    {
     "name": "stderr",
     "output_type": "stream",
     "text": [
      "C:\\Users\\Rizqatasyaa\\anaconda3\\lib\\site-packages\\seaborn\\distributions.py:2619: FutureWarning: `distplot` is a deprecated function and will be removed in a future version. Please adapt your code to use either `displot` (a figure-level function with similar flexibility) or `histplot` (an axes-level function for histograms).\n",
      "  warnings.warn(msg, FutureWarning)\n"
     ]
    },
    {
     "data": {
      "text/plain": [
       "<matplotlib.legend.Legend at 0x210448a73d0>"
      ]
     },
     "execution_count": 56,
     "metadata": {},
     "output_type": "execute_result"
    },
    {
     "data": {
      "image/png": "[encoded data removed]",
      "text/plain": [
       "<Figure size 720x432 with 1 Axes>"
      ]
     },
     "metadata": {
      "needs_background": "light"
     },
     "output_type": "display_data"
    }
   ],
   "source": [
    "plt.figure(figsize = (10, 6))\n",
    "plt.title(\"Distribusi Frekuensi Harga Penjualan Properti di Manhattan\", fontsize=15)\n",
    "plt.ylabel('Frekuensi', fontsize=12)\n",
    "plt.axvline(df_manhattan['SALE PRICE'].describe()['mean'], color = 'red', label = 'mean')\n",
    "plt.axvline(df_manhattan['SALE PRICE'].describe()['50%'], color = 'green', label = 'median')\n",
    "plt.axvline(df_manhattan['SALE PRICE'].mode()[0], color = 'yellow', label = 'mode')\n",
    "sns.distplot(df_manhattan['SALE PRICE'])\n",
    "plt.legend()"
   ]
  },
  {
   "cell_type": "code",
   "execution_count": 57,
   "id": "5ec531da",
   "metadata": {},
   "outputs": [
    {
     "name": "stderr",
     "output_type": "stream",
     "text": [
      "C:\\Users\\Rizqatasyaa\\anaconda3\\lib\\site-packages\\seaborn\\distributions.py:2619: FutureWarning: `distplot` is a deprecated function and will be removed in a future version. Please adapt your code to use either `displot` (a figure-level function with similar flexibility) or `histplot` (an axes-level function for histograms).\n",
      "  warnings.warn(msg, FutureWarning)\n"
     ]
    },
    {
     "data": {
      "text/plain": [
       "<matplotlib.legend.Legend at 0x210447b91f0>"
      ]
     },
     "execution_count": 57,
     "metadata": {},
     "output_type": "execute_result"
    },
    {
     "data": {
      "image/png": "[encoded data removed]",
      "text/plain": [
       "<Figure size 720x432 with 1 Axes>"
      ]
     },
     "metadata": {
      "needs_background": "light"
     },
     "output_type": "display_data"
    }
   ],
   "source": [
    "plt.figure(figsize = (10, 6))\n",
    "plt.title(\"Distribusi Frekuensi Harga Penjualan Properti di Bronx\", fontsize=15)\n",
    "plt.ylabel('Frekuensi', fontsize=12)\n",
    "plt.axvline(df_bronx['SALE PRICE'].describe()['mean'], color = 'red', label = 'mean')\n",
    "plt.axvline(df_bronx['SALE PRICE'].describe()['50%'], color = 'green', label = 'median')\n",
    "plt.axvline(df_bronx['SALE PRICE'].mode()[0], color = 'yellow', label = 'mode')\n",
    "sns.distplot(df_bronx['SALE PRICE'])\n",
    "plt.legend()"
   ]
  },
  {
   "cell_type": "code",
   "execution_count": 58,
   "id": "45b67112",
   "metadata": {
    "scrolled": true
   },
   "outputs": [
    {
     "name": "stderr",
     "output_type": "stream",
     "text": [
      "C:\\Users\\Rizqatasyaa\\anaconda3\\lib\\site-packages\\seaborn\\distributions.py:2619: FutureWarning: `distplot` is a deprecated function and will be removed in a future version. Please adapt your code to use either `displot` (a figure-level function with similar flexibility) or `histplot` (an axes-level function for histograms).\n",
      "  warnings.warn(msg, FutureWarning)\n"
     ]
    },
    {
     "data": {
      "text/plain": [
       "<matplotlib.legend.Legend at 0x210447b2310>"
      ]
     },
     "execution_count": 58,
     "metadata": {},
     "output_type": "execute_result"
    },
    {
     "data": {
      "image/png": "[encoded data removed]",
      "text/plain": [
       "<Figure size 720x432 with 1 Axes>"
      ]
     },
     "metadata": {
      "needs_background": "light"
     },
     "output_type": "display_data"
    }
   ],
   "source": [
    "plt.figure(figsize = (10, 6))\n",
    "plt.title(\"Distribusi Frekuensi Harga Penjualan Properti di Brooklyn\", fontsize=15)\n",
    "plt.ylabel('Frekuensi', fontsize=12)\n",
    "plt.axvline(df_brooklyn['SALE PRICE'].describe()['mean'], color = 'red', label = 'mean')\n",
    "plt.axvline(df_brooklyn['SALE PRICE'].describe()['50%'], color = 'green', label = 'median')\n",
    "plt.axvline(df_brooklyn['SALE PRICE'].mode()[0], color = 'yellow', label = 'mode')\n",
    "sns.distplot(df_brooklyn['SALE PRICE'])\n",
    "plt.legend()"
   ]
  },
  {
   "cell_type": "code",
   "execution_count": 59,
   "id": "de1a7435",
   "metadata": {
    "scrolled": true
   },
   "outputs": [
    {
     "name": "stderr",
     "output_type": "stream",
     "text": [
      "C:\\Users\\Rizqatasyaa\\anaconda3\\lib\\site-packages\\seaborn\\distributions.py:2619: FutureWarning: `distplot` is a deprecated function and will be removed in a future version. Please adapt your code to use either `displot` (a figure-level function with similar flexibility) or `histplot` (an axes-level function for histograms).\n",
      "  warnings.warn(msg, FutureWarning)\n"
     ]
    },
    {
     "data": {
      "text/plain": [
       "<matplotlib.legend.Legend at 0x21044abfee0>"
      ]
     },
     "execution_count": 59,
     "metadata": {},
     "output_type": "execute_result"
    },
    {
     "data": {
      "image/png": "[encoded data removed]",
      "text/plain": [
       "<Figure size 720x432 with 1 Axes>"
      ]
     },
     "metadata": {
      "needs_background": "light"
     },
     "output_type": "display_data"
    }
   ],
   "source": [
    "plt.figure(figsize = (10, 6))\n",
    "plt.title(\"Distribusi Frekuensi Harga Penjualan Properti di Queens\", fontsize=15)\n",
    "plt.ylabel('Frekuensi', fontsize=12)\n",
    "plt.axvline(df_queens['SALE PRICE'].describe()['mean'], color = 'red', label = 'mean')\n",
    "plt.axvline(df_queens['SALE PRICE'].describe()['50%'], color = 'green', label = 'median')\n",
    "plt.axvline(df_queens['SALE PRICE'].mode()[0], color = 'yellow', label = 'mode')\n",
    "sns.distplot(df_queens['SALE PRICE'])\n",
    "plt.legend()"
   ]
  },
  {
   "cell_type": "code",
   "execution_count": 60,
   "id": "c4f07bd5",
   "metadata": {
    "scrolled": true
   },
   "outputs": [
    {
     "name": "stderr",
     "output_type": "stream",
     "text": [
      "C:\\Users\\Rizqatasyaa\\anaconda3\\lib\\site-packages\\seaborn\\distributions.py:2619: FutureWarning: `distplot` is a deprecated function and will be removed in a future version. Please adapt your code to use either `displot` (a figure-level function with similar flexibility) or `histplot` (an axes-level function for histograms).\n",
      "  warnings.warn(msg, FutureWarning)\n"
     ]
    },
    {
     "data": {
      "text/plain": [
       "<matplotlib.legend.Legend at 0x21044a123d0>"
      ]
     },
     "execution_count": 60,
     "metadata": {},
     "output_type": "execute_result"
    },
    {
     "data": {
      "image/png": "[encoded data removed]",
      "text/plain": [
       "<Figure size 720x432 with 1 Axes>"
      ]
     },
     "metadata": {
      "needs_background": "light"
     },
     "output_type": "display_data"
    }
   ],
   "source": [
    "plt.figure(figsize = (10, 6))\n",
    "plt.title(\"Distribusi Frekuensi Harga Penjualan Properti di Staten Island\", fontsize=15)\n",
    "plt.ylabel('Frekuensi', fontsize=12)\n",
    "plt.axvline(df_staten['SALE PRICE'].describe()['mean'], color = 'red', label = 'mean')\n",
    "plt.axvline(df_staten['SALE PRICE'].describe()['50%'], color = 'green', label = 'median')\n",
    "plt.axvline(df_staten['SALE PRICE'].mode()[0], color = 'yellow', label = 'mode')\n",
    "sns.distplot(df_staten['SALE PRICE'])\n",
    "plt.legend()"
   ]
  },
  {
   "cell_type": "markdown",
   "id": "36437aa8",
   "metadata": {},
   "source": [
    "### Interpretasi\n",
    "\n",
    "Dapat dilihat distribusi SALE PRICE tiap wilayah, distribusi yang terlihat normal yaitu pada wilayah Bronx dan Staten Island."
   ]
  },
  {
   "cell_type": "markdown",
   "id": "c2eeda4c",
   "metadata": {},
   "source": [
    "## Analisis Statistik SALE PRICE berdasarkan BUILDING CLASS AT TIME OF SALE"
   ]
  },
  {
   "cell_type": "code",
   "execution_count": 61,
   "id": "a39432e4",
   "metadata": {
    "scrolled": true
   },
   "outputs": [
    {
     "data": {
      "text/html": [
       "<div>\n",
       "<style scoped>\n",
       "    .dataframe tbody tr th:only-of-type {\n",
       "        vertical-align: middle;\n",
       "    }\n",
       "\n",
       "    .dataframe tbody tr th {\n",
       "        vertical-align: top;\n",
       "    }\n",
       "\n",
       "    .dataframe thead th {\n",
       "        text-align: right;\n",
       "    }\n",
       "</style>\n",
       "<table border=\"1\" class=\"dataframe\">\n",
       "  <thead>\n",
       "    <tr style=\"text-align: right;\">\n",
       "      <th></th>\n",
       "      <th>SALE PRICE</th>\n",
       "    </tr>\n",
       "    <tr>\n",
       "      <th>BUILDING CLASS AT TIME OF SALE</th>\n",
       "      <th></th>\n",
       "    </tr>\n",
       "  </thead>\n",
       "  <tbody>\n",
       "    <tr>\n",
       "      <th>RS</th>\n",
       "      <td>86100.000000</td>\n",
       "    </tr>\n",
       "    <tr>\n",
       "      <th>CM</th>\n",
       "      <td>90000.000000</td>\n",
       "    </tr>\n",
       "    <tr>\n",
       "      <th>RP</th>\n",
       "      <td>106340.916667</td>\n",
       "    </tr>\n",
       "    <tr>\n",
       "      <th>H3</th>\n",
       "      <td>107486.727273</td>\n",
       "    </tr>\n",
       "    <tr>\n",
       "      <th>RG</th>\n",
       "      <td>178006.278481</td>\n",
       "    </tr>\n",
       "  </tbody>\n",
       "</table>\n",
       "</div>"
      ],
      "text/plain": [
       "                                   SALE PRICE\n",
       "BUILDING CLASS AT TIME OF SALE               \n",
       "RS                               86100.000000\n",
       "CM                               90000.000000\n",
       "RP                              106340.916667\n",
       "H3                              107486.727273\n",
       "RG                              178006.278481"
      ]
     },
     "execution_count": 61,
     "metadata": {},
     "output_type": "execute_result"
    }
   ],
   "source": [
    "df_BuildClass = df_sales[['BUILDING CLASS AT TIME OF SALE','SALE PRICE']]\n",
    "\n",
    "# Top 5 \n",
    "top5BuildClass = df_BuildClass.groupby('BUILDING CLASS AT TIME OF SALE').mean().sort_values(by='SALE PRICE', ascending=True)\n",
    "top5BuildClass = top5BuildClass.head(5)\n",
    "top5BuildClass"
   ]
  },
  {
   "cell_type": "code",
   "execution_count": 62,
   "id": "8e9faa65",
   "metadata": {},
   "outputs": [
    {
     "data": {
      "text/plain": [
       "'A1'"
      ]
     },
     "execution_count": 62,
     "metadata": {},
     "output_type": "execute_result"
    }
   ],
   "source": [
    "df_sales['BUILDING CLASS AT TIME OF SALE'].mode()[0]"
   ]
  },
  {
   "cell_type": "code",
   "execution_count": 63,
   "id": "db26c3cf",
   "metadata": {
    "scrolled": true
   },
   "outputs": [
    {
     "data": {
      "text/plain": [
       "<AxesSubplot:ylabel='BUILDING CLASS AT TIME OF SALE'>"
      ]
     },
     "execution_count": 63,
     "metadata": {},
     "output_type": "execute_result"
    },
    {
     "data": {
      "image/png": "[encoded data removed]",
      "text/plain": [
       "<Figure size 1080x504 with 1 Axes>"
      ]
     },
     "metadata": {
      "needs_background": "light"
     },
     "output_type": "display_data"
    }
   ],
   "source": [
    "top5BuildClass.plot(kind='barh', figsize=(15,7), color='b')"
   ]
  },
  {
   "cell_type": "markdown",
   "id": "847036a4",
   "metadata": {},
   "source": [
    "### Interpretasi\n",
    "\n",
    "berdasarkan analisis diatas, diketahui bangunan kelas berdasarkan rata-rata penjualan tertinggi yaitu RG sebesar 178.006 USD, sedangkan untuk kelas bangunan dengan modus terbanyak yaitu A1"
   ]
  },
  {
   "cell_type": "markdown",
   "id": "69c816be",
   "metadata": {},
   "source": [
    "## Confidence Interval (CI)"
   ]
  },
  {
   "cell_type": "code",
   "execution_count": 64,
   "id": "fa72d7f4",
   "metadata": {},
   "outputs": [
    {
     "name": "stdout",
     "output_type": "stream",
     "text": [
      "[669177.39 677176.58]\n"
     ]
    }
   ],
   "source": [
    "x = df_sales['SALE PRICE']\n",
    "\n",
    "m = x.mean()\n",
    "s = x.std()\n",
    "dof = len(x)-1 #degree of freedom untuk memnentukan nilai statistik uji\n",
    "\n",
    "confidance = 0.95 #Peluang\n",
    "t_crit = np.abs(t.ppf((1-confidance)/2,dof)) #nilai statistik uji t\n",
    "\n",
    "values = np.round((m-s*t_crit/np.sqrt(len(x)), m+s*t_crit/np.sqrt(len(x))),2)\n",
    "\n",
    "print(values)"
   ]
  },
  {
   "cell_type": "markdown",
   "id": "fb577911",
   "metadata": {},
   "source": [
    "### Interpretasi\n",
    "\n",
    "diperoleh confidence interval atau selang kepercayaan SALE PRICE yaitu perkiraan rentang harga penjualan properti di NYC sebesar 669177.39 USD sampai 677176.58 USD "
   ]
  },
  {
   "cell_type": "markdown",
   "id": "b38de392",
   "metadata": {},
   "source": [
    "## Hypotesis Testing"
   ]
  },
  {
   "cell_type": "markdown",
   "id": "f0a639ed",
   "metadata": {},
   "source": [
    "### Uji D'Agostino's K^2\n",
    "\n",
    "Berdasarkan data SALE PRICE pada dataset penjualan properti di NYC , selidikilah apakah data tersebut berdistribusi normal pada alpha 5% menggunakan uji D'Agostino's K^2? \n",
    "\n",
    "H0 : SALE PRICE Berdistribusi Normal\\\n",
    "H1 : SALE PRICE Tidak Berdistribusi Normal"
   ]
  },
  {
   "cell_type": "code",
   "execution_count": 65,
   "id": "a4b13210",
   "metadata": {},
   "outputs": [
    {
     "name": "stdout",
     "output_type": "stream",
     "text": [
      "stat=2718.675619, p=0.000\n",
      "Probably not Gaussian\n"
     ]
    }
   ],
   "source": [
    "from scipy.stats import normaltest\n",
    "data = df_sales[\"SALE PRICE\"]\n",
    "stat, p = normaltest(data)\n",
    "print('stat=%3f, p=%.3f' % (stat, p))\n",
    "if p > 0.05:\n",
    "    print('Probably Gaussian')\n",
    "else:\n",
    "    print('Probably not Gaussian')"
   ]
  },
  {
   "cell_type": "markdown",
   "id": "b474532f",
   "metadata": {},
   "source": [
    "Berdasarkan hasil uji D'Agostino's K^2 diketahui bahwa p-value < 0.05 yang artinya tolak H0, sehingga SALE PRICE Tidak Berdistribusi Normal"
   ]
  },
  {
   "cell_type": "markdown",
   "id": "9841cefd",
   "metadata": {},
   "source": [
    "### Uji Spearman's\n",
    "\n",
    "Apakah ada hubungan antara LAND SQUARE FEET dengan SALE PRICE menggunakan uji Spearman's sebagai berikut :\n",
    "\n",
    "H0 : Tidak ada hubungan antara Land Square Feet dengan Sale Price\\\n",
    "H1 : Ada hubungan antara Land Square Feet dengan Sale Price"
   ]
  },
  {
   "cell_type": "code",
   "execution_count": 66,
   "id": "eee11a81",
   "metadata": {},
   "outputs": [
    {
     "name": "stdout",
     "output_type": "stream",
     "text": [
      "stat=0.026053, p=0.000\n",
      "Probably Dependent\n"
     ]
    }
   ],
   "source": [
    "from scipy.stats import spearmanr\n",
    "data1 = df_sales['LAND SQUARE FEET']\n",
    "data2 = df_sales['SALE PRICE']\n",
    "stat, p = spearmanr(data1, data2)\n",
    "print('stat=%3f, p=%.3f' % (stat, p))\n",
    "if p > 0.05:\n",
    "    print('Probably Independent')\n",
    "else:\n",
    "    print('Probably Dependent')"
   ]
  },
  {
   "cell_type": "markdown",
   "id": "5c9f8f34",
   "metadata": {},
   "source": [
    "diketahui bahwa data SALE PRICE dan LAND SQUARE FEET merupakan data yang tidak berdistribusi normal, oleh karena itu menggunakan metode uji Spearman's karena syarat pada metode ini adalah variabel tidak harus berdistribusi normal dan kondisi variabel tidak diketahui sama. dan diperoleh hasil analisis uji spearman's didapat p-value < 0.05 yang artinya tolak H0 atau terima H1 yang artinya Ada hubungan antara Land Square Feet dengan Sale Price"
   ]
  },
  {
   "cell_type": "markdown",
   "id": "77f8073d",
   "metadata": {},
   "source": [
    "Apakah ada hubungan antara GROSS SQUARE FEET dengan SALE PRICE menggunakan uji Spearman's sebagai berikut :\n",
    "\n",
    "H0 : Tidak ada hubungan antara Gross Square Feet dengan Sale Price\\\n",
    "H1 : Ada hubungan antara Gross Square Feet dengan Sale Price"
   ]
  },
  {
   "cell_type": "code",
   "execution_count": 67,
   "id": "4750e2e9",
   "metadata": {},
   "outputs": [
    {
     "name": "stdout",
     "output_type": "stream",
     "text": [
      "stat=0.261017, p=0.000\n",
      "Probably Dependent\n"
     ]
    }
   ],
   "source": [
    "from scipy.stats import spearmanr\n",
    "data1 = df_sales['GROSS SQUARE FEET']\n",
    "data2 = df_sales['SALE PRICE']\n",
    "stat, p = spearmanr(data1, data2)\n",
    "print('stat=%3f, p=%.3f' % (stat, p))\n",
    "if p > 0.05:\n",
    "    print('Probably Independent')\n",
    "else:\n",
    "    print('Probably Dependent')"
   ]
  },
  {
   "cell_type": "markdown",
   "id": "406762cd",
   "metadata": {},
   "source": [
    "diketahui bahwa data SALE PRICE dan GROSS SQUARE FEET merupakan data yang tidak berdistribusi normal, oleh karena itu menggunakan metode uji Spearman's karena syarat pada metode ini adalah variabel tidak harus berdistribusi normal dan kondisi variabel tidak diketahui sama. dan diperoleh hasil analisis uji spearman's didapat p-value < 0.05 yang artinya tolak H0 atau terima H1 yang artinya Ada hubungan antara Gross Square Feet dengan Sale Price"
   ]
  },
  {
   "cell_type": "markdown",
   "id": "fad828a1",
   "metadata": {},
   "source": [
    "## Kesimpulan"
   ]
  },
  {
   "cell_type": "markdown",
   "id": "b8ba6e70",
   "metadata": {},
   "source": [
    "Berdasarkan analisis statistik deskriptif dan inferensia, diperoleh kesimpulan sebagai berikut :\n",
    "\n",
    "- Total data yang dianalisis setelah dilakukan data cleaning dan preprocessing yaitu 28.795 data.\n",
    "- Rata-rata harga penjualan properti di NYC  sebesar 673.176 USD , median dan modus sebesar 600.000 USD\n",
    "- Memiliki varian dan standar deviasi sebesar 119899022434 dan 346264, sedangkan untuk range harga penjualan ini adalah 1.698.800 USD\n",
    "- untuk distribusi harga penjualan properti ini yaitu mlenceng ke kanan atau data tidak berdistribusi normal berdasarkan hasil uji D'Agostino's K^2\n",
    "- selain itu, wilayah yang terlihat memiliki distribusi normal berdasarkan harga penjualan properti yaitu pada wilayah Bronx dan Staten Island.\n",
    "- dengan kelas bangunan yang paling banyak yaitu A1 dan kelas bangunan dengan rata2 harga penjualan paling tinggi yaitu RG sebesar 178006.278481 USD\n",
    "- untuk harga penjualan memiliki selang kepercayaan pada rentang  669177.39 USD sampai 677176.58 USD\n",
    "- untuk Land Square Feet dan Gross Square Feet memiliki hubungan dengan Sale Price berdasarkan uji spearman's"
   ]
  }
 ],
 "metadata": {
  "kernelspec": {
   "display_name": "Python 3 (ipykernel)",
   "language": "python",
   "name": "python3"
  },
  "language_info": {
   "codemirror_mode": {
    "name": "ipython",
    "version": 3
   },
   "file_extension": ".py",
   "mimetype": "text/x-python",
   "name": "python",
   "nbconvert_exporter": "python",
   "pygments_lexer": "ipython3",
   "version": "3.9.12"
  },
  "toc": {
   "base_numbering": 1,
   "nav_menu": {},
   "number_sections": true,
   "sideBar": true,
   "skip_h1_title": false,
   "title_cell": "Table of Contents",
   "title_sidebar": "Contents",
   "toc_cell": false,
   "toc_position": {
    "height": "calc(100% - 180px)",
    "left": "10px",
    "top": "150px",
    "width": "331.014px"
   },
   "toc_section_display": true,
   "toc_window_display": false
  }
 },
 "nbformat": 4,
 "nbformat_minor": 5
}
