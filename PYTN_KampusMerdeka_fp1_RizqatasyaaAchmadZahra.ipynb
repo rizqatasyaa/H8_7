{
 "cells": [
  {
   "cell_type": "markdown",
   "id": "515c016d",
   "metadata": {},
   "source": [
    "# FINAL PROJECT 1\n",
    "\n",
    "Kelompok 3:\n",
    "- Erlangga Ardiansyah Rukmana - PYTN-KS07-014\n",
    "- Natasya Yonike Ambarita - PYTN-KS07-013\n",
    "- Rizqatasyaa Achmad Zahra - PYTN-KS07-012"
   ]
  },
  {
   "cell_type": "markdown",
   "id": "6f4307fd",
   "metadata": {},
   "source": [
    "## Overview"
   ]
  },
  {
   "cell_type": "markdown",
   "id": "914f4fc9",
   "metadata": {},
   "source": [
    "### TENTANG DATA\n",
    "Database ini memiliki 57 atribut, tetapi yang paling relevan ada 10 atribut dari semuanya.\n",
    "Dataset ini berasal dari kaggle yaitu, Uber and Lyft Dataset Boston, MA dari 11-26-2018 hingga 12-18-2018.\n",
    "\n",
    "Mengandung banyak nilai NA, tetapi data ini sangat ramah bagi pemula. Merupakan dataset yang cocok jika menggunakan Model Regresi untuk melihat prediktor(variabel) yang berbeda seperti hour (jam) dan price (harga).\n",
    "\n",
    "Bagian yang sangat menakjubkan dari kumpulan data ini adalah saya telah menyertakan data \n",
    "cuaca yang sesuai untuk jam tersebut dengan ringkasan singkat tentang cuaca. \n",
    "Faktor penting lainnya adalah suhu, angin, dan matahari terbenam."
   ]
  },
  {
   "cell_type": "markdown",
   "id": "33cd9860",
   "metadata": {},
   "source": [
    "### INFORMASI ATRIBUT\n",
    "1.\tid = kode untuk perjalanan \n",
    "2.\ttimestamp = stempel waktu untuk menampilkan lokasi sesuai keberadaan\n",
    "3.\thour = jam untuk data kejadian\n",
    "4.\tday = tanggal untuk data kejadian\n",
    "5.\tmonth = bulan untuk data kejadian\n",
    "6.\tdatetime = tanggal dan waktu untuk data kejadian\n",
    "7.\ttimezone = zona waktu untuk data kejadian\n",
    "8.\tsource = sumber untuk data lokasi awal\n",
    "9.\tdestination = tujuan untuk data lokasi tujuan\n",
    "10.\tcab_type = jenis taksi untuk data jenuis taksi yang digunakan\n",
    "11.\tproduct_id = kode produk untuk data taksi yang digunakan\n",
    "12.\tname = nama untuk nama layanan taksi yang digunakan\n",
    "13.\tprice = harga untuk data biaya yang dibayar\n",
    "14.\tdistance = jarak untuk data jarak tempuh perjalanan\n",
    "15.\tsurge_multiplier = lonjakan penggandaan untuk data penetapan harga pengganda yang menghasilkan jumlah harga lonjakan untuk pengemudi dan pengendara\n",
    "16.\tlatitude = lintang\n",
    "17.\tlongitude = garis bujur\n",
    "18.\ttemperature = suhu\n",
    "19.\tapparentTemperature = suhu nyata\n",
    "20.\tshort_summary = ringkasan singkat\n",
    "21.\tlong_summary = ringkasan panjang\n",
    "22.\tprecipIntensity = intensitas presipitas\n",
    "23.\tprecipProbability = probabilitas presipitasi\n",
    "24.\thumidity = kelembaban\n",
    "25.\twindSpeed = kecepatan angin\n",
    "26.\twindGust = hembusan angin\n",
    "27.\twindGustTime = waktu hembusan angin\n",
    "28.\tvisibility = visibilitas\n",
    "29.\ttemperatureHigh = suhu tinggi\n",
    "30.\ttemperatureHighTime = waktu suhu tinggi\n",
    "31.\ttemperatureLow = suhu rendah\n",
    "32.\ttemperatureLowTime = waktu suhu rendah\n",
    "33.\tapparentTemperatureHigh = suhu semu tinggi\n",
    "34.\tapparentTemperatureHighTime = waktu suhu semu tinggi\n",
    "35.\tapparentTemperatureLow = suhu semu rendah\n",
    "36.\tapparentTemperatureLowTime = waktu suhu semu rendah\n",
    "37.\ticon = ikon \n",
    "38.\tdewPoint = titik embun\n",
    "39.\tpressure = tekanan\n",
    "40.\twindBearing = bantalan angin\n",
    "41.\tcloudCover = tutupan awan\n",
    "42.\tuvIndex = indeks uv\n",
    "43.\tvisibility.1 = visibilitas.1\n",
    "44.\tozone = ozon\n",
    "45.\tsunriseTime = waktu matahari terbit\n",
    "46.\tsunsetTime = waktu matahari terbenam\n",
    "47.\tmoonPhase = fase bulan\n",
    "48.\tprecipIntensityMax = Intensitas presipitasi Maks\n",
    "49.\tuvIndexTime = waktu indeks uv\n",
    "50.\ttemperatureMin = suhu minimal\n",
    "51.\ttemperatureMinTime = waktu suhu minimal\n",
    "52.\ttemperatureMax = suhu maksimal\n",
    "53.\ttemperatureMaxTime = waktu suhu maksimal\n",
    "54.\tapparentTemperatureMin = suhu semu minimal\n",
    "55.\tapparentTemperatureMinTime = waktu suhu semu minal\n",
    "56.\tapparentTemperatureMax = suhu semu maksimal\n",
    "57.\tapparentTemperatureMaxTime = waktu suhu semu maksimal"
   ]
  },
  {
   "cell_type": "markdown",
   "id": "da41aebc",
   "metadata": {},
   "source": [
    "### OBJECTIVE YANG INGIN DI CAPAI\n",
    "Final Project 1 ini dibuat guna mengevaluasi konsep Regression sebagai berikut:\n",
    "- Mampu memahami konsep regression dengan Linear Regression\n",
    "- Mampu mempersiapkan data untuk digunakan dalam model Linear Regression\n",
    "- Mampu mengimplementasikan Linear Regression untuk membuat prediksi\n"
   ]
  },
  {
   "cell_type": "markdown",
   "id": "b46a4ed5",
   "metadata": {},
   "source": [
    "## IMPORT PUSTAKA YANG DIBUTUHKAN"
   ]
  },
  {
   "cell_type": "code",
   "execution_count": 1,
   "id": "12ed40c4",
   "metadata": {},
   "outputs": [],
   "source": [
    "import warnings\n",
    "warnings.filterwarnings('ignore')\n",
    "\n",
    "import pandas as pd\n",
    "import numpy as np\n",
    "import matplotlib.pyplot as plt\n",
    "%matplotlib inline\n",
    "import seaborn as sns\n",
    "\n",
    "#preprocess\n",
    "from sklearn.preprocessing import StandardScaler,LabelEncoder\n",
    "\n",
    "#model_selection\n",
    "from sklearn.model_selection import train_test_split\n",
    "\n",
    "#import the necessary modelling algos.\n",
    "from sklearn.linear_model import LinearRegression\n",
    "from sklearn.ensemble import RandomForestRegressor\n",
    "\n",
    "#evalution\n",
    "from sklearn.metrics import r2_score, auc\n",
    "from sklearn.metrics import accuracy_score, confusion_matrix,classification_report\n",
    "from sklearn.metrics import mean_squared_error\n",
    "from sklearn.metrics import mean_absolute_error\n",
    "from sklearn.metrics import explained_variance_score"
   ]
  },
  {
   "cell_type": "markdown",
   "id": "f0c7ab21",
   "metadata": {},
   "source": [
    "## DATA LOADING"
   ]
  },
  {
   "cell_type": "code",
   "execution_count": 2,
   "id": "6512ade7",
   "metadata": {
    "scrolled": true
   },
   "outputs": [],
   "source": [
    "df = pd.read_csv('../dataset/rideshare_kaggle/rideshare_kaggle.csv')\n",
    "pd.set_option('display.max_columns', None)"
   ]
  },
  {
   "cell_type": "code",
   "execution_count": 3,
   "id": "03b41e5b",
   "metadata": {},
   "outputs": [
    {
     "data": {
      "text/plain": [
       "(693071, 57)"
      ]
     },
     "execution_count": 3,
     "metadata": {},
     "output_type": "execute_result"
    }
   ],
   "source": [
    "df.shape"
   ]
  },
  {
   "cell_type": "markdown",
   "id": "d3c88cce",
   "metadata": {},
   "source": [
    "Diketahui, data kita terdiri dari 693071 baris dan 57 kolom."
   ]
  },
  {
   "cell_type": "code",
   "execution_count": 4,
   "id": "c8b37695",
   "metadata": {},
   "outputs": [
    {
     "data": {
      "text/html": [
       "<div>\n",
       "<style scoped>\n",
       "    .dataframe tbody tr th:only-of-type {\n",
       "        vertical-align: middle;\n",
       "    }\n",
       "\n",
       "    .dataframe tbody tr th {\n",
       "        vertical-align: top;\n",
       "    }\n",
       "\n",
       "    .dataframe thead th {\n",
       "        text-align: right;\n",
       "    }\n",
       "</style>\n",
       "<table border=\"1\" class=\"dataframe\">\n",
       "  <thead>\n",
       "    <tr style=\"text-align: right;\">\n",
       "      <th></th>\n",
       "      <th>id</th>\n",
       "      <th>timestamp</th>\n",
       "      <th>hour</th>\n",
       "      <th>day</th>\n",
       "      <th>month</th>\n",
       "      <th>datetime</th>\n",
       "      <th>timezone</th>\n",
       "      <th>source</th>\n",
       "      <th>destination</th>\n",
       "      <th>cab_type</th>\n",
       "      <th>product_id</th>\n",
       "      <th>name</th>\n",
       "      <th>price</th>\n",
       "      <th>distance</th>\n",
       "      <th>surge_multiplier</th>\n",
       "      <th>latitude</th>\n",
       "      <th>longitude</th>\n",
       "      <th>temperature</th>\n",
       "      <th>apparentTemperature</th>\n",
       "      <th>short_summary</th>\n",
       "      <th>long_summary</th>\n",
       "      <th>precipIntensity</th>\n",
       "      <th>precipProbability</th>\n",
       "      <th>humidity</th>\n",
       "      <th>windSpeed</th>\n",
       "      <th>windGust</th>\n",
       "      <th>windGustTime</th>\n",
       "      <th>visibility</th>\n",
       "      <th>temperatureHigh</th>\n",
       "      <th>temperatureHighTime</th>\n",
       "      <th>temperatureLow</th>\n",
       "      <th>temperatureLowTime</th>\n",
       "      <th>apparentTemperatureHigh</th>\n",
       "      <th>apparentTemperatureHighTime</th>\n",
       "      <th>apparentTemperatureLow</th>\n",
       "      <th>apparentTemperatureLowTime</th>\n",
       "      <th>icon</th>\n",
       "      <th>dewPoint</th>\n",
       "      <th>pressure</th>\n",
       "      <th>windBearing</th>\n",
       "      <th>cloudCover</th>\n",
       "      <th>uvIndex</th>\n",
       "      <th>visibility.1</th>\n",
       "      <th>ozone</th>\n",
       "      <th>sunriseTime</th>\n",
       "      <th>sunsetTime</th>\n",
       "      <th>moonPhase</th>\n",
       "      <th>precipIntensityMax</th>\n",
       "      <th>uvIndexTime</th>\n",
       "      <th>temperatureMin</th>\n",
       "      <th>temperatureMinTime</th>\n",
       "      <th>temperatureMax</th>\n",
       "      <th>temperatureMaxTime</th>\n",
       "      <th>apparentTemperatureMin</th>\n",
       "      <th>apparentTemperatureMinTime</th>\n",
       "      <th>apparentTemperatureMax</th>\n",
       "      <th>apparentTemperatureMaxTime</th>\n",
       "    </tr>\n",
       "  </thead>\n",
       "  <tbody>\n",
       "    <tr>\n",
       "      <th>0</th>\n",
       "      <td>424553bb-7174-41ea-aeb4-fe06d4f4b9d7</td>\n",
       "      <td>1.544953e+09</td>\n",
       "      <td>9</td>\n",
       "      <td>16</td>\n",
       "      <td>12</td>\n",
       "      <td>2018-12-16 09:30:07</td>\n",
       "      <td>America/New_York</td>\n",
       "      <td>Haymarket Square</td>\n",
       "      <td>North Station</td>\n",
       "      <td>Lyft</td>\n",
       "      <td>lyft_line</td>\n",
       "      <td>Shared</td>\n",
       "      <td>5.0</td>\n",
       "      <td>0.44</td>\n",
       "      <td>1.0</td>\n",
       "      <td>42.2148</td>\n",
       "      <td>-71.033</td>\n",
       "      <td>42.34</td>\n",
       "      <td>37.12</td>\n",
       "      <td>Mostly Cloudy</td>\n",
       "      <td>Rain throughout the day.</td>\n",
       "      <td>0.0000</td>\n",
       "      <td>0.0</td>\n",
       "      <td>0.68</td>\n",
       "      <td>8.66</td>\n",
       "      <td>9.17</td>\n",
       "      <td>1545015600</td>\n",
       "      <td>10.000</td>\n",
       "      <td>43.68</td>\n",
       "      <td>1544968800</td>\n",
       "      <td>34.19</td>\n",
       "      <td>1545048000</td>\n",
       "      <td>37.95</td>\n",
       "      <td>1544968800</td>\n",
       "      <td>27.39</td>\n",
       "      <td>1545044400</td>\n",
       "      <td>partly-cloudy-night</td>\n",
       "      <td>32.70</td>\n",
       "      <td>1021.98</td>\n",
       "      <td>57</td>\n",
       "      <td>0.72</td>\n",
       "      <td>0</td>\n",
       "      <td>10.000</td>\n",
       "      <td>303.8</td>\n",
       "      <td>1544962084</td>\n",
       "      <td>1544994864</td>\n",
       "      <td>0.30</td>\n",
       "      <td>0.1276</td>\n",
       "      <td>1544979600</td>\n",
       "      <td>39.89</td>\n",
       "      <td>1545012000</td>\n",
       "      <td>43.68</td>\n",
       "      <td>1544968800</td>\n",
       "      <td>33.73</td>\n",
       "      <td>1545012000</td>\n",
       "      <td>38.07</td>\n",
       "      <td>1544958000</td>\n",
       "    </tr>\n",
       "    <tr>\n",
       "      <th>1</th>\n",
       "      <td>4bd23055-6827-41c6-b23b-3c491f24e74d</td>\n",
       "      <td>1.543284e+09</td>\n",
       "      <td>2</td>\n",
       "      <td>27</td>\n",
       "      <td>11</td>\n",
       "      <td>2018-11-27 02:00:23</td>\n",
       "      <td>America/New_York</td>\n",
       "      <td>Haymarket Square</td>\n",
       "      <td>North Station</td>\n",
       "      <td>Lyft</td>\n",
       "      <td>lyft_premier</td>\n",
       "      <td>Lux</td>\n",
       "      <td>11.0</td>\n",
       "      <td>0.44</td>\n",
       "      <td>1.0</td>\n",
       "      <td>42.2148</td>\n",
       "      <td>-71.033</td>\n",
       "      <td>43.58</td>\n",
       "      <td>37.35</td>\n",
       "      <td>Rain</td>\n",
       "      <td>Rain until morning, starting again in the eve...</td>\n",
       "      <td>0.1299</td>\n",
       "      <td>1.0</td>\n",
       "      <td>0.94</td>\n",
       "      <td>11.98</td>\n",
       "      <td>11.98</td>\n",
       "      <td>1543291200</td>\n",
       "      <td>4.786</td>\n",
       "      <td>47.30</td>\n",
       "      <td>1543251600</td>\n",
       "      <td>42.10</td>\n",
       "      <td>1543298400</td>\n",
       "      <td>43.92</td>\n",
       "      <td>1543251600</td>\n",
       "      <td>36.20</td>\n",
       "      <td>1543291200</td>\n",
       "      <td>rain</td>\n",
       "      <td>41.83</td>\n",
       "      <td>1003.97</td>\n",
       "      <td>90</td>\n",
       "      <td>1.00</td>\n",
       "      <td>0</td>\n",
       "      <td>4.786</td>\n",
       "      <td>291.1</td>\n",
       "      <td>1543232969</td>\n",
       "      <td>1543266992</td>\n",
       "      <td>0.64</td>\n",
       "      <td>0.1300</td>\n",
       "      <td>1543251600</td>\n",
       "      <td>40.49</td>\n",
       "      <td>1543233600</td>\n",
       "      <td>47.30</td>\n",
       "      <td>1543251600</td>\n",
       "      <td>36.20</td>\n",
       "      <td>1543291200</td>\n",
       "      <td>43.92</td>\n",
       "      <td>1543251600</td>\n",
       "    </tr>\n",
       "    <tr>\n",
       "      <th>2</th>\n",
       "      <td>981a3613-77af-4620-a42a-0c0866077d1e</td>\n",
       "      <td>1.543367e+09</td>\n",
       "      <td>1</td>\n",
       "      <td>28</td>\n",
       "      <td>11</td>\n",
       "      <td>2018-11-28 01:00:22</td>\n",
       "      <td>America/New_York</td>\n",
       "      <td>Haymarket Square</td>\n",
       "      <td>North Station</td>\n",
       "      <td>Lyft</td>\n",
       "      <td>lyft</td>\n",
       "      <td>Lyft</td>\n",
       "      <td>7.0</td>\n",
       "      <td>0.44</td>\n",
       "      <td>1.0</td>\n",
       "      <td>42.2148</td>\n",
       "      <td>-71.033</td>\n",
       "      <td>38.33</td>\n",
       "      <td>32.93</td>\n",
       "      <td>Clear</td>\n",
       "      <td>Light rain in the morning.</td>\n",
       "      <td>0.0000</td>\n",
       "      <td>0.0</td>\n",
       "      <td>0.75</td>\n",
       "      <td>7.33</td>\n",
       "      <td>7.33</td>\n",
       "      <td>1543334400</td>\n",
       "      <td>10.000</td>\n",
       "      <td>47.55</td>\n",
       "      <td>1543320000</td>\n",
       "      <td>33.10</td>\n",
       "      <td>1543402800</td>\n",
       "      <td>44.12</td>\n",
       "      <td>1543320000</td>\n",
       "      <td>29.11</td>\n",
       "      <td>1543392000</td>\n",
       "      <td>clear-night</td>\n",
       "      <td>31.10</td>\n",
       "      <td>992.28</td>\n",
       "      <td>240</td>\n",
       "      <td>0.03</td>\n",
       "      <td>0</td>\n",
       "      <td>10.000</td>\n",
       "      <td>315.7</td>\n",
       "      <td>1543319437</td>\n",
       "      <td>1543353364</td>\n",
       "      <td>0.68</td>\n",
       "      <td>0.1064</td>\n",
       "      <td>1543338000</td>\n",
       "      <td>35.36</td>\n",
       "      <td>1543377600</td>\n",
       "      <td>47.55</td>\n",
       "      <td>1543320000</td>\n",
       "      <td>31.04</td>\n",
       "      <td>1543377600</td>\n",
       "      <td>44.12</td>\n",
       "      <td>1543320000</td>\n",
       "    </tr>\n",
       "    <tr>\n",
       "      <th>3</th>\n",
       "      <td>c2d88af2-d278-4bfd-a8d0-29ca77cc5512</td>\n",
       "      <td>1.543554e+09</td>\n",
       "      <td>4</td>\n",
       "      <td>30</td>\n",
       "      <td>11</td>\n",
       "      <td>2018-11-30 04:53:02</td>\n",
       "      <td>America/New_York</td>\n",
       "      <td>Haymarket Square</td>\n",
       "      <td>North Station</td>\n",
       "      <td>Lyft</td>\n",
       "      <td>lyft_luxsuv</td>\n",
       "      <td>Lux Black XL</td>\n",
       "      <td>26.0</td>\n",
       "      <td>0.44</td>\n",
       "      <td>1.0</td>\n",
       "      <td>42.2148</td>\n",
       "      <td>-71.033</td>\n",
       "      <td>34.38</td>\n",
       "      <td>29.63</td>\n",
       "      <td>Clear</td>\n",
       "      <td>Partly cloudy throughout the day.</td>\n",
       "      <td>0.0000</td>\n",
       "      <td>0.0</td>\n",
       "      <td>0.73</td>\n",
       "      <td>5.28</td>\n",
       "      <td>5.28</td>\n",
       "      <td>1543514400</td>\n",
       "      <td>10.000</td>\n",
       "      <td>45.03</td>\n",
       "      <td>1543510800</td>\n",
       "      <td>28.90</td>\n",
       "      <td>1543579200</td>\n",
       "      <td>38.53</td>\n",
       "      <td>1543510800</td>\n",
       "      <td>26.20</td>\n",
       "      <td>1543575600</td>\n",
       "      <td>clear-night</td>\n",
       "      <td>26.64</td>\n",
       "      <td>1013.73</td>\n",
       "      <td>310</td>\n",
       "      <td>0.00</td>\n",
       "      <td>0</td>\n",
       "      <td>10.000</td>\n",
       "      <td>291.1</td>\n",
       "      <td>1543492370</td>\n",
       "      <td>1543526114</td>\n",
       "      <td>0.75</td>\n",
       "      <td>0.0000</td>\n",
       "      <td>1543507200</td>\n",
       "      <td>34.67</td>\n",
       "      <td>1543550400</td>\n",
       "      <td>45.03</td>\n",
       "      <td>1543510800</td>\n",
       "      <td>30.30</td>\n",
       "      <td>1543550400</td>\n",
       "      <td>38.53</td>\n",
       "      <td>1543510800</td>\n",
       "    </tr>\n",
       "    <tr>\n",
       "      <th>4</th>\n",
       "      <td>e0126e1f-8ca9-4f2e-82b3-50505a09db9a</td>\n",
       "      <td>1.543463e+09</td>\n",
       "      <td>3</td>\n",
       "      <td>29</td>\n",
       "      <td>11</td>\n",
       "      <td>2018-11-29 03:49:20</td>\n",
       "      <td>America/New_York</td>\n",
       "      <td>Haymarket Square</td>\n",
       "      <td>North Station</td>\n",
       "      <td>Lyft</td>\n",
       "      <td>lyft_plus</td>\n",
       "      <td>Lyft XL</td>\n",
       "      <td>9.0</td>\n",
       "      <td>0.44</td>\n",
       "      <td>1.0</td>\n",
       "      <td>42.2148</td>\n",
       "      <td>-71.033</td>\n",
       "      <td>37.44</td>\n",
       "      <td>30.88</td>\n",
       "      <td>Partly Cloudy</td>\n",
       "      <td>Mostly cloudy throughout the day.</td>\n",
       "      <td>0.0000</td>\n",
       "      <td>0.0</td>\n",
       "      <td>0.70</td>\n",
       "      <td>9.14</td>\n",
       "      <td>9.14</td>\n",
       "      <td>1543446000</td>\n",
       "      <td>10.000</td>\n",
       "      <td>42.18</td>\n",
       "      <td>1543420800</td>\n",
       "      <td>36.71</td>\n",
       "      <td>1543478400</td>\n",
       "      <td>35.75</td>\n",
       "      <td>1543420800</td>\n",
       "      <td>30.29</td>\n",
       "      <td>1543460400</td>\n",
       "      <td>partly-cloudy-night</td>\n",
       "      <td>28.61</td>\n",
       "      <td>998.36</td>\n",
       "      <td>303</td>\n",
       "      <td>0.44</td>\n",
       "      <td>0</td>\n",
       "      <td>10.000</td>\n",
       "      <td>347.7</td>\n",
       "      <td>1543405904</td>\n",
       "      <td>1543439738</td>\n",
       "      <td>0.72</td>\n",
       "      <td>0.0001</td>\n",
       "      <td>1543420800</td>\n",
       "      <td>33.10</td>\n",
       "      <td>1543402800</td>\n",
       "      <td>42.18</td>\n",
       "      <td>1543420800</td>\n",
       "      <td>29.11</td>\n",
       "      <td>1543392000</td>\n",
       "      <td>35.75</td>\n",
       "      <td>1543420800</td>\n",
       "    </tr>\n",
       "  </tbody>\n",
       "</table>\n",
       "</div>"
      ],
      "text/plain": [
       "                                     id     timestamp  hour  day  month  \\\n",
       "0  424553bb-7174-41ea-aeb4-fe06d4f4b9d7  1.544953e+09     9   16     12   \n",
       "1  4bd23055-6827-41c6-b23b-3c491f24e74d  1.543284e+09     2   27     11   \n",
       "2  981a3613-77af-4620-a42a-0c0866077d1e  1.543367e+09     1   28     11   \n",
       "3  c2d88af2-d278-4bfd-a8d0-29ca77cc5512  1.543554e+09     4   30     11   \n",
       "4  e0126e1f-8ca9-4f2e-82b3-50505a09db9a  1.543463e+09     3   29     11   \n",
       "\n",
       "              datetime          timezone            source    destination  \\\n",
       "0  2018-12-16 09:30:07  America/New_York  Haymarket Square  North Station   \n",
       "1  2018-11-27 02:00:23  America/New_York  Haymarket Square  North Station   \n",
       "2  2018-11-28 01:00:22  America/New_York  Haymarket Square  North Station   \n",
       "3  2018-11-30 04:53:02  America/New_York  Haymarket Square  North Station   \n",
       "4  2018-11-29 03:49:20  America/New_York  Haymarket Square  North Station   \n",
       "\n",
       "  cab_type    product_id          name  price  distance  surge_multiplier  \\\n",
       "0     Lyft     lyft_line        Shared    5.0      0.44               1.0   \n",
       "1     Lyft  lyft_premier           Lux   11.0      0.44               1.0   \n",
       "2     Lyft          lyft          Lyft    7.0      0.44               1.0   \n",
       "3     Lyft   lyft_luxsuv  Lux Black XL   26.0      0.44               1.0   \n",
       "4     Lyft     lyft_plus       Lyft XL    9.0      0.44               1.0   \n",
       "\n",
       "   latitude  longitude  temperature  apparentTemperature    short_summary  \\\n",
       "0   42.2148    -71.033        42.34                37.12   Mostly Cloudy    \n",
       "1   42.2148    -71.033        43.58                37.35            Rain    \n",
       "2   42.2148    -71.033        38.33                32.93           Clear    \n",
       "3   42.2148    -71.033        34.38                29.63           Clear    \n",
       "4   42.2148    -71.033        37.44                30.88   Partly Cloudy    \n",
       "\n",
       "                                        long_summary  precipIntensity  \\\n",
       "0                          Rain throughout the day.            0.0000   \n",
       "1   Rain until morning, starting again in the eve...           0.1299   \n",
       "2                        Light rain in the morning.            0.0000   \n",
       "3                 Partly cloudy throughout the day.            0.0000   \n",
       "4                 Mostly cloudy throughout the day.            0.0000   \n",
       "\n",
       "   precipProbability  humidity  windSpeed  windGust  windGustTime  visibility  \\\n",
       "0                0.0      0.68       8.66      9.17    1545015600      10.000   \n",
       "1                1.0      0.94      11.98     11.98    1543291200       4.786   \n",
       "2                0.0      0.75       7.33      7.33    1543334400      10.000   \n",
       "3                0.0      0.73       5.28      5.28    1543514400      10.000   \n",
       "4                0.0      0.70       9.14      9.14    1543446000      10.000   \n",
       "\n",
       "   temperatureHigh  temperatureHighTime  temperatureLow  temperatureLowTime  \\\n",
       "0            43.68           1544968800           34.19          1545048000   \n",
       "1            47.30           1543251600           42.10          1543298400   \n",
       "2            47.55           1543320000           33.10          1543402800   \n",
       "3            45.03           1543510800           28.90          1543579200   \n",
       "4            42.18           1543420800           36.71          1543478400   \n",
       "\n",
       "   apparentTemperatureHigh  apparentTemperatureHighTime  \\\n",
       "0                    37.95                   1544968800   \n",
       "1                    43.92                   1543251600   \n",
       "2                    44.12                   1543320000   \n",
       "3                    38.53                   1543510800   \n",
       "4                    35.75                   1543420800   \n",
       "\n",
       "   apparentTemperatureLow  apparentTemperatureLowTime                   icon  \\\n",
       "0                   27.39                  1545044400   partly-cloudy-night    \n",
       "1                   36.20                  1543291200                  rain    \n",
       "2                   29.11                  1543392000           clear-night    \n",
       "3                   26.20                  1543575600           clear-night    \n",
       "4                   30.29                  1543460400   partly-cloudy-night    \n",
       "\n",
       "   dewPoint  pressure  windBearing  cloudCover  uvIndex  visibility.1  ozone  \\\n",
       "0     32.70   1021.98           57        0.72        0        10.000  303.8   \n",
       "1     41.83   1003.97           90        1.00        0         4.786  291.1   \n",
       "2     31.10    992.28          240        0.03        0        10.000  315.7   \n",
       "3     26.64   1013.73          310        0.00        0        10.000  291.1   \n",
       "4     28.61    998.36          303        0.44        0        10.000  347.7   \n",
       "\n",
       "   sunriseTime  sunsetTime  moonPhase  precipIntensityMax  uvIndexTime  \\\n",
       "0   1544962084  1544994864       0.30              0.1276   1544979600   \n",
       "1   1543232969  1543266992       0.64              0.1300   1543251600   \n",
       "2   1543319437  1543353364       0.68              0.1064   1543338000   \n",
       "3   1543492370  1543526114       0.75              0.0000   1543507200   \n",
       "4   1543405904  1543439738       0.72              0.0001   1543420800   \n",
       "\n",
       "   temperatureMin  temperatureMinTime  temperatureMax  temperatureMaxTime  \\\n",
       "0           39.89          1545012000           43.68          1544968800   \n",
       "1           40.49          1543233600           47.30          1543251600   \n",
       "2           35.36          1543377600           47.55          1543320000   \n",
       "3           34.67          1543550400           45.03          1543510800   \n",
       "4           33.10          1543402800           42.18          1543420800   \n",
       "\n",
       "   apparentTemperatureMin  apparentTemperatureMinTime  apparentTemperatureMax  \\\n",
       "0                   33.73                  1545012000                   38.07   \n",
       "1                   36.20                  1543291200                   43.92   \n",
       "2                   31.04                  1543377600                   44.12   \n",
       "3                   30.30                  1543550400                   38.53   \n",
       "4                   29.11                  1543392000                   35.75   \n",
       "\n",
       "   apparentTemperatureMaxTime  \n",
       "0                  1544958000  \n",
       "1                  1543251600  \n",
       "2                  1543320000  \n",
       "3                  1543510800  \n",
       "4                  1543420800  "
      ]
     },
     "execution_count": 4,
     "metadata": {},
     "output_type": "execute_result"
    }
   ],
   "source": [
    "df.head()"
   ]
  },
  {
   "cell_type": "code",
   "execution_count": 5,
   "id": "48dd0083",
   "metadata": {},
   "outputs": [
    {
     "data": {
      "text/plain": [
       "Uber    385663\n",
       "Lyft    307408\n",
       "Name: cab_type, dtype: int64"
      ]
     },
     "execution_count": 5,
     "metadata": {},
     "output_type": "execute_result"
    }
   ],
   "source": [
    "df['cab_type'].value_counts()"
   ]
  },
  {
   "cell_type": "markdown",
   "id": "53aeb926",
   "metadata": {},
   "source": [
    "## Cek Informasi Data"
   ]
  },
  {
   "cell_type": "code",
   "execution_count": 6,
   "id": "4c242af8",
   "metadata": {},
   "outputs": [
    {
     "name": "stdout",
     "output_type": "stream",
     "text": [
      "<class 'pandas.core.frame.DataFrame'>\n",
      "RangeIndex: 693071 entries, 0 to 693070\n",
      "Data columns (total 57 columns):\n",
      " #   Column                       Non-Null Count   Dtype  \n",
      "---  ------                       --------------   -----  \n",
      " 0   id                           693071 non-null  object \n",
      " 1   timestamp                    693071 non-null  float64\n",
      " 2   hour                         693071 non-null  int64  \n",
      " 3   day                          693071 non-null  int64  \n",
      " 4   month                        693071 non-null  int64  \n",
      " 5   datetime                     693071 non-null  object \n",
      " 6   timezone                     693071 non-null  object \n",
      " 7   source                       693071 non-null  object \n",
      " 8   destination                  693071 non-null  object \n",
      " 9   cab_type                     693071 non-null  object \n",
      " 10  product_id                   693071 non-null  object \n",
      " 11  name                         693071 non-null  object \n",
      " 12  price                        637976 non-null  float64\n",
      " 13  distance                     693071 non-null  float64\n",
      " 14  surge_multiplier             693071 non-null  float64\n",
      " 15  latitude                     693071 non-null  float64\n",
      " 16  longitude                    693071 non-null  float64\n",
      " 17  temperature                  693071 non-null  float64\n",
      " 18  apparentTemperature          693071 non-null  float64\n",
      " 19  short_summary                693071 non-null  object \n",
      " 20  long_summary                 693071 non-null  object \n",
      " 21  precipIntensity              693071 non-null  float64\n",
      " 22  precipProbability            693071 non-null  float64\n",
      " 23  humidity                     693071 non-null  float64\n",
      " 24  windSpeed                    693071 non-null  float64\n",
      " 25  windGust                     693071 non-null  float64\n",
      " 26  windGustTime                 693071 non-null  int64  \n",
      " 27  visibility                   693071 non-null  float64\n",
      " 28  temperatureHigh              693071 non-null  float64\n",
      " 29  temperatureHighTime          693071 non-null  int64  \n",
      " 30  temperatureLow               693071 non-null  float64\n",
      " 31  temperatureLowTime           693071 non-null  int64  \n",
      " 32  apparentTemperatureHigh      693071 non-null  float64\n",
      " 33  apparentTemperatureHighTime  693071 non-null  int64  \n",
      " 34  apparentTemperatureLow       693071 non-null  float64\n",
      " 35  apparentTemperatureLowTime   693071 non-null  int64  \n",
      " 36  icon                         693071 non-null  object \n",
      " 37  dewPoint                     693071 non-null  float64\n",
      " 38  pressure                     693071 non-null  float64\n",
      " 39  windBearing                  693071 non-null  int64  \n",
      " 40  cloudCover                   693071 non-null  float64\n",
      " 41  uvIndex                      693071 non-null  int64  \n",
      " 42  visibility.1                 693071 non-null  float64\n",
      " 43  ozone                        693071 non-null  float64\n",
      " 44  sunriseTime                  693071 non-null  int64  \n",
      " 45  sunsetTime                   693071 non-null  int64  \n",
      " 46  moonPhase                    693071 non-null  float64\n",
      " 47  precipIntensityMax           693071 non-null  float64\n",
      " 48  uvIndexTime                  693071 non-null  int64  \n",
      " 49  temperatureMin               693071 non-null  float64\n",
      " 50  temperatureMinTime           693071 non-null  int64  \n",
      " 51  temperatureMax               693071 non-null  float64\n",
      " 52  temperatureMaxTime           693071 non-null  int64  \n",
      " 53  apparentTemperatureMin       693071 non-null  float64\n",
      " 54  apparentTemperatureMinTime   693071 non-null  int64  \n",
      " 55  apparentTemperatureMax       693071 non-null  float64\n",
      " 56  apparentTemperatureMaxTime   693071 non-null  int64  \n",
      "dtypes: float64(29), int64(17), object(11)\n",
      "memory usage: 301.4+ MB\n"
     ]
    }
   ],
   "source": [
    "df.info()"
   ]
  },
  {
   "cell_type": "markdown",
   "id": "9338e3f8",
   "metadata": {},
   "source": [
    "## DATA CLEANING"
   ]
  },
  {
   "cell_type": "markdown",
   "id": "b30acbe4",
   "metadata": {},
   "source": [
    "### CEK MISSING VALUE"
   ]
  },
  {
   "cell_type": "code",
   "execution_count": 7,
   "id": "650c1c5c",
   "metadata": {},
   "outputs": [
    {
     "data": {
      "text/plain": [
       "id                                 0\n",
       "timestamp                          0\n",
       "hour                               0\n",
       "day                                0\n",
       "month                              0\n",
       "datetime                           0\n",
       "timezone                           0\n",
       "source                             0\n",
       "destination                        0\n",
       "cab_type                           0\n",
       "product_id                         0\n",
       "name                               0\n",
       "price                          55095\n",
       "distance                           0\n",
       "surge_multiplier                   0\n",
       "latitude                           0\n",
       "longitude                          0\n",
       "temperature                        0\n",
       "apparentTemperature                0\n",
       "short_summary                      0\n",
       "long_summary                       0\n",
       "precipIntensity                    0\n",
       "precipProbability                  0\n",
       "humidity                           0\n",
       "windSpeed                          0\n",
       "windGust                           0\n",
       "windGustTime                       0\n",
       "visibility                         0\n",
       "temperatureHigh                    0\n",
       "temperatureHighTime                0\n",
       "temperatureLow                     0\n",
       "temperatureLowTime                 0\n",
       "apparentTemperatureHigh            0\n",
       "apparentTemperatureHighTime        0\n",
       "apparentTemperatureLow             0\n",
       "apparentTemperatureLowTime         0\n",
       "icon                               0\n",
       "dewPoint                           0\n",
       "pressure                           0\n",
       "windBearing                        0\n",
       "cloudCover                         0\n",
       "uvIndex                            0\n",
       "visibility.1                       0\n",
       "ozone                              0\n",
       "sunriseTime                        0\n",
       "sunsetTime                         0\n",
       "moonPhase                          0\n",
       "precipIntensityMax                 0\n",
       "uvIndexTime                        0\n",
       "temperatureMin                     0\n",
       "temperatureMinTime                 0\n",
       "temperatureMax                     0\n",
       "temperatureMaxTime                 0\n",
       "apparentTemperatureMin             0\n",
       "apparentTemperatureMinTime         0\n",
       "apparentTemperatureMax             0\n",
       "apparentTemperatureMaxTime         0\n",
       "dtype: int64"
      ]
     },
     "execution_count": 7,
     "metadata": {},
     "output_type": "execute_result"
    }
   ],
   "source": [
    "df.isnull().sum()"
   ]
  },
  {
   "cell_type": "code",
   "execution_count": 8,
   "id": "b7d9edf6",
   "metadata": {},
   "outputs": [
    {
     "data": {
      "text/plain": [
       "True"
      ]
     },
     "execution_count": 8,
     "metadata": {},
     "output_type": "execute_result"
    }
   ],
   "source": [
    "df.isnull().values.any()"
   ]
  },
  {
   "cell_type": "markdown",
   "id": "0615d15d",
   "metadata": {},
   "source": [
    "Output True artinya pada dataset terdapat missing value"
   ]
  },
  {
   "cell_type": "code",
   "execution_count": 9,
   "id": "e698c717",
   "metadata": {},
   "outputs": [
    {
     "data": {
      "text/plain": [
       "55095"
      ]
     },
     "execution_count": 9,
     "metadata": {},
     "output_type": "execute_result"
    }
   ],
   "source": [
    "df.isnull().sum().sum()"
   ]
  },
  {
   "cell_type": "markdown",
   "id": "feaa971f",
   "metadata": {},
   "source": [
    "Output 55095 berarti jumlah missing value pada kolom price"
   ]
  },
  {
   "cell_type": "markdown",
   "id": "77399885",
   "metadata": {},
   "source": [
    "### Drop Missing Value"
   ]
  },
  {
   "cell_type": "markdown",
   "id": "3a7a4c99",
   "metadata": {},
   "source": [
    "Dikarenakan kita akan memprediksi harga pada dataset ini, dan kebetulan pada dataset ini terdapat data yang null pada kolom <b>price</b>, maka secara tidak langsung kita tidak memiliki label/prediksi dari features nya ketika kolom <b>price</b> null. Maka dari itu kita drop missing value yang terdapat pada kolom <b>price</b>"
   ]
  },
  {
   "cell_type": "code",
   "execution_count": 10,
   "id": "8185dc09",
   "metadata": {},
   "outputs": [],
   "source": [
    "df.dropna(axis=0, inplace=True)"
   ]
  },
  {
   "cell_type": "code",
   "execution_count": 11,
   "id": "6c26a6a1",
   "metadata": {},
   "outputs": [
    {
     "data": {
      "text/plain": [
       "0"
      ]
     },
     "execution_count": 11,
     "metadata": {},
     "output_type": "execute_result"
    }
   ],
   "source": [
    "df.isnull().sum().sum()"
   ]
  },
  {
   "cell_type": "markdown",
   "id": "9408e1df",
   "metadata": {},
   "source": [
    "Jumlah missing value menjadi 0 karena missing value sudah diisi drop atau dihapus"
   ]
  },
  {
   "cell_type": "markdown",
   "id": "f8370b3d",
   "metadata": {},
   "source": [
    "### CEK DUPLIKASI DATA"
   ]
  },
  {
   "cell_type": "code",
   "execution_count": 12,
   "id": "13f6b263",
   "metadata": {},
   "outputs": [
    {
     "data": {
      "text/plain": [
       "False"
      ]
     },
     "execution_count": 12,
     "metadata": {},
     "output_type": "execute_result"
    }
   ],
   "source": [
    "df.duplicated().any()"
   ]
  },
  {
   "cell_type": "code",
   "execution_count": 13,
   "id": "fc502562",
   "metadata": {},
   "outputs": [
    {
     "data": {
      "text/plain": [
       "0"
      ]
     },
     "execution_count": 13,
     "metadata": {},
     "output_type": "execute_result"
    }
   ],
   "source": [
    "df.duplicated().sum()"
   ]
  },
  {
   "cell_type": "markdown",
   "id": "121ec674",
   "metadata": {},
   "source": [
    "Tidak ada data yang duplikat"
   ]
  },
  {
   "cell_type": "markdown",
   "id": "19702505",
   "metadata": {},
   "source": [
    "### Memanipulasi Data"
   ]
  },
  {
   "cell_type": "code",
   "execution_count": 14,
   "id": "f975e2db",
   "metadata": {},
   "outputs": [],
   "source": [
    "df['name'] = df['name'].str.replace('Black SUV', 'BlackSUV')\n",
    "df['name'] = df['name'].str.replace('Lyft Black XL', 'LyftBlackXL')\n",
    "df['name'] = df['name'].str.replace('Lyft XL', 'LyftXL')\n",
    "df['name'] = df['name'].str.replace('Lux Black XL', 'LuxBlackXL')\n",
    "df['name'] = df['name'].str.replace('Lux Black', 'LuxBlack')"
   ]
  },
  {
   "cell_type": "code",
   "execution_count": 15,
   "id": "7ace6df5",
   "metadata": {},
   "outputs": [
    {
     "data": {
      "text/plain": [
       "array(['Shared', 'Lux', 'Lyft', 'LuxBlackXL', 'LyftXL', 'LuxBlack',\n",
       "       'UberXL', 'Black', 'UberX', 'WAV', 'BlackSUV', 'UberPool'],\n",
       "      dtype=object)"
      ]
     },
     "execution_count": 15,
     "metadata": {},
     "output_type": "execute_result"
    }
   ],
   "source": [
    "df['name'].unique()"
   ]
  },
  {
   "cell_type": "markdown",
   "id": "0ed892bc",
   "metadata": {},
   "source": [
    "### MEMBERSIHKAN KOLOM\n",
    "Menghapus kolom yang datanya tidak di butuhkan"
   ]
  },
  {
   "cell_type": "code",
   "execution_count": 16,
   "id": "732de9e9",
   "metadata": {},
   "outputs": [],
   "source": [
    "df_final = df[['source', 'destination', 'cab_type', 'name', 'price', 'distance', 'surge_multiplier']]"
   ]
  },
  {
   "cell_type": "code",
   "execution_count": 17,
   "id": "1ace62fe",
   "metadata": {},
   "outputs": [
    {
     "data": {
      "text/html": [
       "<div>\n",
       "<style scoped>\n",
       "    .dataframe tbody tr th:only-of-type {\n",
       "        vertical-align: middle;\n",
       "    }\n",
       "\n",
       "    .dataframe tbody tr th {\n",
       "        vertical-align: top;\n",
       "    }\n",
       "\n",
       "    .dataframe thead th {\n",
       "        text-align: right;\n",
       "    }\n",
       "</style>\n",
       "<table border=\"1\" class=\"dataframe\">\n",
       "  <thead>\n",
       "    <tr style=\"text-align: right;\">\n",
       "      <th></th>\n",
       "      <th>source</th>\n",
       "      <th>destination</th>\n",
       "      <th>cab_type</th>\n",
       "      <th>name</th>\n",
       "      <th>price</th>\n",
       "      <th>distance</th>\n",
       "      <th>surge_multiplier</th>\n",
       "    </tr>\n",
       "  </thead>\n",
       "  <tbody>\n",
       "    <tr>\n",
       "      <th>0</th>\n",
       "      <td>Haymarket Square</td>\n",
       "      <td>North Station</td>\n",
       "      <td>Lyft</td>\n",
       "      <td>Shared</td>\n",
       "      <td>5.0</td>\n",
       "      <td>0.44</td>\n",
       "      <td>1.0</td>\n",
       "    </tr>\n",
       "    <tr>\n",
       "      <th>1</th>\n",
       "      <td>Haymarket Square</td>\n",
       "      <td>North Station</td>\n",
       "      <td>Lyft</td>\n",
       "      <td>Lux</td>\n",
       "      <td>11.0</td>\n",
       "      <td>0.44</td>\n",
       "      <td>1.0</td>\n",
       "    </tr>\n",
       "    <tr>\n",
       "      <th>2</th>\n",
       "      <td>Haymarket Square</td>\n",
       "      <td>North Station</td>\n",
       "      <td>Lyft</td>\n",
       "      <td>Lyft</td>\n",
       "      <td>7.0</td>\n",
       "      <td>0.44</td>\n",
       "      <td>1.0</td>\n",
       "    </tr>\n",
       "    <tr>\n",
       "      <th>3</th>\n",
       "      <td>Haymarket Square</td>\n",
       "      <td>North Station</td>\n",
       "      <td>Lyft</td>\n",
       "      <td>LuxBlackXL</td>\n",
       "      <td>26.0</td>\n",
       "      <td>0.44</td>\n",
       "      <td>1.0</td>\n",
       "    </tr>\n",
       "    <tr>\n",
       "      <th>4</th>\n",
       "      <td>Haymarket Square</td>\n",
       "      <td>North Station</td>\n",
       "      <td>Lyft</td>\n",
       "      <td>LyftXL</td>\n",
       "      <td>9.0</td>\n",
       "      <td>0.44</td>\n",
       "      <td>1.0</td>\n",
       "    </tr>\n",
       "  </tbody>\n",
       "</table>\n",
       "</div>"
      ],
      "text/plain": [
       "             source    destination cab_type        name  price  distance  \\\n",
       "0  Haymarket Square  North Station     Lyft      Shared    5.0      0.44   \n",
       "1  Haymarket Square  North Station     Lyft         Lux   11.0      0.44   \n",
       "2  Haymarket Square  North Station     Lyft        Lyft    7.0      0.44   \n",
       "3  Haymarket Square  North Station     Lyft  LuxBlackXL   26.0      0.44   \n",
       "4  Haymarket Square  North Station     Lyft      LyftXL    9.0      0.44   \n",
       "\n",
       "   surge_multiplier  \n",
       "0               1.0  \n",
       "1               1.0  \n",
       "2               1.0  \n",
       "3               1.0  \n",
       "4               1.0  "
      ]
     },
     "execution_count": 17,
     "metadata": {},
     "output_type": "execute_result"
    }
   ],
   "source": [
    "df_final.head(5)"
   ]
  },
  {
   "cell_type": "markdown",
   "id": "520c2449",
   "metadata": {},
   "source": [
    "### MENGUBAH NILAI PADA KOLOM CAB_TYPE MENJADI NUMERIK"
   ]
  },
  {
   "cell_type": "code",
   "execution_count": 18,
   "id": "2d21fa3d",
   "metadata": {},
   "outputs": [],
   "source": [
    "cabt_map = {'Lyft':1, 'Uber':2}\n",
    "df_final['cab_type'] = df_final['cab_type'].map(cabt_map)"
   ]
  },
  {
   "cell_type": "code",
   "execution_count": 19,
   "id": "b94d755c",
   "metadata": {},
   "outputs": [
    {
     "data": {
      "text/html": [
       "<div>\n",
       "<style scoped>\n",
       "    .dataframe tbody tr th:only-of-type {\n",
       "        vertical-align: middle;\n",
       "    }\n",
       "\n",
       "    .dataframe tbody tr th {\n",
       "        vertical-align: top;\n",
       "    }\n",
       "\n",
       "    .dataframe thead th {\n",
       "        text-align: right;\n",
       "    }\n",
       "</style>\n",
       "<table border=\"1\" class=\"dataframe\">\n",
       "  <thead>\n",
       "    <tr style=\"text-align: right;\">\n",
       "      <th></th>\n",
       "      <th>source</th>\n",
       "      <th>destination</th>\n",
       "      <th>cab_type</th>\n",
       "      <th>name</th>\n",
       "      <th>price</th>\n",
       "      <th>distance</th>\n",
       "      <th>surge_multiplier</th>\n",
       "    </tr>\n",
       "  </thead>\n",
       "  <tbody>\n",
       "    <tr>\n",
       "      <th>0</th>\n",
       "      <td>Haymarket Square</td>\n",
       "      <td>North Station</td>\n",
       "      <td>1</td>\n",
       "      <td>Shared</td>\n",
       "      <td>5.0</td>\n",
       "      <td>0.44</td>\n",
       "      <td>1.0</td>\n",
       "    </tr>\n",
       "    <tr>\n",
       "      <th>1</th>\n",
       "      <td>Haymarket Square</td>\n",
       "      <td>North Station</td>\n",
       "      <td>1</td>\n",
       "      <td>Lux</td>\n",
       "      <td>11.0</td>\n",
       "      <td>0.44</td>\n",
       "      <td>1.0</td>\n",
       "    </tr>\n",
       "    <tr>\n",
       "      <th>2</th>\n",
       "      <td>Haymarket Square</td>\n",
       "      <td>North Station</td>\n",
       "      <td>1</td>\n",
       "      <td>Lyft</td>\n",
       "      <td>7.0</td>\n",
       "      <td>0.44</td>\n",
       "      <td>1.0</td>\n",
       "    </tr>\n",
       "    <tr>\n",
       "      <th>3</th>\n",
       "      <td>Haymarket Square</td>\n",
       "      <td>North Station</td>\n",
       "      <td>1</td>\n",
       "      <td>LuxBlackXL</td>\n",
       "      <td>26.0</td>\n",
       "      <td>0.44</td>\n",
       "      <td>1.0</td>\n",
       "    </tr>\n",
       "    <tr>\n",
       "      <th>4</th>\n",
       "      <td>Haymarket Square</td>\n",
       "      <td>North Station</td>\n",
       "      <td>1</td>\n",
       "      <td>LyftXL</td>\n",
       "      <td>9.0</td>\n",
       "      <td>0.44</td>\n",
       "      <td>1.0</td>\n",
       "    </tr>\n",
       "    <tr>\n",
       "      <th>...</th>\n",
       "      <td>...</td>\n",
       "      <td>...</td>\n",
       "      <td>...</td>\n",
       "      <td>...</td>\n",
       "      <td>...</td>\n",
       "      <td>...</td>\n",
       "      <td>...</td>\n",
       "    </tr>\n",
       "    <tr>\n",
       "      <th>693065</th>\n",
       "      <td>West End</td>\n",
       "      <td>North End</td>\n",
       "      <td>2</td>\n",
       "      <td>WAV</td>\n",
       "      <td>9.5</td>\n",
       "      <td>1.00</td>\n",
       "      <td>1.0</td>\n",
       "    </tr>\n",
       "    <tr>\n",
       "      <th>693066</th>\n",
       "      <td>West End</td>\n",
       "      <td>North End</td>\n",
       "      <td>2</td>\n",
       "      <td>UberXL</td>\n",
       "      <td>13.0</td>\n",
       "      <td>1.00</td>\n",
       "      <td>1.0</td>\n",
       "    </tr>\n",
       "    <tr>\n",
       "      <th>693067</th>\n",
       "      <td>West End</td>\n",
       "      <td>North End</td>\n",
       "      <td>2</td>\n",
       "      <td>UberX</td>\n",
       "      <td>9.5</td>\n",
       "      <td>1.00</td>\n",
       "      <td>1.0</td>\n",
       "    </tr>\n",
       "    <tr>\n",
       "      <th>693069</th>\n",
       "      <td>West End</td>\n",
       "      <td>North End</td>\n",
       "      <td>2</td>\n",
       "      <td>BlackSUV</td>\n",
       "      <td>27.0</td>\n",
       "      <td>1.00</td>\n",
       "      <td>1.0</td>\n",
       "    </tr>\n",
       "    <tr>\n",
       "      <th>693070</th>\n",
       "      <td>West End</td>\n",
       "      <td>North End</td>\n",
       "      <td>2</td>\n",
       "      <td>UberPool</td>\n",
       "      <td>10.0</td>\n",
       "      <td>1.00</td>\n",
       "      <td>1.0</td>\n",
       "    </tr>\n",
       "  </tbody>\n",
       "</table>\n",
       "<p>637976 rows × 7 columns</p>\n",
       "</div>"
      ],
      "text/plain": [
       "                  source    destination  cab_type        name  price  \\\n",
       "0       Haymarket Square  North Station         1      Shared    5.0   \n",
       "1       Haymarket Square  North Station         1         Lux   11.0   \n",
       "2       Haymarket Square  North Station         1        Lyft    7.0   \n",
       "3       Haymarket Square  North Station         1  LuxBlackXL   26.0   \n",
       "4       Haymarket Square  North Station         1      LyftXL    9.0   \n",
       "...                  ...            ...       ...         ...    ...   \n",
       "693065          West End      North End         2         WAV    9.5   \n",
       "693066          West End      North End         2      UberXL   13.0   \n",
       "693067          West End      North End         2       UberX    9.5   \n",
       "693069          West End      North End         2    BlackSUV   27.0   \n",
       "693070          West End      North End         2    UberPool   10.0   \n",
       "\n",
       "        distance  surge_multiplier  \n",
       "0           0.44               1.0  \n",
       "1           0.44               1.0  \n",
       "2           0.44               1.0  \n",
       "3           0.44               1.0  \n",
       "4           0.44               1.0  \n",
       "...          ...               ...  \n",
       "693065      1.00               1.0  \n",
       "693066      1.00               1.0  \n",
       "693067      1.00               1.0  \n",
       "693069      1.00               1.0  \n",
       "693070      1.00               1.0  \n",
       "\n",
       "[637976 rows x 7 columns]"
      ]
     },
     "execution_count": 19,
     "metadata": {},
     "output_type": "execute_result"
    }
   ],
   "source": [
    "df_final"
   ]
  },
  {
   "cell_type": "markdown",
   "id": "7c674231",
   "metadata": {},
   "source": [
    "Output diatas diketahui bahwa setaleh mengubah data pada kolom cab_type "
   ]
  },
  {
   "cell_type": "markdown",
   "id": "29bcfbdd",
   "metadata": {},
   "source": [
    "### Cek dan Hapus data duplikat - df_final"
   ]
  },
  {
   "cell_type": "code",
   "execution_count": 20,
   "id": "056d118e",
   "metadata": {},
   "outputs": [
    {
     "data": {
      "text/plain": [
       "557509"
      ]
     },
     "execution_count": 20,
     "metadata": {},
     "output_type": "execute_result"
    }
   ],
   "source": [
    "df_final.duplicated().sum()"
   ]
  },
  {
   "cell_type": "code",
   "execution_count": 21,
   "id": "3555d43f",
   "metadata": {},
   "outputs": [],
   "source": [
    "df_final =df_final.drop_duplicates()"
   ]
  },
  {
   "cell_type": "code",
   "execution_count": 22,
   "id": "983aa444",
   "metadata": {},
   "outputs": [
    {
     "data": {
      "text/plain": [
       "0"
      ]
     },
     "execution_count": 22,
     "metadata": {},
     "output_type": "execute_result"
    }
   ],
   "source": [
    "df_final.duplicated().sum()"
   ]
  },
  {
   "cell_type": "code",
   "execution_count": 23,
   "id": "48087f1b",
   "metadata": {},
   "outputs": [
    {
     "data": {
      "text/plain": [
       "(80467, 7)"
      ]
     },
     "execution_count": 23,
     "metadata": {},
     "output_type": "execute_result"
    }
   ],
   "source": [
    "df_final.shape"
   ]
  },
  {
   "cell_type": "code",
   "execution_count": 24,
   "id": "ba50673f",
   "metadata": {},
   "outputs": [
    {
     "name": "stdout",
     "output_type": "stream",
     "text": [
      "<class 'pandas.core.frame.DataFrame'>\n",
      "Int64Index: 80467 entries, 0 to 693070\n",
      "Data columns (total 7 columns):\n",
      " #   Column            Non-Null Count  Dtype  \n",
      "---  ------            --------------  -----  \n",
      " 0   source            80467 non-null  object \n",
      " 1   destination       80467 non-null  object \n",
      " 2   cab_type          80467 non-null  int64  \n",
      " 3   name              80467 non-null  object \n",
      " 4   price             80467 non-null  float64\n",
      " 5   distance          80467 non-null  float64\n",
      " 6   surge_multiplier  80467 non-null  float64\n",
      "dtypes: float64(3), int64(1), object(3)\n",
      "memory usage: 4.9+ MB\n"
     ]
    }
   ],
   "source": [
    "df_final.info()"
   ]
  },
  {
   "cell_type": "code",
   "execution_count": 25,
   "id": "1ea35554",
   "metadata": {},
   "outputs": [
    {
     "data": {
      "text/html": [
       "<div>\n",
       "<style scoped>\n",
       "    .dataframe tbody tr th:only-of-type {\n",
       "        vertical-align: middle;\n",
       "    }\n",
       "\n",
       "    .dataframe tbody tr th {\n",
       "        vertical-align: top;\n",
       "    }\n",
       "\n",
       "    .dataframe thead th {\n",
       "        text-align: right;\n",
       "    }\n",
       "</style>\n",
       "<table border=\"1\" class=\"dataframe\">\n",
       "  <thead>\n",
       "    <tr style=\"text-align: right;\">\n",
       "      <th></th>\n",
       "      <th>cab_type</th>\n",
       "      <th>price</th>\n",
       "      <th>distance</th>\n",
       "      <th>surge_multiplier</th>\n",
       "    </tr>\n",
       "  </thead>\n",
       "  <tbody>\n",
       "    <tr>\n",
       "      <th>count</th>\n",
       "      <td>80467.000000</td>\n",
       "      <td>80467.000000</td>\n",
       "      <td>80467.000000</td>\n",
       "      <td>80467.000000</td>\n",
       "    </tr>\n",
       "    <tr>\n",
       "      <th>mean</th>\n",
       "      <td>1.405707</td>\n",
       "      <td>20.126735</td>\n",
       "      <td>2.509218</td>\n",
       "      <td>1.088067</td>\n",
       "    </tr>\n",
       "    <tr>\n",
       "      <th>std</th>\n",
       "      <td>0.491031</td>\n",
       "      <td>11.848018</td>\n",
       "      <td>1.178509</td>\n",
       "      <td>0.223610</td>\n",
       "    </tr>\n",
       "    <tr>\n",
       "      <th>min</th>\n",
       "      <td>1.000000</td>\n",
       "      <td>2.500000</td>\n",
       "      <td>0.020000</td>\n",
       "      <td>1.000000</td>\n",
       "    </tr>\n",
       "    <tr>\n",
       "      <th>25%</th>\n",
       "      <td>1.000000</td>\n",
       "      <td>10.500000</td>\n",
       "      <td>1.570000</td>\n",
       "      <td>1.000000</td>\n",
       "    </tr>\n",
       "    <tr>\n",
       "      <th>50%</th>\n",
       "      <td>1.000000</td>\n",
       "      <td>17.000000</td>\n",
       "      <td>2.430000</td>\n",
       "      <td>1.000000</td>\n",
       "    </tr>\n",
       "    <tr>\n",
       "      <th>75%</th>\n",
       "      <td>2.000000</td>\n",
       "      <td>27.500000</td>\n",
       "      <td>3.160000</td>\n",
       "      <td>1.000000</td>\n",
       "    </tr>\n",
       "    <tr>\n",
       "      <th>max</th>\n",
       "      <td>2.000000</td>\n",
       "      <td>97.500000</td>\n",
       "      <td>7.860000</td>\n",
       "      <td>3.000000</td>\n",
       "    </tr>\n",
       "  </tbody>\n",
       "</table>\n",
       "</div>"
      ],
      "text/plain": [
       "           cab_type         price      distance  surge_multiplier\n",
       "count  80467.000000  80467.000000  80467.000000      80467.000000\n",
       "mean       1.405707     20.126735      2.509218          1.088067\n",
       "std        0.491031     11.848018      1.178509          0.223610\n",
       "min        1.000000      2.500000      0.020000          1.000000\n",
       "25%        1.000000     10.500000      1.570000          1.000000\n",
       "50%        1.000000     17.000000      2.430000          1.000000\n",
       "75%        2.000000     27.500000      3.160000          1.000000\n",
       "max        2.000000     97.500000      7.860000          3.000000"
      ]
     },
     "execution_count": 25,
     "metadata": {},
     "output_type": "execute_result"
    }
   ],
   "source": [
    "df_final.describe()"
   ]
  },
  {
   "cell_type": "markdown",
   "id": "4a60c13d",
   "metadata": {},
   "source": [
    "## Exploratory Data Analysis\n",
    "Bagian ini berisi explorasi data pada dataset diatas dengan menggunakan\n",
    "query, grouping, visualisasi sederhana, dan lain sebagainya."
   ]
  },
  {
   "cell_type": "markdown",
   "id": "a8cf8f1b",
   "metadata": {},
   "source": [
    "### Manakah yang lebih mahal, Uber atau Lyft?"
   ]
  },
  {
   "cell_type": "code",
   "execution_count": 26,
   "id": "dadf2cd5",
   "metadata": {},
   "outputs": [
    {
     "data": {
      "text/plain": [
       "<AxesSubplot:xlabel='cab_type', ylabel='price'>"
      ]
     },
     "execution_count": 26,
     "metadata": {},
     "output_type": "execute_result"
    },
    {
     "data": {
      "image/png": "[encoded data removed]",
      "text/plain": [
       "<Figure size 720x360 with 1 Axes>"
      ]
     },
     "metadata": {},
     "output_type": "display_data"
    }
   ],
   "source": [
    "sns.set(rc={'figure.figsize':(10,5)})\n",
    "sns.barplot(x='cab_type', y='price', data=df_final)"
   ]
  },
  {
   "cell_type": "markdown",
   "id": "8b9688d0",
   "metadata": {},
   "source": [
    "Pada visualisasi diatas menunjukan bahwa <b>Lyft</b> memiliki harga yang lebih tinggi dari <b>Uber</b>"
   ]
  },
  {
   "cell_type": "code",
   "execution_count": 27,
   "id": "44d44c8a",
   "metadata": {},
   "outputs": [
    {
     "data": {
      "text/plain": [
       "cab_type\n",
       "1    21.166391\n",
       "2    18.603811\n",
       "Name: price, dtype: float64"
      ]
     },
     "execution_count": 27,
     "metadata": {},
     "output_type": "execute_result"
    }
   ],
   "source": [
    "df_final.groupby('cab_type')['price'].mean()"
   ]
  },
  {
   "cell_type": "markdown",
   "id": "4ca1d7f4",
   "metadata": {},
   "source": [
    "Rata rata harga pada Lyft berkisar di 20 dollar sedangkan Uber di 18 dollar"
   ]
  },
  {
   "cell_type": "markdown",
   "id": "0f361e19",
   "metadata": {},
   "source": [
    "### Apakah benar jenis produk yang dimiliki oleh Uber dan Lyft mempengaruhi tarif perjalanan?"
   ]
  },
  {
   "cell_type": "code",
   "execution_count": 28,
   "id": "1d2913b3",
   "metadata": {},
   "outputs": [
    {
     "data": {
      "text/plain": [
       "<AxesSubplot:xlabel='price', ylabel='name'>"
      ]
     },
     "execution_count": 28,
     "metadata": {},
     "output_type": "execute_result"
    },
    {
     "data": {
      "image/png": "[encoded data removed]",
      "text/plain": [
       "<Figure size 720x360 with 1 Axes>"
      ]
     },
     "metadata": {},
     "output_type": "display_data"
    }
   ],
   "source": [
    "df.sort_values('cab_type', inplace=True)\n",
    "sns.set(rc={'figure.figsize':(10,5)})\n",
    "\n",
    "sns.barplot(y='name', \n",
    "            x='price',\n",
    "            data=df,\n",
    "            hue='cab_type')"
   ]
  },
  {
   "cell_type": "code",
   "execution_count": 29,
   "id": "6ae16738",
   "metadata": {},
   "outputs": [
    {
     "data": {
      "text/plain": [
       "name\n",
       "Black         23.344216\n",
       "BlackSUV      33.379970\n",
       "Lux           21.960489\n",
       "LuxBlack      28.611307\n",
       "LuxBlackXL    37.799874\n",
       "Lyft          11.368927\n",
       "LyftXL        18.431629\n",
       "Shared         6.543984\n",
       "UberPool      10.402622\n",
       "UberX         12.168190\n",
       "UberXL        19.554174\n",
       "WAV           12.168190\n",
       "Name: price, dtype: float64"
      ]
     },
     "execution_count": 29,
     "metadata": {},
     "output_type": "execute_result"
    }
   ],
   "source": [
    "df_final.groupby('name')['price'].mean()"
   ]
  },
  {
   "cell_type": "markdown",
   "id": "9ac4162b",
   "metadata": {},
   "source": [
    "Data diatas menunjukan bahwa tiap jenis produk pada masing masing penyedia jasa memiliki pengaruh terhadap harga.\n",
    "\n",
    "Menurut dataset:\n",
    "\n",
    "<li><b>Produk Lyft</b> yang termahal adalah Lux Black XL dengan harga rata-rata perjalanannya sebesar 37.70 USD dan produk termurahnya adalah Shared dengan harga rata-rata perjalannya sebesar 6.5 USD.\n",
    "\n",
    "<li> <b>Produk Uber</b> yang termahal adalah Black SUV dengan harga rata-rata perjalanannya sebesar 33.3 USD dan produk termurahnya adalah UberPool dengan harga rata-rata perjalannya sebesar 10.4 USD."
   ]
  },
  {
   "cell_type": "markdown",
   "id": "ba6fd9a5",
   "metadata": {},
   "source": [
    "### Apakah ada korelasi antara jarak yang ditempuh dengan tarif perjalanan?"
   ]
  },
  {
   "cell_type": "code",
   "execution_count": 30,
   "id": "6328a34b",
   "metadata": {},
   "outputs": [
    {
     "data": {
      "text/plain": [
       "<seaborn.axisgrid.FacetGrid at 0x169a7c3ea00>"
      ]
     },
     "execution_count": 30,
     "metadata": {},
     "output_type": "execute_result"
    },
    {
     "data": {
      "image/png": "[encoded data removed]",
      "text/plain": [
       "<Figure size 423.6x360 with 1 Axes>"
      ]
     },
     "metadata": {},
     "output_type": "display_data"
    }
   ],
   "source": [
    "sns.set(rc={'figure.figsize':(12,8)})\n",
    "sns.relplot(kind='line',\n",
    "            x='distance',\n",
    "            y='price',\n",
    "            data=df,\n",
    "            hue='cab_type')"
   ]
  },
  {
   "cell_type": "markdown",
   "id": "584b69aa",
   "metadata": {},
   "source": [
    "Berdasarkan grafik diatas dapat dilihat bahwa semakin besar jarak yang ditempuh oleh produk milik Uber dan Lyft maka semakin besar pula tarif perjalanan. Produk Lyft memiliki tarif lebih tinggi dibandingkan Uber walaupun jarak yang ditempuh tidak terlalu besar daripada Uber."
   ]
  },
  {
   "cell_type": "markdown",
   "id": "ee3d9328",
   "metadata": {},
   "source": [
    "### Manakah yang mengalami lonjakan pesanan tertinggi selama November dan Desember?"
   ]
  },
  {
   "cell_type": "code",
   "execution_count": 31,
   "id": "e42638f5",
   "metadata": {},
   "outputs": [],
   "source": [
    "surge_price = df_final.pivot_table(values='price',\n",
    "                     index=['surge_multiplier'],\n",
    "                     columns=['cab_type'],\n",
    "                     aggfunc=np.mean,\n",
    "                     fill_value=0)\n",
    "\n",
    "surge_price.loc['mean'] = surge_price.mean()\n",
    "surge_price = surge_price.T\n",
    "surge_price = surge_price.reset_index(drop=False)\n",
    "surge_price.sort_values('mean', ascending=False, inplace=True)"
   ]
  },
  {
   "cell_type": "code",
   "execution_count": 32,
   "id": "adec7618",
   "metadata": {},
   "outputs": [
    {
     "data": {
      "image/png": "[encoded data removed]",
      "text/plain": [
       "<Figure size 864x576 with 1 Axes>"
      ]
     },
     "metadata": {},
     "output_type": "display_data"
    }
   ],
   "source": [
    "colors = sns.color_palette()\n",
    "\n",
    "#create pie chart\n",
    "plt.subplot(121)\n",
    "plt.pie(surge_price['mean'],\n",
    "        colors = colors,\n",
    "        labels = None,\n",
    "        autopct='%.0f%%')\n",
    "plt.title(\"Lonjakan Pesanan terhadap Lyft dan Uber\")\n",
    "plt.legend(labels=surge_price.cab_type, loc='upper right')\n",
    "plt.show()"
   ]
  },
  {
   "cell_type": "markdown",
   "id": "7cd90193",
   "metadata": {},
   "source": [
    "Dari grafik diatas terlihat jelas, bahwa produk Lyft adalah produk yang paling tinggi lonjakan pesanannya selama 2 bulan ini yaitu November dan Desember."
   ]
  },
  {
   "cell_type": "markdown",
   "id": "5b48380c",
   "metadata": {},
   "source": [
    "### Memahami distribusi setiap variabel kolom kategori dengan yang lain"
   ]
  },
  {
   "cell_type": "code",
   "execution_count": 33,
   "id": "1fcbe43d",
   "metadata": {},
   "outputs": [
    {
     "data": {
      "text/plain": [
       "<seaborn.axisgrid.PairGrid at 0x169caf23550>"
      ]
     },
     "execution_count": 33,
     "metadata": {},
     "output_type": "execute_result"
    },
    {
     "data": {
      "image/png": "[encoded data removed]",
      "text/plain": [
       "<Figure size 720x720 with 20 Axes>"
      ]
     },
     "metadata": {},
     "output_type": "display_data"
    }
   ],
   "source": [
    "sns.pairplot(df_final)"
   ]
  },
  {
   "cell_type": "markdown",
   "id": "d4e6df16",
   "metadata": {},
   "source": [
    "## DATA PREPROCESSING"
   ]
  },
  {
   "cell_type": "markdown",
   "id": "a5086631",
   "metadata": {},
   "source": [
    "### Label Encoder"
   ]
  },
  {
   "cell_type": "code",
   "execution_count": 34,
   "id": "ba3d0390",
   "metadata": {},
   "outputs": [],
   "source": [
    "from sklearn.preprocessing import LabelEncoder\n",
    "\n",
    "label = LabelEncoder()\n",
    "df_final['cab_type'] = label.fit_transform(df_final['cab_type'])\n",
    "df_final['name'] = label.fit_transform(df_final['name'])\n",
    "df_final['source'] = label.fit_transform(df_final['source'])\n",
    "df_final['destination'] = label.fit_transform(df_final['destination'])"
   ]
  },
  {
   "cell_type": "code",
   "execution_count": 35,
   "id": "1aabe2be",
   "metadata": {},
   "outputs": [
    {
     "data": {
      "text/html": [
       "<div>\n",
       "<style scoped>\n",
       "    .dataframe tbody tr th:only-of-type {\n",
       "        vertical-align: middle;\n",
       "    }\n",
       "\n",
       "    .dataframe tbody tr th {\n",
       "        vertical-align: top;\n",
       "    }\n",
       "\n",
       "    .dataframe thead th {\n",
       "        text-align: right;\n",
       "    }\n",
       "</style>\n",
       "<table border=\"1\" class=\"dataframe\">\n",
       "  <thead>\n",
       "    <tr style=\"text-align: right;\">\n",
       "      <th></th>\n",
       "      <th>source</th>\n",
       "      <th>destination</th>\n",
       "      <th>cab_type</th>\n",
       "      <th>name</th>\n",
       "      <th>price</th>\n",
       "      <th>distance</th>\n",
       "      <th>surge_multiplier</th>\n",
       "    </tr>\n",
       "  </thead>\n",
       "  <tbody>\n",
       "    <tr>\n",
       "      <th>171163</th>\n",
       "      <td>1</td>\n",
       "      <td>9</td>\n",
       "      <td>1</td>\n",
       "      <td>8</td>\n",
       "      <td>8.0</td>\n",
       "      <td>1.34</td>\n",
       "      <td>1.00</td>\n",
       "    </tr>\n",
       "    <tr>\n",
       "      <th>532996</th>\n",
       "      <td>0</td>\n",
       "      <td>5</td>\n",
       "      <td>0</td>\n",
       "      <td>6</td>\n",
       "      <td>27.5</td>\n",
       "      <td>2.30</td>\n",
       "      <td>1.75</td>\n",
       "    </tr>\n",
       "    <tr>\n",
       "      <th>414665</th>\n",
       "      <td>4</td>\n",
       "      <td>2</td>\n",
       "      <td>0</td>\n",
       "      <td>2</td>\n",
       "      <td>30.0</td>\n",
       "      <td>5.33</td>\n",
       "      <td>1.00</td>\n",
       "    </tr>\n",
       "    <tr>\n",
       "      <th>333181</th>\n",
       "      <td>2</td>\n",
       "      <td>7</td>\n",
       "      <td>0</td>\n",
       "      <td>3</td>\n",
       "      <td>55.0</td>\n",
       "      <td>3.45</td>\n",
       "      <td>1.75</td>\n",
       "    </tr>\n",
       "    <tr>\n",
       "      <th>499100</th>\n",
       "      <td>0</td>\n",
       "      <td>6</td>\n",
       "      <td>0</td>\n",
       "      <td>5</td>\n",
       "      <td>27.5</td>\n",
       "      <td>3.16</td>\n",
       "      <td>3.00</td>\n",
       "    </tr>\n",
       "  </tbody>\n",
       "</table>\n",
       "</div>"
      ],
      "text/plain": [
       "        source  destination  cab_type  name  price  distance  surge_multiplier\n",
       "171163       1            9         1     8    8.0      1.34              1.00\n",
       "532996       0            5         0     6   27.5      2.30              1.75\n",
       "414665       4            2         0     2   30.0      5.33              1.00\n",
       "333181       2            7         0     3   55.0      3.45              1.75\n",
       "499100       0            6         0     5   27.5      3.16              3.00"
      ]
     },
     "execution_count": 35,
     "metadata": {},
     "output_type": "execute_result"
    }
   ],
   "source": [
    "df_final.sample(5)"
   ]
  },
  {
   "cell_type": "markdown",
   "id": "1f32e80f",
   "metadata": {},
   "source": [
    "### Data Scaling"
   ]
  },
  {
   "cell_type": "code",
   "execution_count": 36,
   "id": "0bcac377",
   "metadata": {},
   "outputs": [],
   "source": [
    "scaler = StandardScaler()"
   ]
  },
  {
   "cell_type": "code",
   "execution_count": 37,
   "id": "657adcfe",
   "metadata": {},
   "outputs": [],
   "source": [
    "datax = df_final.drop(['price'],axis=1)"
   ]
  },
  {
   "cell_type": "code",
   "execution_count": 38,
   "id": "64ff0a01",
   "metadata": {},
   "outputs": [],
   "source": [
    "X = scaler.fit_transform(datax)\n",
    "y = df_final['price']"
   ]
  },
  {
   "cell_type": "code",
   "execution_count": 39,
   "id": "ce35cd24",
   "metadata": {},
   "outputs": [],
   "source": [
    "X_train, X_test, y_train, y_test = train_test_split(X, y, test_size=0.2, random_state=42)"
   ]
  },
  {
   "cell_type": "code",
   "execution_count": 40,
   "id": "149c6a54",
   "metadata": {},
   "outputs": [
    {
     "name": "stdout",
     "output_type": "stream",
     "text": [
      "Dimensi: (64373, 6)\n",
      "Dimensi: (16094, 6)\n",
      "Dimensi: (64373,)\n",
      "Dimensi: (16094,)\n"
     ]
    }
   ],
   "source": [
    "print('Dimensi:', X_train.shape)\n",
    "print('Dimensi:', X_test.shape)\n",
    "print('Dimensi:', y_train.shape)\n",
    "print('Dimensi:', y_test.shape)"
   ]
  },
  {
   "cell_type": "markdown",
   "id": "c9300010",
   "metadata": {},
   "source": [
    "## Modelling"
   ]
  },
  {
   "cell_type": "markdown",
   "id": "4b0365fe",
   "metadata": {},
   "source": [
    "Metode Machine Learning untuk project ini adalah supervised learning-regresi dengan tujuan agar mesin mampu mengidentifikasi label input yang baru dengan menggunakan fitur yang ada untuk melakukan prediksi.\n",
    "\n",
    "Mmiliki column/data label sehingga outputnya jelas\n",
    "- prediktor(sebab) -> feature, variabel independent = distance, surge_multiplier\n",
    "- label(akibat) -> target, variabel dependent = price\n"
   ]
  },
  {
   "cell_type": "markdown",
   "id": "0ca03d6d",
   "metadata": {},
   "source": [
    "### LINEAR REGRESSION"
   ]
  },
  {
   "cell_type": "code",
   "execution_count": 41,
   "id": "3c91dd2f",
   "metadata": {},
   "outputs": [],
   "source": [
    "linear = LinearRegression()\n",
    "linearmodel = linear.fit(X_train, y_train)"
   ]
  },
  {
   "cell_type": "code",
   "execution_count": 42,
   "id": "8f2be0b2",
   "metadata": {},
   "outputs": [],
   "source": [
    "y_pred = linearmodel.predict(X_test)"
   ]
  },
  {
   "cell_type": "code",
   "execution_count": 54,
   "id": "fdf77529",
   "metadata": {},
   "outputs": [
    {
     "data": {
      "text/plain": [
       "0.4837340128756492"
      ]
     },
     "execution_count": 54,
     "metadata": {},
     "output_type": "execute_result"
    }
   ],
   "source": [
    "linearmodel.score(X_train, y_train)"
   ]
  },
  {
   "cell_type": "code",
   "execution_count": 44,
   "id": "aff9f470",
   "metadata": {},
   "outputs": [
    {
     "data": {
      "text/plain": [
       "0.489203306903635"
      ]
     },
     "execution_count": 44,
     "metadata": {},
     "output_type": "execute_result"
    }
   ],
   "source": [
    "linearmodel.score(X_test, y_test)"
   ]
  },
  {
   "cell_type": "code",
   "execution_count": 45,
   "id": "e5c36515",
   "metadata": {},
   "outputs": [],
   "source": [
    "from sklearn.metrics import mean_squared_error, mean_absolute_error"
   ]
  },
  {
   "cell_type": "code",
   "execution_count": 46,
   "id": "448fdc5f",
   "metadata": {},
   "outputs": [
    {
     "name": "stdout",
     "output_type": "stream",
     "text": [
      "Root Mean Squared Error 8.419409554733653\n",
      "Mean Squared Error: 70.88645725034033\n",
      "Mean Absolute Error: 6.560180558935535\n"
     ]
    }
   ],
   "source": [
    "mse = mean_squared_error(y_test, y_pred)\n",
    "mae = mean_absolute_error(y_test, y_pred)\n",
    "rmse = np.sqrt(mse)\n",
    "print('Root Mean Squared Error', rmse)\n",
    "print('Mean Squared Error:', mse)\n",
    "print('Mean Absolute Error:', mae)"
   ]
  },
  {
   "cell_type": "code",
   "execution_count": 47,
   "id": "c6cbf62b",
   "metadata": {},
   "outputs": [
    {
     "name": "stdout",
     "output_type": "stream",
     "text": [
      "accuracy :0.489203306903635\n",
      "variance :0.48920838859568794\n"
     ]
    }
   ],
   "source": [
    "print(\"accuracy :\" + str(linear.score(X_test, y_test)))\n",
    "print(\"variance :\" + str(explained_variance_score(y_test, y_pred)))"
   ]
  },
  {
   "cell_type": "code",
   "execution_count": 64,
   "id": "b9f92ba8",
   "metadata": {},
   "outputs": [
    {
     "name": "stdout",
     "output_type": "stream",
     "text": [
      "Mean Absolute Error: 6.56 degrees.\n"
     ]
    }
   ],
   "source": [
    "errors1 = abs(y_pred - y_test)\n",
    "print(\"Mean Absolute Error:\", round(np.mean(errors1), 2), \"degrees.\")"
   ]
  },
  {
   "cell_type": "code",
   "execution_count": 65,
   "id": "8839307f",
   "metadata": {},
   "outputs": [
    {
     "name": "stdout",
     "output_type": "stream",
     "text": [
      "Accuracy: 54.27 %.\n"
     ]
    }
   ],
   "source": [
    "lrmape = 100 * (errors1 / y_test)\n",
    "# Calculate and display accuracy\n",
    "accuracy = 100 - np.mean(lrmape)\n",
    "print(\"Accuracy:\", round(accuracy, 2), \"%.\")"
   ]
  },
  {
   "cell_type": "markdown",
   "id": "72ec6f3d",
   "metadata": {},
   "source": [
    "### Prediksi Data Baru"
   ]
  },
  {
   "cell_type": "code",
   "execution_count": 48,
   "id": "3c691a77",
   "metadata": {},
   "outputs": [],
   "source": [
    "X_new = {'cab_type':[1,2,3], 'distance':[1,2,3], 'surge_multiplier':[1,2,3], 'name':[0,1,0], 'destination':[1,2,3], 'source':[1,2,3]}\n",
    "X_new = pd.DataFrame(X_new)"
   ]
  },
  {
   "cell_type": "code",
   "execution_count": 49,
   "id": "6e9a5b08",
   "metadata": {},
   "outputs": [
    {
     "name": "stdout",
     "output_type": "stream",
     "text": [
      "Prediksi Tarif yaitu: \n",
      "[19.93731274 21.48285318 12.84722176 ... 19.22216452 23.51764205\n",
      " 15.35634012]\n"
     ]
    }
   ],
   "source": [
    "y_pred2 = linearmodel.predict(X_new)\n",
    "print('Prediksi Tarif yaitu: ')\n",
    "print(y_pred)"
   ]
  },
  {
   "cell_type": "markdown",
   "id": "a612b66b",
   "metadata": {},
   "source": [
    "## Visualize Model"
   ]
  },
  {
   "cell_type": "code",
   "execution_count": 50,
   "id": "b7913afe",
   "metadata": {},
   "outputs": [
    {
     "data": {
      "text/html": [
       "<div>\n",
       "<style scoped>\n",
       "    .dataframe tbody tr th:only-of-type {\n",
       "        vertical-align: middle;\n",
       "    }\n",
       "\n",
       "    .dataframe tbody tr th {\n",
       "        vertical-align: top;\n",
       "    }\n",
       "\n",
       "    .dataframe thead th {\n",
       "        text-align: right;\n",
       "    }\n",
       "</style>\n",
       "<table border=\"1\" class=\"dataframe\">\n",
       "  <thead>\n",
       "    <tr style=\"text-align: right;\">\n",
       "      <th></th>\n",
       "      <th>Actual</th>\n",
       "      <th>Predicted</th>\n",
       "    </tr>\n",
       "  </thead>\n",
       "  <tbody>\n",
       "    <tr>\n",
       "      <th>315361</th>\n",
       "      <td>16.5</td>\n",
       "      <td>19.937313</td>\n",
       "    </tr>\n",
       "    <tr>\n",
       "      <th>30824</th>\n",
       "      <td>22.5</td>\n",
       "      <td>21.482853</td>\n",
       "    </tr>\n",
       "    <tr>\n",
       "      <th>415105</th>\n",
       "      <td>7.0</td>\n",
       "      <td>12.847222</td>\n",
       "    </tr>\n",
       "    <tr>\n",
       "      <th>205550</th>\n",
       "      <td>27.5</td>\n",
       "      <td>14.338320</td>\n",
       "    </tr>\n",
       "    <tr>\n",
       "      <th>428324</th>\n",
       "      <td>13.5</td>\n",
       "      <td>10.242458</td>\n",
       "    </tr>\n",
       "  </tbody>\n",
       "</table>\n",
       "</div>"
      ],
      "text/plain": [
       "        Actual  Predicted\n",
       "315361    16.5  19.937313\n",
       "30824     22.5  21.482853\n",
       "415105     7.0  12.847222\n",
       "205550    27.5  14.338320\n",
       "428324    13.5  10.242458"
      ]
     },
     "execution_count": 50,
     "metadata": {},
     "output_type": "execute_result"
    }
   ],
   "source": [
    "data_model = pd.DataFrame({'Actual':y_test, 'Predicted':y_pred})\n",
    "data_model.head()"
   ]
  },
  {
   "cell_type": "code",
   "execution_count": 51,
   "id": "cadba5e8",
   "metadata": {},
   "outputs": [
    {
     "data": {
      "text/plain": [
       "<seaborn.axisgrid.JointGrid at 0x169bfd9a280>"
      ]
     },
     "execution_count": 51,
     "metadata": {},
     "output_type": "execute_result"
    },
    {
     "data": {
      "image/png": "[encoded data removed]",
      "text/plain": [
       "<Figure size 432x432 with 3 Axes>"
      ]
     },
     "metadata": {},
     "output_type": "display_data"
    }
   ],
   "source": [
    "sns.jointplot(x='Actual', y='Predicted', data=data_model, kind='reg')"
   ]
  },
  {
   "cell_type": "markdown",
   "id": "5e1a4bed",
   "metadata": {},
   "source": [
    "## Import The Model"
   ]
  },
  {
   "cell_type": "code",
   "execution_count": 61,
   "id": "b037c0de",
   "metadata": {},
   "outputs": [],
   "source": [
    "import pickle\n",
    "import joblib"
   ]
  },
  {
   "cell_type": "code",
   "execution_count": 57,
   "id": "a77beedc",
   "metadata": {},
   "outputs": [],
   "source": [
    "pickle.dump(linearmodel, open('linear_model.pkl', 'wb'))"
   ]
  },
  {
   "cell_type": "code",
   "execution_count": 62,
   "id": "7372f32b",
   "metadata": {},
   "outputs": [
    {
     "data": {
      "text/plain": [
       "array([19.93731274, 21.48285318, 12.84722176, ..., 19.22216452,\n",
       "       23.51764205, 15.35634012])"
      ]
     },
     "execution_count": 62,
     "metadata": {},
     "output_type": "execute_result"
    }
   ],
   "source": [
    "model_from_joblib = joblib.load('linear_model.pkl')\n",
    "\n",
    "model_from_joblib.predict(X_test)"
   ]
  }
 ],
 "metadata": {
  "hide_input": false,
  "kernelspec": {
   "display_name": "Python 3 (ipykernel)",
   "language": "python",
   "name": "python3"
  },
  "language_info": {
   "codemirror_mode": {
    "name": "ipython",
    "version": 3
   },
   "file_extension": ".py",
   "mimetype": "text/x-python",
   "name": "python",
   "nbconvert_exporter": "python",
   "pygments_lexer": "ipython3",
   "version": "3.9.12"
  },
  "nbTranslate": {
   "displayLangs": [
    "*"
   ],
   "hotkey": "alt-t",
   "langInMainMenu": true,
   "sourceLang": "en",
   "targetLang": "fr",
   "useGoogleTranslate": true
  },
  "toc": {
   "base_numbering": 1,
   "nav_menu": {},
   "number_sections": true,
   "sideBar": true,
   "skip_h1_title": false,
   "title_cell": "Table of Contents",
   "title_sidebar": "Contents",
   "toc_cell": false,
   "toc_position": {},
   "toc_section_display": true,
   "toc_window_display": false
  }
 },
 "nbformat": 4,
 "nbformat_minor": 5
}
