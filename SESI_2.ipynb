{
 "cells": [
  {
   "cell_type": "markdown",
   "id": "7e46b0a5",
   "metadata": {},
   "source": [
    "## Conditional"
   ]
  },
  {
   "cell_type": "code",
   "execution_count": 3,
   "id": "f73c2764",
   "metadata": {},
   "outputs": [
    {
     "name": "stdout",
     "output_type": "stream",
     "text": [
      "Yes\n",
      "yes\n",
      "yes\n"
     ]
    }
   ],
   "source": [
    "x = 0\n",
    "y = 5\n",
    "\n",
    "if x < y:\n",
    "    print('Yes') #Truthy\n",
    "\n",
    "if y < x:\n",
    "    print('Yes') #Falsy\n",
    "    \n",
    "if x:\n",
    "    print('yes') #Falsy\n",
    "    \n",
    "if y:\n",
    "    print('yes') #Truthy\n",
    "    \n",
    "if 'aul' in 'grault':\n",
    "    print('yes') #Truthy\n",
    "\n",
    "if 'quux' in ['foo', 'bar', 'baz']:\n",
    "    print('yes') #Falsy"
   ]
  },
  {
   "cell_type": "code",
   "execution_count": 21,
   "id": "59857522",
   "metadata": {},
   "outputs": [
    {
     "name": "stdout",
     "output_type": "stream",
     "text": [
      "Outer condition is true\n",
      "Between inner condition\n",
      "Inner Condition 2\n",
      "End of outer Condition\n",
      "Afrer outer condition\n"
     ]
    }
   ],
   "source": [
    "if 'foo' in ['foo', 'bar', 'baz']: #True\n",
    "    print('Outer condition is true')\n",
    "    \n",
    "    if 10 > 20: #True\n",
    "        print('Inner condition 1')\n",
    "        \n",
    "    print ('Between inner condition')\n",
    "    \n",
    "    if 10 < 20:\n",
    "        print('Inner Condition 2')\n",
    "    print('End of outer Condition')\n",
    "print('Afrer outer condition')"
   ]
  },
  {
   "cell_type": "markdown",
   "id": "c27495c2",
   "metadata": {},
   "source": [
    "## The else and elif Clauses"
   ]
  },
  {
   "cell_type": "code",
   "execution_count": 23,
   "id": "21b06738",
   "metadata": {},
   "outputs": [
    {
     "name": "stdout",
     "output_type": "stream",
     "text": [
      "Sedang Hujan\n"
     ]
    }
   ],
   "source": [
    "x = \"hujan\"\n",
    "if x == \"hujan\":\n",
    "    print('Sedang Hujan')\n",
    "else:\n",
    "    print('Tidak Hujan')"
   ]
  },
  {
   "cell_type": "code",
   "execution_count": 25,
   "id": "158f0730",
   "metadata": {},
   "outputs": [
    {
     "name": "stdout",
     "output_type": "stream",
     "text": [
      "(first suite)\n",
      "x is small\n"
     ]
    }
   ],
   "source": [
    "x = 20\n",
    "\n",
    "if x < 50:\n",
    "    print('(first suite)')\n",
    "    print('x is small')\n",
    "else:\n",
    "    print('(second suite)')\n",
    "    print('x is large')"
   ]
  },
  {
   "cell_type": "code",
   "execution_count": 29,
   "id": "03da7aac",
   "metadata": {},
   "outputs": [
    {
     "name": "stdout",
     "output_type": "stream",
     "text": [
      "beli buku\n"
     ]
    }
   ],
   "source": [
    "hargaBuku = 20000\n",
    "hargaMajalah = 5000\n",
    "uang = 21000\n",
    "\n",
    "if uang > hargaBuku:\n",
    "    print('beli buku')\n",
    "elif uang > hargaMajalah:\n",
    "    print('beli majalah')\n",
    "else:\n",
    "    print('uang tidak cukup')\n"
   ]
  },
  {
   "cell_type": "code",
   "execution_count": 5,
   "id": "a818a55c",
   "metadata": {},
   "outputs": [
    {
     "name": "stdout",
     "output_type": "stream",
     "text": [
      "Hello Rizqa\n"
     ]
    }
   ],
   "source": [
    "name = \"Rizqa\"\n",
    "\n",
    "if name =='Fred':\n",
    "    print(\"Hello Fred\")\n",
    "elif name == 'Xander':\n",
    "    print(\"Hello Xander\")\n",
    "elif name == 'Hactiv8':\n",
    "    print('Hello Hactiv8')\n",
    "elif name == \"Rizqa\":\n",
    "    print(\"Hello Rizqa\")\n",
    "else:\n",
    "    print(\"I donno who u are\")"
   ]
  },
  {
   "cell_type": "code",
   "execution_count": 6,
   "id": "34fbaf0a",
   "metadata": {},
   "outputs": [
    {
     "name": "stdout",
     "output_type": "stream",
     "text": [
      "foo\n"
     ]
    }
   ],
   "source": [
    "if 'a' in 'bar':\n",
    "    print('foo')\n",
    "elif 1/0:\n",
    "    print(\"This won't happen\")\n",
    "elif var:\n",
    "    print(\"This won't either\")"
   ]
  },
  {
   "cell_type": "markdown",
   "id": "824b58c9",
   "metadata": {},
   "source": [
    "## One-line if statements"
   ]
  },
  {
   "cell_type": "code",
   "execution_count": 32,
   "id": "3e0fbd80",
   "metadata": {},
   "outputs": [
    {
     "name": "stdout",
     "output_type": "stream",
     "text": [
      "corge\n",
      "grault\n"
     ]
    }
   ],
   "source": [
    "x = 3\n",
    "if x ==1: print('foo'); print('bar'); print('baz')\n",
    "elif x == 2: print('qux'); print('quux')\n",
    "else: print('corge'); print('grault')"
   ]
  },
  {
   "cell_type": "markdown",
   "id": "b5a764de",
   "metadata": {},
   "source": [
    "## Conditional Expressions\n",
    "### (Python's Ternary Operator)"
   ]
  },
  {
   "cell_type": "code",
   "execution_count": 34,
   "id": "102b5577",
   "metadata": {},
   "outputs": [
    {
     "name": "stdout",
     "output_type": "stream",
     "text": [
      "Let's go to the library\n"
     ]
    }
   ],
   "source": [
    "raining = True\n",
    "print (\"Let's go to the\", \"beach\" if not raining else \"library\")"
   ]
  },
  {
   "cell_type": "code",
   "execution_count": 35,
   "id": "9c09b3e2",
   "metadata": {},
   "outputs": [
    {
     "name": "stdout",
     "output_type": "stream",
     "text": [
      "Let's go to the beach\n"
     ]
    }
   ],
   "source": [
    "raining  = False\n",
    "print (\"Let's go to the\", \"beach\" if not raining else \"Library\")"
   ]
  },
  {
   "cell_type": "code",
   "execution_count": 7,
   "id": "7caada5c",
   "metadata": {},
   "outputs": [
    {
     "data": {
      "text/plain": [
       "'teen'"
      ]
     },
     "execution_count": 7,
     "metadata": {},
     "output_type": "execute_result"
    }
   ],
   "source": [
    "age = 12\n",
    "s = \"teen\" if age < 21 else \"Adult\"\n",
    "s"
   ]
  },
  {
   "cell_type": "markdown",
   "id": "518bea9e",
   "metadata": {},
   "source": [
    "## Python pass Statement"
   ]
  },
  {
   "cell_type": "code",
   "execution_count": 8,
   "id": "17f2903c",
   "metadata": {},
   "outputs": [
    {
     "ename": "IndentationError",
     "evalue": "expected an indented block (2249588765.py, line 3)",
     "output_type": "error",
     "traceback": [
      "\u001b[1;36m  Input \u001b[1;32mIn [8]\u001b[1;36m\u001b[0m\n\u001b[1;33m    print('foo')\u001b[0m\n\u001b[1;37m    ^\u001b[0m\n\u001b[1;31mIndentationError\u001b[0m\u001b[1;31m:\u001b[0m expected an indented block\n"
     ]
    }
   ],
   "source": [
    "if True:\n",
    "    \n",
    "print('foo')"
   ]
  },
  {
   "cell_type": "code",
   "execution_count": 9,
   "id": "3f991227",
   "metadata": {},
   "outputs": [
    {
     "name": "stdout",
     "output_type": "stream",
     "text": [
      "foo\n"
     ]
    }
   ],
   "source": [
    "if True:\n",
    "    pass\n",
    "    \n",
    "print('foo')"
   ]
  },
  {
   "cell_type": "markdown",
   "id": "bc2d58e8",
   "metadata": {},
   "source": [
    "## Python While Loops"
   ]
  },
  {
   "cell_type": "code",
   "execution_count": 41,
   "id": "ad26bf12",
   "metadata": {},
   "outputs": [
    {
     "name": "stdout",
     "output_type": "stream",
     "text": [
      "4\n",
      "3\n",
      "2\n",
      "1\n",
      "0\n"
     ]
    }
   ],
   "source": [
    "n = 5\n",
    "while n > 0:\n",
    "    n-=1\n",
    "    print(n)"
   ]
  },
  {
   "cell_type": "code",
   "execution_count": 11,
   "id": "962dc08a",
   "metadata": {},
   "outputs": [
    {
     "name": "stdout",
     "output_type": "stream",
     "text": [
      "1\n",
      "2\n",
      "3\n",
      "4\n",
      "5\n"
     ]
    }
   ],
   "source": [
    "i = 1\n",
    "while i< 6:\n",
    "    print(i)\n",
    "    i += 1"
   ]
  },
  {
   "cell_type": "markdown",
   "id": "56926134",
   "metadata": {},
   "source": [
    "## Python break and continue Statements"
   ]
  },
  {
   "cell_type": "code",
   "execution_count": 12,
   "id": "a2faae16",
   "metadata": {},
   "outputs": [
    {
     "name": "stdout",
     "output_type": "stream",
     "text": [
      "4\n",
      "3\n",
      "Loop ended.\n"
     ]
    }
   ],
   "source": [
    "n = 5\n",
    "while n > 0:\n",
    "    n-=1\n",
    "    if n ==2:\n",
    "        break\n",
    "    print(n)\n",
    "print(\"Loop ended.\")"
   ]
  },
  {
   "cell_type": "code",
   "execution_count": 13,
   "id": "1ece66d7",
   "metadata": {},
   "outputs": [
    {
     "name": "stdout",
     "output_type": "stream",
     "text": [
      "4\n",
      "3\n",
      "1\n",
      "0\n",
      "Loop ended.\n"
     ]
    }
   ],
   "source": [
    "n = 5\n",
    "while n > 0:\n",
    "    n-=1\n",
    "    if n ==2:\n",
    "        continue\n",
    "    print(n)\n",
    "print(\"Loop ended.\")"
   ]
  },
  {
   "cell_type": "markdown",
   "id": "816c0654",
   "metadata": {},
   "source": [
    "## Else Clause"
   ]
  },
  {
   "cell_type": "code",
   "execution_count": 57,
   "id": "eafd6fd3",
   "metadata": {},
   "outputs": [
    {
     "name": "stdout",
     "output_type": "stream",
     "text": [
      "4\n",
      "3\n",
      "2\n",
      "1\n",
      "0\n",
      "Loop done.\n"
     ]
    }
   ],
   "source": [
    "n = 5\n",
    "while n > 0:\n",
    "    n -= 1\n",
    "    print(n)\n",
    "else:\n",
    "    print(\"Loop done.\")"
   ]
  },
  {
   "cell_type": "code",
   "execution_count": 58,
   "id": "b0742b77",
   "metadata": {},
   "outputs": [
    {
     "name": "stdout",
     "output_type": "stream",
     "text": [
      "4\n",
      "3\n",
      "2\n"
     ]
    }
   ],
   "source": [
    "n = 5\n",
    "while n > 0:\n",
    "    n -= 1\n",
    "    print(n)\n",
    "    if n ==2:\n",
    "        break\n",
    "else:\n",
    "    print(\"Loop done.\")"
   ]
  },
  {
   "cell_type": "markdown",
   "id": "b432c126",
   "metadata": {},
   "source": [
    "## Nested while Loops"
   ]
  },
  {
   "cell_type": "code",
   "execution_count": 14,
   "id": "1d5cd395",
   "metadata": {},
   "outputs": [
    {
     "name": "stdout",
     "output_type": "stream",
     "text": [
      "Grandfather\n"
     ]
    }
   ],
   "source": [
    "age = 78\n",
    "gender = \"M\"\n",
    "\n",
    "if age < 18:\n",
    "    if gender == \"M\":\n",
    "        print(\"Son\")\n",
    "    else:\n",
    "        print(\"Daughter\")\n",
    "elif age >= 18 and age < 65:\n",
    "    if gender == \"M\":\n",
    "        print(\"Father\")\n",
    "    else:\n",
    "        print(\"Mother\")\n",
    "else:\n",
    "    if gender == \"M\":\n",
    "        print(\"Grandfather\")\n",
    "    else:\n",
    "        print(\"Grandmother\")"
   ]
  },
  {
   "cell_type": "code",
   "execution_count": 15,
   "id": "965a563e",
   "metadata": {},
   "outputs": [
    {
     "name": "stdout",
     "output_type": "stream",
     "text": [
      "foo\n",
      "> baz\n",
      "> qux\n",
      "bar\n",
      "> baz\n",
      "> qux\n"
     ]
    }
   ],
   "source": [
    "a = ['foo','bar']\n",
    "\n",
    "while len(a):\n",
    "    print(a.pop(0))\n",
    "    \n",
    "    b = ['baz','qux']\n",
    "    \n",
    "    while len(b):\n",
    "        print('>', b.pop(0))"
   ]
  },
  {
   "cell_type": "markdown",
   "id": "4b52abc9",
   "metadata": {},
   "source": [
    "## One-Line while Loops"
   ]
  },
  {
   "cell_type": "code",
   "execution_count": 16,
   "id": "b146ab51",
   "metadata": {},
   "outputs": [
    {
     "name": "stdout",
     "output_type": "stream",
     "text": [
      "4\n",
      "3\n",
      "2\n",
      "1\n",
      "0\n"
     ]
    }
   ],
   "source": [
    "n = 5\n",
    "while n > 0: n -= 1; print(n)"
   ]
  },
  {
   "cell_type": "markdown",
   "id": "e94efb2b",
   "metadata": {},
   "source": [
    "## Python for Loop"
   ]
  },
  {
   "cell_type": "code",
   "execution_count": 18,
   "id": "bb5b5f21",
   "metadata": {},
   "outputs": [
    {
     "name": "stdout",
     "output_type": "stream",
     "text": [
      "foo\n",
      "bar\n",
      "baz\n"
     ]
    }
   ],
   "source": [
    "a = ['foo', 'bar', 'baz']\n",
    "for i in a:\n",
    "    print(i)"
   ]
  },
  {
   "cell_type": "code",
   "execution_count": 20,
   "id": "fa747983",
   "metadata": {},
   "outputs": [
    {
     "name": "stdout",
     "output_type": "stream",
     "text": [
      "foo\n",
      "bar\n",
      "baz\n"
     ]
    }
   ],
   "source": [
    "d = {'foo':1, 'bar':2, 'baz':3}\n",
    "for k in d:\n",
    "    print(k)"
   ]
  },
  {
   "cell_type": "code",
   "execution_count": 21,
   "id": "6a1b2818",
   "metadata": {},
   "outputs": [
    {
     "name": "stdout",
     "output_type": "stream",
     "text": [
      "1\n",
      "2\n",
      "3\n"
     ]
    }
   ],
   "source": [
    "for k in d:\n",
    "    print(d[k])"
   ]
  },
  {
   "cell_type": "code",
   "execution_count": 22,
   "id": "4eb143b3",
   "metadata": {},
   "outputs": [
    {
     "name": "stdout",
     "output_type": "stream",
     "text": [
      "1\n",
      "2\n",
      "3\n"
     ]
    }
   ],
   "source": [
    "for k in d.values():\n",
    "    print(k)"
   ]
  },
  {
   "cell_type": "code",
   "execution_count": 23,
   "id": "aa494933",
   "metadata": {},
   "outputs": [
    {
     "name": "stdout",
     "output_type": "stream",
     "text": [
      "foo : 1\n",
      "bar : 2\n",
      "baz : 3\n"
     ]
    }
   ],
   "source": [
    "for k, v in d.items():\n",
    "    print(k, \":\", v)"
   ]
  },
  {
   "cell_type": "code",
   "execution_count": 2,
   "id": "568b1c85",
   "metadata": {},
   "outputs": [
    {
     "name": "stdout",
     "output_type": "stream",
     "text": [
      "ok\n"
     ]
    }
   ],
   "source": [
    "print('ok')"
   ]
  }
 ],
 "metadata": {
  "kernelspec": {
   "display_name": "Python 3 (ipykernel)",
   "language": "python",
   "name": "python3"
  },
  "language_info": {
   "codemirror_mode": {
    "name": "ipython",
    "version": 3
   },
   "file_extension": ".py",
   "mimetype": "text/x-python",
   "name": "python",
   "nbconvert_exporter": "python",
   "pygments_lexer": "ipython3",
   "version": "3.9.12"
  }
 },
 "nbformat": 4,
 "nbformat_minor": 5
}
