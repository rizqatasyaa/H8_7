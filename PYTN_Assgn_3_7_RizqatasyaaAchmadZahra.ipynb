{
 "cells": [
  {
   "cell_type": "markdown",
   "id": "1a1594d1",
   "metadata": {},
   "source": [
    "# Tentang Data\n",
    "\n",
    "Data tersebut terkait dengan kampanye pemasaran langsung dari lembaga perbankan Portugis. Kampanye pemasaran didasarkan pada panggilan telepon. Seringkali, lebih dari satu kontak ke klien yang sama diperlukan, untuk mengakses apakah produk (deposito berjangka bank) akan ('ya') atau tidak ('tidak') berlangganan.\n",
    "<br>\n",
    "Ada empat kumpulan data:\n",
    "1) bank-additional-full.csv dengan semua contoh (41188) dan 20 input, diurutkan berdasarkan tanggal (dari Mei 2008 hingga November 2010), sangat mirip dengan data yang dianalisis di [Moro et al., 2014 ] <br>\n",
    "2) bank-additional.csv dengan 10% dari contoh (4119), dipilih secara acak dari 1), dan 20 input.<br>\n",
    "3) bank-full.csv dengan semua contoh dan 17 input, diurutkan berdasarkan tanggal (versi lama dari kumpulan data ini dengan lebih sedikit input).<br>\n",
    "4) bank.csv dengan 10% contoh dan 17 input, dipilih secara acak dari 3 (versi lama dari kumpulan data ini dengan input lebih sedikit).\n",
    "<br>\n",
    "Kumpulan data terkecil disediakan untuk menguji algoritma pembelajaran mesin yang lebih menuntut komputasi (misalnya, SVM).\n",
    "\n",
    "Tujuan klasifikasi adalah untuk memprediksi apakah klien akan berlangganan (ya/tidak) deposito berjangka (variabel y)."
   ]
  },
  {
   "cell_type": "markdown",
   "id": "a2e3b513",
   "metadata": {},
   "source": [
    "# Isi Dataset\n",
    "\n",
    "**Input variables:**\n",
    "    \n",
    "**bank client data:**<br>\n",
    "1 - age (numeric)<br>\n",
    "2 - job : type of job (categorical: 'admin.','blue collar','entrepreneur','housemaid','management','retired','self employed','services','student','technician','unemployed','unknown')<br>\n",
    "3 - marital : marital status (categorical: 'divorced','married','single','unknown'; note: 'divorced' means divorced or widowed)<br>\n",
    "4 - education (categorical: 'basic.4y','basic.6y','basic.9y','high.school','illiterate','professional.course','university.degree','unknown')<br>\n",
    "5 - default: has credit in default? (categorical: 'no','yes','unknown')<br>\n",
    "6 - housing: has housing loan? (categorical: 'no','yes','unknown')<br>\n",
    "7 - loan: has personal loan? (categorical: 'no','yes','unknown')\n",
    "<br>\n",
    "**related with the last contact of the current campaign:**<br>\n",
    "8 - contact: contact communication type (categorical: 'cellular','telephone')<br>\n",
    "9 - month: last contact month of year (categorical: 'jan', 'feb', 'mar', ..., 'nov', 'dec')<br>\n",
    "10 - day_of_week: last contact day of the week (categorical: 'mon','tue','wed','thu','fri')<br>\n",
    "11 - duration: last contact duration, in seconds (numeric). Important note: this attribute highly affects the output target (e.g., if duration=0 then y='no'). Yet, the duration is not known before a call is performed. Also, after the end of the call y is obviously known. Thus, this input should only be included for benchmark purposes and should be discarded if the intention is to have a realistic predictive model.\n",
    "<br>\n",
    "**other attributes:**<br>\n",
    "12 - campaign: number of contacts performed during this campaign and for this client (numeric, includes last contact)<br>\n",
    "13 - pdays: number of days that passed by after the client was last contacted from a previous campaign (numeric; 999 means client was not previously contacted)<br>\n",
    "14 - previous: number of contacts performed before this campaign and for this client (numeric)<br>\n",
    "15 - poutcome: outcome of the previous marketing campaign (categorical: 'failure','nonexistent','success')\n",
    "<br>\n",
    "**social and economic context attributes**<br>\n",
    "16 - emp.var.rate: employment variation rate - quarterly indicator (numeric)<br>\n",
    "17 - cons.price.idx: consumer price index - monthly indicator (numeric)<br>\n",
    "18 - cons.conf.idx: consumer confidence index - monthly indicator (numeric)<br>\n",
    "19 - euribor3m: euribor 3 month rate - daily indicator (numeric)<br>\n",
    "20 - nr.employed: number of employees - quarterly indicator (numeric)\n",
    "<br>\n",
    "**Output variable (desired target):**<br>\n",
    "21 - y - has the client subscribed a term deposit? (binary: 'yes','no')"
   ]
  },
  {
   "cell_type": "code",
   "execution_count": 1,
   "id": "b557336c",
   "metadata": {},
   "outputs": [],
   "source": [
    "import math\n",
    "import statistics\n",
    "import numpy as np\n",
    "import scipy.stats\n",
    "import pandas as pd\n",
    "import statsmodels.api as sm \n",
    "\n",
    "import matplotlib.pyplot as plt\n",
    "plt.style.use('seaborn-talk')\n",
    "plt.rcParams[\"figure.figsize\"] = [16, 12]\n",
    "\n",
    "%matplotlib inline\n",
    "\n",
    "import seaborn as sns\n",
    "sns.set(style = 'white', color_codes = True)\n",
    "\n",
    "from sklearn import metrics\n",
    "from sklearn import preprocessing\n",
    "from sklearn.preprocessing import StandardScaler\n",
    "from sklearn.linear_model import LogisticRegression\n",
    "from sklearn.neighbors import KNeighborsClassifier\n",
    "from sklearn import svm\n",
    "from sklearn.tree import DecisionTreeClassifier\n",
    "from sklearn.ensemble import RandomForestClassifier\n",
    "from sklearn.naive_bayes import GaussianNB\n",
    "from sklearn.model_selection import GridSearchCV\n",
    "from sklearn.metrics import plot_confusion_matrix\n",
    "from sklearn.metrics import classification_report\n",
    "from sklearn.model_selection import train_test_split\n",
    "\n",
    "from sklearn.tree import plot_tree\n",
    "\n",
    "import sklearn.linear_model as linear_model"
   ]
  },
  {
   "cell_type": "markdown",
   "id": "052557c8",
   "metadata": {},
   "source": [
    "# Read Data"
   ]
  },
  {
   "cell_type": "code",
   "execution_count": 2,
   "id": "6bbe05a1",
   "metadata": {
    "scrolled": true
   },
   "outputs": [
    {
     "data": {
      "text/html": [
       "<div>\n",
       "<style scoped>\n",
       "    .dataframe tbody tr th:only-of-type {\n",
       "        vertical-align: middle;\n",
       "    }\n",
       "\n",
       "    .dataframe tbody tr th {\n",
       "        vertical-align: top;\n",
       "    }\n",
       "\n",
       "    .dataframe thead th {\n",
       "        text-align: right;\n",
       "    }\n",
       "</style>\n",
       "<table border=\"1\" class=\"dataframe\">\n",
       "  <thead>\n",
       "    <tr style=\"text-align: right;\">\n",
       "      <th></th>\n",
       "      <th>age</th>\n",
       "      <th>job</th>\n",
       "      <th>marital</th>\n",
       "      <th>education</th>\n",
       "      <th>default</th>\n",
       "      <th>housing</th>\n",
       "      <th>loan</th>\n",
       "      <th>contact</th>\n",
       "      <th>month</th>\n",
       "      <th>day_of_week</th>\n",
       "      <th>...</th>\n",
       "      <th>campaign</th>\n",
       "      <th>pdays</th>\n",
       "      <th>previous</th>\n",
       "      <th>poutcome</th>\n",
       "      <th>emp.var.rate</th>\n",
       "      <th>cons.price.idx</th>\n",
       "      <th>cons.conf.idx</th>\n",
       "      <th>euribor3m</th>\n",
       "      <th>nr.employed</th>\n",
       "      <th>y</th>\n",
       "    </tr>\n",
       "  </thead>\n",
       "  <tbody>\n",
       "    <tr>\n",
       "      <th>0</th>\n",
       "      <td>56</td>\n",
       "      <td>housemaid</td>\n",
       "      <td>married</td>\n",
       "      <td>basic.4y</td>\n",
       "      <td>no</td>\n",
       "      <td>no</td>\n",
       "      <td>no</td>\n",
       "      <td>telephone</td>\n",
       "      <td>may</td>\n",
       "      <td>mon</td>\n",
       "      <td>...</td>\n",
       "      <td>1</td>\n",
       "      <td>999</td>\n",
       "      <td>0</td>\n",
       "      <td>nonexistent</td>\n",
       "      <td>1.1</td>\n",
       "      <td>93.994</td>\n",
       "      <td>-36.4</td>\n",
       "      <td>4.857</td>\n",
       "      <td>5191.0</td>\n",
       "      <td>no</td>\n",
       "    </tr>\n",
       "    <tr>\n",
       "      <th>1</th>\n",
       "      <td>57</td>\n",
       "      <td>services</td>\n",
       "      <td>married</td>\n",
       "      <td>high.school</td>\n",
       "      <td>unknown</td>\n",
       "      <td>no</td>\n",
       "      <td>no</td>\n",
       "      <td>telephone</td>\n",
       "      <td>may</td>\n",
       "      <td>mon</td>\n",
       "      <td>...</td>\n",
       "      <td>1</td>\n",
       "      <td>999</td>\n",
       "      <td>0</td>\n",
       "      <td>nonexistent</td>\n",
       "      <td>1.1</td>\n",
       "      <td>93.994</td>\n",
       "      <td>-36.4</td>\n",
       "      <td>4.857</td>\n",
       "      <td>5191.0</td>\n",
       "      <td>no</td>\n",
       "    </tr>\n",
       "    <tr>\n",
       "      <th>2</th>\n",
       "      <td>37</td>\n",
       "      <td>services</td>\n",
       "      <td>married</td>\n",
       "      <td>high.school</td>\n",
       "      <td>no</td>\n",
       "      <td>yes</td>\n",
       "      <td>no</td>\n",
       "      <td>telephone</td>\n",
       "      <td>may</td>\n",
       "      <td>mon</td>\n",
       "      <td>...</td>\n",
       "      <td>1</td>\n",
       "      <td>999</td>\n",
       "      <td>0</td>\n",
       "      <td>nonexistent</td>\n",
       "      <td>1.1</td>\n",
       "      <td>93.994</td>\n",
       "      <td>-36.4</td>\n",
       "      <td>4.857</td>\n",
       "      <td>5191.0</td>\n",
       "      <td>no</td>\n",
       "    </tr>\n",
       "    <tr>\n",
       "      <th>3</th>\n",
       "      <td>40</td>\n",
       "      <td>admin.</td>\n",
       "      <td>married</td>\n",
       "      <td>basic.6y</td>\n",
       "      <td>no</td>\n",
       "      <td>no</td>\n",
       "      <td>no</td>\n",
       "      <td>telephone</td>\n",
       "      <td>may</td>\n",
       "      <td>mon</td>\n",
       "      <td>...</td>\n",
       "      <td>1</td>\n",
       "      <td>999</td>\n",
       "      <td>0</td>\n",
       "      <td>nonexistent</td>\n",
       "      <td>1.1</td>\n",
       "      <td>93.994</td>\n",
       "      <td>-36.4</td>\n",
       "      <td>4.857</td>\n",
       "      <td>5191.0</td>\n",
       "      <td>no</td>\n",
       "    </tr>\n",
       "    <tr>\n",
       "      <th>4</th>\n",
       "      <td>56</td>\n",
       "      <td>services</td>\n",
       "      <td>married</td>\n",
       "      <td>high.school</td>\n",
       "      <td>no</td>\n",
       "      <td>no</td>\n",
       "      <td>yes</td>\n",
       "      <td>telephone</td>\n",
       "      <td>may</td>\n",
       "      <td>mon</td>\n",
       "      <td>...</td>\n",
       "      <td>1</td>\n",
       "      <td>999</td>\n",
       "      <td>0</td>\n",
       "      <td>nonexistent</td>\n",
       "      <td>1.1</td>\n",
       "      <td>93.994</td>\n",
       "      <td>-36.4</td>\n",
       "      <td>4.857</td>\n",
       "      <td>5191.0</td>\n",
       "      <td>no</td>\n",
       "    </tr>\n",
       "  </tbody>\n",
       "</table>\n",
       "<p>5 rows × 21 columns</p>\n",
       "</div>"
      ],
      "text/plain": [
       "   age        job  marital    education  default housing loan    contact  \\\n",
       "0   56  housemaid  married     basic.4y       no      no   no  telephone   \n",
       "1   57   services  married  high.school  unknown      no   no  telephone   \n",
       "2   37   services  married  high.school       no     yes   no  telephone   \n",
       "3   40     admin.  married     basic.6y       no      no   no  telephone   \n",
       "4   56   services  married  high.school       no      no  yes  telephone   \n",
       "\n",
       "  month day_of_week  ...  campaign  pdays  previous     poutcome emp.var.rate  \\\n",
       "0   may         mon  ...         1    999         0  nonexistent          1.1   \n",
       "1   may         mon  ...         1    999         0  nonexistent          1.1   \n",
       "2   may         mon  ...         1    999         0  nonexistent          1.1   \n",
       "3   may         mon  ...         1    999         0  nonexistent          1.1   \n",
       "4   may         mon  ...         1    999         0  nonexistent          1.1   \n",
       "\n",
       "   cons.price.idx  cons.conf.idx  euribor3m  nr.employed   y  \n",
       "0          93.994          -36.4      4.857       5191.0  no  \n",
       "1          93.994          -36.4      4.857       5191.0  no  \n",
       "2          93.994          -36.4      4.857       5191.0  no  \n",
       "3          93.994          -36.4      4.857       5191.0  no  \n",
       "4          93.994          -36.4      4.857       5191.0  no  \n",
       "\n",
       "[5 rows x 21 columns]"
      ]
     },
     "execution_count": 2,
     "metadata": {},
     "output_type": "execute_result"
    }
   ],
   "source": [
    "df_bank = pd.read_csv('D:/HACTIVE/dataset/bank-additional-full.csv', delimiter=';')\n",
    "df_bank.head()"
   ]
  },
  {
   "cell_type": "code",
   "execution_count": 3,
   "id": "af28ba8d",
   "metadata": {
    "scrolled": true
   },
   "outputs": [
    {
     "name": "stdout",
     "output_type": "stream",
     "text": [
      "<class 'pandas.core.frame.DataFrame'>\n",
      "RangeIndex: 41188 entries, 0 to 41187\n",
      "Data columns (total 21 columns):\n",
      " #   Column          Non-Null Count  Dtype  \n",
      "---  ------          --------------  -----  \n",
      " 0   age             41188 non-null  int64  \n",
      " 1   job             41188 non-null  object \n",
      " 2   marital         41188 non-null  object \n",
      " 3   education       41188 non-null  object \n",
      " 4   default         41188 non-null  object \n",
      " 5   housing         41188 non-null  object \n",
      " 6   loan            41188 non-null  object \n",
      " 7   contact         41188 non-null  object \n",
      " 8   month           41188 non-null  object \n",
      " 9   day_of_week     41188 non-null  object \n",
      " 10  duration        41188 non-null  int64  \n",
      " 11  campaign        41188 non-null  int64  \n",
      " 12  pdays           41188 non-null  int64  \n",
      " 13  previous        41188 non-null  int64  \n",
      " 14  poutcome        41188 non-null  object \n",
      " 15  emp.var.rate    41188 non-null  float64\n",
      " 16  cons.price.idx  41188 non-null  float64\n",
      " 17  cons.conf.idx   41188 non-null  float64\n",
      " 18  euribor3m       41188 non-null  float64\n",
      " 19  nr.employed     41188 non-null  float64\n",
      " 20  y               41188 non-null  object \n",
      "dtypes: float64(5), int64(5), object(11)\n",
      "memory usage: 6.6+ MB\n"
     ]
    }
   ],
   "source": [
    "df_bank.info()"
   ]
  },
  {
   "cell_type": "markdown",
   "id": "661f4d1b",
   "metadata": {},
   "source": [
    "**INTERPRETASI**\n",
    "\n",
    "data yang digunakan pada tugas 3 ini adalah data bank-additional-full-csv dimana data ini memiliki 41.188 data dan 21 kolom dengan 3 type data yaitu float64, int64 dan object."
   ]
  },
  {
   "cell_type": "markdown",
   "id": "06fa4dbf",
   "metadata": {},
   "source": [
    "# Data Preprocessing and cleaning"
   ]
  },
  {
   "cell_type": "markdown",
   "id": "5f7b1cfd",
   "metadata": {},
   "source": [
    "## Cek Missing Value"
   ]
  },
  {
   "cell_type": "code",
   "execution_count": 4,
   "id": "081954f4",
   "metadata": {
    "scrolled": true
   },
   "outputs": [
    {
     "data": {
      "text/plain": [
       "age               False\n",
       "job               False\n",
       "marital           False\n",
       "education         False\n",
       "default           False\n",
       "housing           False\n",
       "loan              False\n",
       "contact           False\n",
       "month             False\n",
       "day_of_week       False\n",
       "duration          False\n",
       "campaign          False\n",
       "pdays             False\n",
       "previous          False\n",
       "poutcome          False\n",
       "emp.var.rate      False\n",
       "cons.price.idx    False\n",
       "cons.conf.idx     False\n",
       "euribor3m         False\n",
       "nr.employed       False\n",
       "y                 False\n",
       "dtype: bool"
      ]
     },
     "execution_count": 4,
     "metadata": {},
     "output_type": "execute_result"
    }
   ],
   "source": [
    "df_bank.isnull().any()"
   ]
  },
  {
   "cell_type": "code",
   "execution_count": 5,
   "id": "9172f09d",
   "metadata": {},
   "outputs": [
    {
     "data": {
      "text/plain": [
       "False"
      ]
     },
     "execution_count": 5,
     "metadata": {},
     "output_type": "execute_result"
    }
   ],
   "source": [
    "df_bank.isnull().values.any()"
   ]
  },
  {
   "cell_type": "markdown",
   "id": "ee708e97",
   "metadata": {},
   "source": [
    "**INTERPRETASI**\n",
    "\n",
    "cek missing values data diatas menghasilkan \"**FALSE**\" artinya tidak memiliki missing value."
   ]
  },
  {
   "cell_type": "markdown",
   "id": "ab11150c",
   "metadata": {},
   "source": [
    "## Cek Data Duplikat"
   ]
  },
  {
   "cell_type": "code",
   "execution_count": 6,
   "id": "3ca56f45",
   "metadata": {},
   "outputs": [
    {
     "data": {
      "text/plain": [
       "True"
      ]
     },
     "execution_count": 6,
     "metadata": {},
     "output_type": "execute_result"
    }
   ],
   "source": [
    "df_bank.duplicated().any()"
   ]
  },
  {
   "cell_type": "code",
   "execution_count": 7,
   "id": "bb06ff94",
   "metadata": {
    "scrolled": true
   },
   "outputs": [
    {
     "data": {
      "text/plain": [
       "False    41176\n",
       "True        12\n",
       "dtype: int64"
      ]
     },
     "execution_count": 7,
     "metadata": {},
     "output_type": "execute_result"
    }
   ],
   "source": [
    "df_bank.duplicated().value_counts()"
   ]
  },
  {
   "cell_type": "code",
   "execution_count": 8,
   "id": "efab5445",
   "metadata": {},
   "outputs": [],
   "source": [
    "# Menghapus data duplikat\n",
    "df_bank.drop_duplicates(inplace=True)"
   ]
  },
  {
   "cell_type": "code",
   "execution_count": 9,
   "id": "ae5de5be",
   "metadata": {
    "scrolled": true
   },
   "outputs": [
    {
     "data": {
      "text/plain": [
       "False"
      ]
     },
     "execution_count": 9,
     "metadata": {},
     "output_type": "execute_result"
    }
   ],
   "source": [
    "df_bank.duplicated().any()"
   ]
  },
  {
   "cell_type": "code",
   "execution_count": 10,
   "id": "44625c40",
   "metadata": {
    "scrolled": true
   },
   "outputs": [
    {
     "data": {
      "text/plain": [
       "0"
      ]
     },
     "execution_count": 10,
     "metadata": {},
     "output_type": "execute_result"
    }
   ],
   "source": [
    "# Memastikan data duplikat sudah dihapus\n",
    "df_bank.duplicated().sum()"
   ]
  },
  {
   "cell_type": "markdown",
   "id": "93ba008f",
   "metadata": {},
   "source": [
    "**INTERPRETASI**\n",
    "\n",
    "Setelah dicek duplikat, ternyata data bank memiliki data yang duplikat sebanyak 12 data. oleh karena itu data harus di hapus."
   ]
  },
  {
   "cell_type": "markdown",
   "id": "a32c02a0",
   "metadata": {},
   "source": [
    "## Menghapus kolom yang tidak digunakan"
   ]
  },
  {
   "cell_type": "code",
   "execution_count": 11,
   "id": "5256a212",
   "metadata": {},
   "outputs": [],
   "source": [
    "df_bank = df_bank.drop(columns=['duration'])"
   ]
  },
  {
   "cell_type": "code",
   "execution_count": 12,
   "id": "9d7bceb9",
   "metadata": {
    "scrolled": true
   },
   "outputs": [
    {
     "name": "stdout",
     "output_type": "stream",
     "text": [
      "<class 'pandas.core.frame.DataFrame'>\n",
      "Int64Index: 41176 entries, 0 to 41187\n",
      "Data columns (total 20 columns):\n",
      " #   Column          Non-Null Count  Dtype  \n",
      "---  ------          --------------  -----  \n",
      " 0   age             41176 non-null  int64  \n",
      " 1   job             41176 non-null  object \n",
      " 2   marital         41176 non-null  object \n",
      " 3   education       41176 non-null  object \n",
      " 4   default         41176 non-null  object \n",
      " 5   housing         41176 non-null  object \n",
      " 6   loan            41176 non-null  object \n",
      " 7   contact         41176 non-null  object \n",
      " 8   month           41176 non-null  object \n",
      " 9   day_of_week     41176 non-null  object \n",
      " 10  campaign        41176 non-null  int64  \n",
      " 11  pdays           41176 non-null  int64  \n",
      " 12  previous        41176 non-null  int64  \n",
      " 13  poutcome        41176 non-null  object \n",
      " 14  emp.var.rate    41176 non-null  float64\n",
      " 15  cons.price.idx  41176 non-null  float64\n",
      " 16  cons.conf.idx   41176 non-null  float64\n",
      " 17  euribor3m       41176 non-null  float64\n",
      " 18  nr.employed     41176 non-null  float64\n",
      " 19  y               41176 non-null  object \n",
      "dtypes: float64(5), int64(4), object(11)\n",
      "memory usage: 6.6+ MB\n"
     ]
    }
   ],
   "source": [
    "df_bank.info()"
   ]
  },
  {
   "cell_type": "markdown",
   "id": "e144f5d8",
   "metadata": {},
   "source": [
    "**INTERPRETASI**\n",
    "\n",
    "Menghapus kolom durasi, karena analisis ini bertujuan untuk memiliki model prediksi maka kolom durasi harus di buang."
   ]
  },
  {
   "cell_type": "markdown",
   "id": "119ef356",
   "metadata": {},
   "source": [
    "# Visualisasi Data"
   ]
  },
  {
   "cell_type": "code",
   "execution_count": 13,
   "id": "e5f83c17",
   "metadata": {},
   "outputs": [
    {
     "data": {
      "text/plain": [
       "(41176, 20)"
      ]
     },
     "execution_count": 13,
     "metadata": {},
     "output_type": "execute_result"
    }
   ],
   "source": [
    "df_bank.shape"
   ]
  },
  {
   "cell_type": "markdown",
   "id": "9709f579",
   "metadata": {},
   "source": [
    "**PERSENTASE CLIENT JOB**"
   ]
  },
  {
   "cell_type": "code",
   "execution_count": 14,
   "id": "d9901f0e",
   "metadata": {},
   "outputs": [],
   "source": [
    "def create_list_number_bank(name_column, list_unique):\n",
    "    # list_unique = df[name_column].unique()\n",
    "    \n",
    "    i = 0\n",
    "    \n",
    "    list_number = list()\n",
    "    \n",
    "    while i < len(list_unique):\n",
    "        list_number.append(len(df_bank.loc[df_bank[name_column] == list_unique[i]]))\n",
    "        i += 1\n",
    "    \n",
    "    return list_unique, list_number\n",
    "\n",
    "def pie_plot(list_number, list_unique):\n",
    "    plt.figure(figsize=(20,10))\n",
    "    plt.pie(list_unique, \n",
    "        labels=list_number,\n",
    "        autopct='%1.1f%%', \n",
    "        shadow=True, \n",
    "        startangle=140)\n",
    " \n",
    "    plt.axis('equal')\n",
    "    plt.show()\n",
    "    return "
   ]
  },
  {
   "cell_type": "code",
   "execution_count": 15,
   "id": "c0ebb794",
   "metadata": {},
   "outputs": [
    {
     "data": {
      "image/png": "[encoded data removed]",
      "text/plain": [
       "<Figure size 1440x720 with 1 Axes>"
      ]
     },
     "metadata": {},
     "output_type": "display_data"
    }
   ],
   "source": [
    "list_unique_job, list_number_job = create_list_number_bank('job',df_bank['job'].unique())\n",
    "pie_plot(list_unique_job, list_number_job)"
   ]
  },
  {
   "cell_type": "code",
   "execution_count": 16,
   "id": "998f1201",
   "metadata": {
    "scrolled": true
   },
   "outputs": [
    {
     "data": {
      "text/plain": [
       "['housemaid',\n",
       " 'services',\n",
       " 'admin.',\n",
       " 'blue-collar',\n",
       " 'technician',\n",
       " 'retired',\n",
       " 'management',\n",
       " 'unemployed',\n",
       " 'self-employed',\n",
       " 'unknown',\n",
       " 'entrepreneur',\n",
       " 'student']"
      ]
     },
     "execution_count": 16,
     "metadata": {},
     "output_type": "execute_result"
    }
   ],
   "source": [
    "#List job\n",
    "job = list(df_bank[\"job\"].unique())\n",
    "job"
   ]
  },
  {
   "cell_type": "code",
   "execution_count": 17,
   "id": "c801b11a",
   "metadata": {},
   "outputs": [
    {
     "data": {
      "text/plain": [
       "12"
      ]
     },
     "execution_count": 17,
     "metadata": {},
     "output_type": "execute_result"
    }
   ],
   "source": [
    "len(job)"
   ]
  },
  {
   "cell_type": "markdown",
   "id": "eade86ad",
   "metadata": {},
   "source": [
    "**INTERPRETASI**\n",
    "\n",
    "Berdasarkan pie chart diatas dapat dilihat pekerjaan dari klien lembaga bank portugis ini terdapat 12 kategori pekerjaan, dimana pekerjaan dengan persentase terbanyak yaitu admin sebesar 25,3% , sedangkan untuk pekerjaan unknown paling sedikit sebesar 0,8% jenis pekerjaan ini tidak diketahui. "
   ]
  },
  {
   "cell_type": "markdown",
   "id": "1383baa4",
   "metadata": {},
   "source": [
    "**BERAPA BANYAK KLIEN YANG MEMILIKI KREDIT (DEFAULT)**"
   ]
  },
  {
   "cell_type": "code",
   "execution_count": 18,
   "id": "9f4c4ef2",
   "metadata": {
    "scrolled": false
   },
   "outputs": [
    {
     "data": {
      "image/png": "[encoded data removed]",
      "text/plain": [
       "<Figure size 576x360 with 1 Axes>"
      ]
     },
     "metadata": {},
     "output_type": "display_data"
    }
   ],
   "source": [
    "df_default = df_bank['default'].value_counts()\n",
    "\n",
    "df_default.plot(kind='bar', color='green', figsize=(8,5))\n",
    "\n",
    "plt.xlabel('Kategori')\n",
    "plt.ylabel('Jumlah Klien')\n",
    "plt.ylim(ymin=0)\n",
    "\n",
    "plt.show()"
   ]
  },
  {
   "cell_type": "code",
   "execution_count": 19,
   "id": "0f7fd3db",
   "metadata": {
    "scrolled": true
   },
   "outputs": [
    {
     "data": {
      "text/plain": [
       "no         32577\n",
       "unknown     8596\n",
       "yes            3\n",
       "Name: default, dtype: int64"
      ]
     },
     "execution_count": 19,
     "metadata": {},
     "output_type": "execute_result"
    }
   ],
   "source": [
    "df_default"
   ]
  },
  {
   "cell_type": "markdown",
   "id": "c448f3b7",
   "metadata": {},
   "source": [
    "**INTERPRETASI**\n",
    "\n",
    "Berdasarkan bar chart diatas, dapat dilihat bahwa jumlah klien yang tidak memiliki kredit paling banyak yaitu 32.577 klien, sedangkan yang memiliki kredit hanya 3 klien. untuk sisanya tidak diketahui apakah memiliki kredit atau tidak sebanyak 8.596 klien."
   ]
  },
  {
   "cell_type": "code",
   "execution_count": 20,
   "id": "c568e42c",
   "metadata": {
    "scrolled": true
   },
   "outputs": [
    {
     "data": {
      "image/png": "[encoded data removed]",
      "text/plain": [
       "<Figure size 576x360 with 1 Axes>"
      ]
     },
     "metadata": {},
     "output_type": "display_data"
    }
   ],
   "source": [
    "df_loan = df_bank['loan'].value_counts()\n",
    "\n",
    "df_loan.plot(kind='bar', color='blue', figsize=(8,5))\n",
    "\n",
    "plt.xlabel('Kategori')\n",
    "plt.ylabel('Jumlah Klien')\n",
    "plt.ylim(ymin=0)\n",
    "\n",
    "plt.show()"
   ]
  },
  {
   "cell_type": "code",
   "execution_count": 21,
   "id": "765b1e03",
   "metadata": {
    "scrolled": true
   },
   "outputs": [
    {
     "data": {
      "text/plain": [
       "no         33938\n",
       "yes         6248\n",
       "unknown      990\n",
       "Name: loan, dtype: int64"
      ]
     },
     "execution_count": 21,
     "metadata": {},
     "output_type": "execute_result"
    }
   ],
   "source": [
    "df_loan"
   ]
  },
  {
   "cell_type": "markdown",
   "id": "6c3926a0",
   "metadata": {},
   "source": [
    "**INTERPRETASI**\n",
    "\n",
    "Berdasarkan bar chart diatas, dapat dilihat bahwa jumlah klien yang tidak memiliki pinjaman pribadi paling banyak yaitu 33.938 klien, sedangkan yang memiliki pinjaman yaitu 6.248 klien. untuk sisanya tidak diketahui apakah memiliki pinjaman atau tidak sebanyak 990 klien."
   ]
  },
  {
   "cell_type": "markdown",
   "id": "8a2faa98",
   "metadata": {},
   "source": [
    "**JUMLAH KLIEN YANG MEMILIKI DEPOSIT**"
   ]
  },
  {
   "cell_type": "code",
   "execution_count": 22,
   "id": "4c7271dd",
   "metadata": {
    "scrolled": true
   },
   "outputs": [
    {
     "data": {
      "text/plain": [
       "no     36537\n",
       "yes     4639\n",
       "Name: y, dtype: int64"
      ]
     },
     "execution_count": 22,
     "metadata": {},
     "output_type": "execute_result"
    }
   ],
   "source": [
    "df_deposit = df_bank['y'].value_counts()\n",
    "df_deposit"
   ]
  },
  {
   "cell_type": "code",
   "execution_count": 23,
   "id": "148eafff",
   "metadata": {},
   "outputs": [
    {
     "data": {
      "text/plain": [
       "array(['no', 'yes'], dtype=object)"
      ]
     },
     "execution_count": 23,
     "metadata": {},
     "output_type": "execute_result"
    }
   ],
   "source": [
    "labels = df_bank['y'].unique()\n",
    "labels"
   ]
  },
  {
   "cell_type": "code",
   "execution_count": 24,
   "id": "6fec1f80",
   "metadata": {},
   "outputs": [
    {
     "data": {
      "image/png": "[encoded data removed]",
      "text/plain": [
       "<Figure size 576x576 with 1 Axes>"
      ]
     },
     "metadata": {},
     "output_type": "display_data"
    }
   ],
   "source": [
    "plt.figure(figsize=(8,8))\n",
    "colors=['blue', 'yellow']\n",
    "font = {'weight': 'bold','size': 10,}\n",
    "ax = plt.axes()\n",
    "\n",
    "plt.pie(df_deposit,\n",
    "        labels=labels,\n",
    "        colors=colors,\n",
    "        startangle=90,\n",
    "        autopct='%1.1f%%')\n",
    "plt.show()"
   ]
  },
  {
   "cell_type": "markdown",
   "id": "e8c017ca",
   "metadata": {},
   "source": [
    "**INTERPRETASI**\n",
    "\n",
    "Berdasarkan pie chart diatas dapat dilihat klien yang telah berlangganan deposit berjangka sebanyak 11.3% atau sekitar 4.639 klien, sisanya belum berlangganan."
   ]
  },
  {
   "cell_type": "code",
   "execution_count": 25,
   "id": "e58a470e",
   "metadata": {
    "scrolled": true
   },
   "outputs": [
    {
     "data": {
      "image/png": "[encoded data removed]",
      "text/plain": [
       "<Figure size 432x288 with 1 Axes>"
      ]
     },
     "metadata": {},
     "output_type": "display_data"
    }
   ],
   "source": [
    "pd.crosstab(df_bank.job,df_bank.y).plot(kind='bar')\n",
    "plt.title('Purchase Frequency for Job Title')\n",
    "\n",
    "plt.xlabel('Job')\n",
    "plt.ylabel('Frequency of Purchase')\n",
    "\n",
    "plt.savefig('purchase_fre_job') "
   ]
  },
  {
   "cell_type": "markdown",
   "id": "670e73ff",
   "metadata": {},
   "source": [
    "**INTERPRETASI**\n",
    "\n",
    "Frekuensi berlangganan deposit bergantung pada pekerjaan, dengan demikian pekerjaan merupakan prediktor yang baik dari variabel hasil."
   ]
  },
  {
   "cell_type": "code",
   "execution_count": 26,
   "id": "19030e6f",
   "metadata": {
    "scrolled": true
   },
   "outputs": [
    {
     "data": {
      "image/png": "[encoded data removed]",
      "text/plain": [
       "<Figure size 432x288 with 1 Axes>"
      ]
     },
     "metadata": {},
     "output_type": "display_data"
    }
   ],
   "source": [
    "table=pd.crosstab(df_bank.education,df_bank.y)  \n",
    "table.div(table.sum(1).astype(float), axis=0).plot(kind='bar', stacked=True)  \n",
    "plt.title('Stacked Bar Chart of Education vs Purchase')  \n",
    "plt.xlabel('Education')  \n",
    "plt.ylabel('Proportion of Customers')  \n",
    "plt.savefig('edu_vs_pur_stack')  "
   ]
  },
  {
   "cell_type": "markdown",
   "id": "0329b579",
   "metadata": {},
   "source": [
    "**INTERPRETASI**\n",
    "\n",
    "Pendidikan merupakan prediktor yang baik dari variabel hasil"
   ]
  },
  {
   "cell_type": "code",
   "execution_count": 27,
   "id": "5a413697",
   "metadata": {
    "scrolled": true
   },
   "outputs": [
    {
     "data": {
      "image/png": "[encoded data removed]",
      "text/plain": [
       "<Figure size 432x288 with 1 Axes>"
      ]
     },
     "metadata": {},
     "output_type": "display_data"
    }
   ],
   "source": [
    "table=pd.crosstab(df_bank.marital,df_bank.y)  \n",
    "table.div(table.sum(1).astype(float), axis=0).plot(kind='bar', stacked=True)  \n",
    "plt.title('Stacked Bar Chart of Marital Status vs Purchase')  \n",
    "plt.xlabel('Marital Status')  \n",
    "plt.ylabel('Proportion of Customers')  \n",
    "plt.savefig('mariral_vs_pur_stack') "
   ]
  },
  {
   "cell_type": "markdown",
   "id": "418f47ad",
   "metadata": {},
   "source": [
    "**INTERPRETASI**\n",
    "\n",
    "Status perkawinan bukan merupakan prediktor yang kuat untuk variabel hasil"
   ]
  },
  {
   "cell_type": "code",
   "execution_count": 28,
   "id": "d31f6dc2",
   "metadata": {},
   "outputs": [
    {
     "data": {
      "image/png": "[encoded data removed]",
      "text/plain": [
       "<Figure size 432x288 with 1 Axes>"
      ]
     },
     "metadata": {},
     "output_type": "display_data"
    }
   ],
   "source": [
    "df_bank.age.hist()  \n",
    "plt.title('Histogram of Age')  \n",
    "plt.xlabel('Age')  \n",
    "plt.ylabel('Frequency')  \n",
    "plt.savefig('hist_age') "
   ]
  },
  {
   "cell_type": "markdown",
   "id": "d13d77af",
   "metadata": {},
   "source": [
    "**INTERPRETASI**\n",
    "\n",
    "Rata-rata klien bank dalam dataset ini berusia antara 30-40 tahun."
   ]
  },
  {
   "cell_type": "code",
   "execution_count": 29,
   "id": "4d83b541",
   "metadata": {},
   "outputs": [
    {
     "data": {
      "image/png": "[encoded data removed]",
      "text/plain": [
       "<Figure size 432x288 with 1 Axes>"
      ]
     },
     "metadata": {},
     "output_type": "display_data"
    }
   ],
   "source": [
    "pd.crosstab(df_bank.day_of_week,df_bank.y).plot(kind='bar')  \n",
    "plt.title('Purchase Frequency for Day of Week')  \n",
    "plt.xlabel('Day of Week')  \n",
    "plt.ylabel('Frequency of Purchase')  \n",
    "plt.savefig('pur_dayofweek_bar')  \n",
    " "
   ]
  },
  {
   "cell_type": "markdown",
   "id": "38110e4d",
   "metadata": {},
   "source": [
    "**INTERPRETASI**\n",
    "\n",
    "Hari dalam seminggu bukan merupakan prediktor yang baik untuk hasilnya."
   ]
  },
  {
   "cell_type": "code",
   "execution_count": 30,
   "id": "6babf829",
   "metadata": {
    "scrolled": true
   },
   "outputs": [
    {
     "data": {
      "image/png": "[encoded data removed]",
      "text/plain": [
       "<Figure size 432x288 with 1 Axes>"
      ]
     },
     "metadata": {},
     "output_type": "display_data"
    }
   ],
   "source": [
    "pd.crosstab(df_bank.month,df_bank.y).plot(kind='bar')  \n",
    "plt.title('Purchase Frequency for Month')  \n",
    "plt.xlabel('Month')  \n",
    "plt.ylabel('Frequency of Purchase')  \n",
    "plt.savefig('pur_fre_month_bar')  \n",
    " "
   ]
  },
  {
   "cell_type": "markdown",
   "id": "7c082ae2",
   "metadata": {},
   "source": [
    "**INTERPRETASI**\n",
    "\n",
    "Bulan merupakan prediktor yang baik untuk variabel hasil"
   ]
  },
  {
   "cell_type": "markdown",
   "id": "adc0a770",
   "metadata": {},
   "source": [
    "# Buat Variabel Dummy\n",
    "\n",
    "Sebelum membangun model dengan 6 algoritma , data df_bank perlu di menjadi dua atau displit menjadi data training dan data testing. untuk data training 70% dan testing 30%. data training digunakan untuk melatih algoritma dalam mencari model yang sesuai sedangkan data testing dipakai untuk menguji dan mengetahui performa model yang didapatkan pada tahapan testing. sebelum displit data category diubah terlebih dahulu menjadi variabel dummy."
   ]
  },
  {
   "cell_type": "code",
   "execution_count": 31,
   "id": "60463d14",
   "metadata": {},
   "outputs": [],
   "source": [
    "# Menghapus Kolom yang tidak digunakan\n",
    "\n",
    "df_bank = df_bank.drop(columns=['marital','day_of_week'])"
   ]
  },
  {
   "cell_type": "markdown",
   "id": "6a0c9dcf",
   "metadata": {},
   "source": [
    "**INTERPRETASI**\n",
    "\n",
    "Berdasarkan hasil visualisasi data yang saya buat, terlihat dari visualisasinya, saya menyimpulkan bahwa kolom marital dan day of week bukan prediktor yang baik. oleh karena itu, kedua kolom tersebut dihapus."
   ]
  },
  {
   "cell_type": "code",
   "execution_count": 32,
   "id": "325c8103",
   "metadata": {},
   "outputs": [
    {
     "name": "stdout",
     "output_type": "stream",
     "text": [
      "<class 'pandas.core.frame.DataFrame'>\n",
      "Int64Index: 41176 entries, 0 to 41187\n",
      "Data columns (total 18 columns):\n",
      " #   Column          Non-Null Count  Dtype  \n",
      "---  ------          --------------  -----  \n",
      " 0   age             41176 non-null  int64  \n",
      " 1   job             41176 non-null  object \n",
      " 2   education       41176 non-null  object \n",
      " 3   default         41176 non-null  object \n",
      " 4   housing         41176 non-null  object \n",
      " 5   loan            41176 non-null  object \n",
      " 6   contact         41176 non-null  object \n",
      " 7   month           41176 non-null  object \n",
      " 8   campaign        41176 non-null  int64  \n",
      " 9   pdays           41176 non-null  int64  \n",
      " 10  previous        41176 non-null  int64  \n",
      " 11  poutcome        41176 non-null  object \n",
      " 12  emp.var.rate    41176 non-null  float64\n",
      " 13  cons.price.idx  41176 non-null  float64\n",
      " 14  cons.conf.idx   41176 non-null  float64\n",
      " 15  euribor3m       41176 non-null  float64\n",
      " 16  nr.employed     41176 non-null  float64\n",
      " 17  y               41176 non-null  object \n",
      "dtypes: float64(5), int64(4), object(9)\n",
      "memory usage: 6.0+ MB\n"
     ]
    }
   ],
   "source": [
    "df_bank.info()"
   ]
  },
  {
   "cell_type": "code",
   "execution_count": 33,
   "id": "86333a65",
   "metadata": {},
   "outputs": [],
   "source": [
    "# Defining dataset\n",
    "columns_num = ['age', 'campaign', 'pdays', 'previous', 'emp.var.rate', 'cons.price.idx', 'cons.conf.idx', 'euribor3m', 'nr.employed']\n",
    "columns_cat = ['job', 'education', 'default', 'housing', 'loan', 'contact', 'month', 'poutcome']\n",
    "columns_features = ['age', 'job', 'education', 'default', 'housing', 'loan', 'contact', 'month', 'campaign', 'pdays', 'previous', 'poutcome', 'emp.var.rate', 'cons.price.idx', 'cons.conf.idx', 'euribor3m', 'nr.employed']\n",
    "columns_bool = ['y']"
   ]
  },
  {
   "cell_type": "markdown",
   "id": "081bf60a",
   "metadata": {},
   "source": [
    "**Encoding data columns**"
   ]
  },
  {
   "cell_type": "code",
   "execution_count": 34,
   "id": "ad168891",
   "metadata": {},
   "outputs": [],
   "source": [
    "le = preprocessing.LabelEncoder()"
   ]
  },
  {
   "cell_type": "code",
   "execution_count": 35,
   "id": "cba6e73b",
   "metadata": {},
   "outputs": [],
   "source": [
    "# Konversi kolom kategori menjadi numerik\n",
    "for col in columns_cat:\n",
    "    df_bank[col] = le.fit_transform(df_bank[col])"
   ]
  },
  {
   "cell_type": "code",
   "execution_count": 36,
   "id": "0ba1fb39",
   "metadata": {
    "scrolled": true
   },
   "outputs": [
    {
     "data": {
      "text/html": [
       "<div>\n",
       "<style scoped>\n",
       "    .dataframe tbody tr th:only-of-type {\n",
       "        vertical-align: middle;\n",
       "    }\n",
       "\n",
       "    .dataframe tbody tr th {\n",
       "        vertical-align: top;\n",
       "    }\n",
       "\n",
       "    .dataframe thead th {\n",
       "        text-align: right;\n",
       "    }\n",
       "</style>\n",
       "<table border=\"1\" class=\"dataframe\">\n",
       "  <thead>\n",
       "    <tr style=\"text-align: right;\">\n",
       "      <th></th>\n",
       "      <th>age</th>\n",
       "      <th>job</th>\n",
       "      <th>education</th>\n",
       "      <th>default</th>\n",
       "      <th>housing</th>\n",
       "      <th>loan</th>\n",
       "      <th>contact</th>\n",
       "      <th>month</th>\n",
       "      <th>campaign</th>\n",
       "      <th>pdays</th>\n",
       "      <th>previous</th>\n",
       "      <th>poutcome</th>\n",
       "      <th>emp.var.rate</th>\n",
       "      <th>cons.price.idx</th>\n",
       "      <th>cons.conf.idx</th>\n",
       "      <th>euribor3m</th>\n",
       "      <th>nr.employed</th>\n",
       "      <th>y</th>\n",
       "    </tr>\n",
       "  </thead>\n",
       "  <tbody>\n",
       "    <tr>\n",
       "      <th>0</th>\n",
       "      <td>56</td>\n",
       "      <td>3</td>\n",
       "      <td>0</td>\n",
       "      <td>0</td>\n",
       "      <td>0</td>\n",
       "      <td>0</td>\n",
       "      <td>1</td>\n",
       "      <td>6</td>\n",
       "      <td>1</td>\n",
       "      <td>999</td>\n",
       "      <td>0</td>\n",
       "      <td>1</td>\n",
       "      <td>1.1</td>\n",
       "      <td>93.994</td>\n",
       "      <td>-36.4</td>\n",
       "      <td>4.857</td>\n",
       "      <td>5191.0</td>\n",
       "      <td>no</td>\n",
       "    </tr>\n",
       "    <tr>\n",
       "      <th>1</th>\n",
       "      <td>57</td>\n",
       "      <td>7</td>\n",
       "      <td>3</td>\n",
       "      <td>1</td>\n",
       "      <td>0</td>\n",
       "      <td>0</td>\n",
       "      <td>1</td>\n",
       "      <td>6</td>\n",
       "      <td>1</td>\n",
       "      <td>999</td>\n",
       "      <td>0</td>\n",
       "      <td>1</td>\n",
       "      <td>1.1</td>\n",
       "      <td>93.994</td>\n",
       "      <td>-36.4</td>\n",
       "      <td>4.857</td>\n",
       "      <td>5191.0</td>\n",
       "      <td>no</td>\n",
       "    </tr>\n",
       "    <tr>\n",
       "      <th>2</th>\n",
       "      <td>37</td>\n",
       "      <td>7</td>\n",
       "      <td>3</td>\n",
       "      <td>0</td>\n",
       "      <td>2</td>\n",
       "      <td>0</td>\n",
       "      <td>1</td>\n",
       "      <td>6</td>\n",
       "      <td>1</td>\n",
       "      <td>999</td>\n",
       "      <td>0</td>\n",
       "      <td>1</td>\n",
       "      <td>1.1</td>\n",
       "      <td>93.994</td>\n",
       "      <td>-36.4</td>\n",
       "      <td>4.857</td>\n",
       "      <td>5191.0</td>\n",
       "      <td>no</td>\n",
       "    </tr>\n",
       "    <tr>\n",
       "      <th>3</th>\n",
       "      <td>40</td>\n",
       "      <td>0</td>\n",
       "      <td>1</td>\n",
       "      <td>0</td>\n",
       "      <td>0</td>\n",
       "      <td>0</td>\n",
       "      <td>1</td>\n",
       "      <td>6</td>\n",
       "      <td>1</td>\n",
       "      <td>999</td>\n",
       "      <td>0</td>\n",
       "      <td>1</td>\n",
       "      <td>1.1</td>\n",
       "      <td>93.994</td>\n",
       "      <td>-36.4</td>\n",
       "      <td>4.857</td>\n",
       "      <td>5191.0</td>\n",
       "      <td>no</td>\n",
       "    </tr>\n",
       "    <tr>\n",
       "      <th>4</th>\n",
       "      <td>56</td>\n",
       "      <td>7</td>\n",
       "      <td>3</td>\n",
       "      <td>0</td>\n",
       "      <td>0</td>\n",
       "      <td>2</td>\n",
       "      <td>1</td>\n",
       "      <td>6</td>\n",
       "      <td>1</td>\n",
       "      <td>999</td>\n",
       "      <td>0</td>\n",
       "      <td>1</td>\n",
       "      <td>1.1</td>\n",
       "      <td>93.994</td>\n",
       "      <td>-36.4</td>\n",
       "      <td>4.857</td>\n",
       "      <td>5191.0</td>\n",
       "      <td>no</td>\n",
       "    </tr>\n",
       "  </tbody>\n",
       "</table>\n",
       "</div>"
      ],
      "text/plain": [
       "   age  job  education  default  housing  loan  contact  month  campaign  \\\n",
       "0   56    3          0        0        0     0        1      6         1   \n",
       "1   57    7          3        1        0     0        1      6         1   \n",
       "2   37    7          3        0        2     0        1      6         1   \n",
       "3   40    0          1        0        0     0        1      6         1   \n",
       "4   56    7          3        0        0     2        1      6         1   \n",
       "\n",
       "   pdays  previous  poutcome  emp.var.rate  cons.price.idx  cons.conf.idx  \\\n",
       "0    999         0         1           1.1          93.994          -36.4   \n",
       "1    999         0         1           1.1          93.994          -36.4   \n",
       "2    999         0         1           1.1          93.994          -36.4   \n",
       "3    999         0         1           1.1          93.994          -36.4   \n",
       "4    999         0         1           1.1          93.994          -36.4   \n",
       "\n",
       "   euribor3m  nr.employed   y  \n",
       "0      4.857       5191.0  no  \n",
       "1      4.857       5191.0  no  \n",
       "2      4.857       5191.0  no  \n",
       "3      4.857       5191.0  no  \n",
       "4      4.857       5191.0  no  "
      ]
     },
     "execution_count": 36,
     "metadata": {},
     "output_type": "execute_result"
    }
   ],
   "source": [
    "df_bank.head()"
   ]
  },
  {
   "cell_type": "code",
   "execution_count": 37,
   "id": "1608c32e",
   "metadata": {},
   "outputs": [],
   "source": [
    "# Konversi label menjadi numerik\n",
    "for col in columns_bool:\n",
    "    df_bank[col] = le.fit_transform(df_bank[col])"
   ]
  },
  {
   "cell_type": "code",
   "execution_count": 38,
   "id": "af091c71",
   "metadata": {
    "scrolled": false
   },
   "outputs": [
    {
     "data": {
      "text/html": [
       "<div>\n",
       "<style scoped>\n",
       "    .dataframe tbody tr th:only-of-type {\n",
       "        vertical-align: middle;\n",
       "    }\n",
       "\n",
       "    .dataframe tbody tr th {\n",
       "        vertical-align: top;\n",
       "    }\n",
       "\n",
       "    .dataframe thead th {\n",
       "        text-align: right;\n",
       "    }\n",
       "</style>\n",
       "<table border=\"1\" class=\"dataframe\">\n",
       "  <thead>\n",
       "    <tr style=\"text-align: right;\">\n",
       "      <th></th>\n",
       "      <th>age</th>\n",
       "      <th>job</th>\n",
       "      <th>education</th>\n",
       "      <th>default</th>\n",
       "      <th>housing</th>\n",
       "      <th>loan</th>\n",
       "      <th>contact</th>\n",
       "      <th>month</th>\n",
       "      <th>campaign</th>\n",
       "      <th>pdays</th>\n",
       "      <th>previous</th>\n",
       "      <th>poutcome</th>\n",
       "      <th>emp.var.rate</th>\n",
       "      <th>cons.price.idx</th>\n",
       "      <th>cons.conf.idx</th>\n",
       "      <th>euribor3m</th>\n",
       "      <th>nr.employed</th>\n",
       "      <th>y</th>\n",
       "    </tr>\n",
       "  </thead>\n",
       "  <tbody>\n",
       "    <tr>\n",
       "      <th>0</th>\n",
       "      <td>56</td>\n",
       "      <td>3</td>\n",
       "      <td>0</td>\n",
       "      <td>0</td>\n",
       "      <td>0</td>\n",
       "      <td>0</td>\n",
       "      <td>1</td>\n",
       "      <td>6</td>\n",
       "      <td>1</td>\n",
       "      <td>999</td>\n",
       "      <td>0</td>\n",
       "      <td>1</td>\n",
       "      <td>1.1</td>\n",
       "      <td>93.994</td>\n",
       "      <td>-36.4</td>\n",
       "      <td>4.857</td>\n",
       "      <td>5191.0</td>\n",
       "      <td>0</td>\n",
       "    </tr>\n",
       "    <tr>\n",
       "      <th>1</th>\n",
       "      <td>57</td>\n",
       "      <td>7</td>\n",
       "      <td>3</td>\n",
       "      <td>1</td>\n",
       "      <td>0</td>\n",
       "      <td>0</td>\n",
       "      <td>1</td>\n",
       "      <td>6</td>\n",
       "      <td>1</td>\n",
       "      <td>999</td>\n",
       "      <td>0</td>\n",
       "      <td>1</td>\n",
       "      <td>1.1</td>\n",
       "      <td>93.994</td>\n",
       "      <td>-36.4</td>\n",
       "      <td>4.857</td>\n",
       "      <td>5191.0</td>\n",
       "      <td>0</td>\n",
       "    </tr>\n",
       "    <tr>\n",
       "      <th>2</th>\n",
       "      <td>37</td>\n",
       "      <td>7</td>\n",
       "      <td>3</td>\n",
       "      <td>0</td>\n",
       "      <td>2</td>\n",
       "      <td>0</td>\n",
       "      <td>1</td>\n",
       "      <td>6</td>\n",
       "      <td>1</td>\n",
       "      <td>999</td>\n",
       "      <td>0</td>\n",
       "      <td>1</td>\n",
       "      <td>1.1</td>\n",
       "      <td>93.994</td>\n",
       "      <td>-36.4</td>\n",
       "      <td>4.857</td>\n",
       "      <td>5191.0</td>\n",
       "      <td>0</td>\n",
       "    </tr>\n",
       "    <tr>\n",
       "      <th>3</th>\n",
       "      <td>40</td>\n",
       "      <td>0</td>\n",
       "      <td>1</td>\n",
       "      <td>0</td>\n",
       "      <td>0</td>\n",
       "      <td>0</td>\n",
       "      <td>1</td>\n",
       "      <td>6</td>\n",
       "      <td>1</td>\n",
       "      <td>999</td>\n",
       "      <td>0</td>\n",
       "      <td>1</td>\n",
       "      <td>1.1</td>\n",
       "      <td>93.994</td>\n",
       "      <td>-36.4</td>\n",
       "      <td>4.857</td>\n",
       "      <td>5191.0</td>\n",
       "      <td>0</td>\n",
       "    </tr>\n",
       "    <tr>\n",
       "      <th>4</th>\n",
       "      <td>56</td>\n",
       "      <td>7</td>\n",
       "      <td>3</td>\n",
       "      <td>0</td>\n",
       "      <td>0</td>\n",
       "      <td>2</td>\n",
       "      <td>1</td>\n",
       "      <td>6</td>\n",
       "      <td>1</td>\n",
       "      <td>999</td>\n",
       "      <td>0</td>\n",
       "      <td>1</td>\n",
       "      <td>1.1</td>\n",
       "      <td>93.994</td>\n",
       "      <td>-36.4</td>\n",
       "      <td>4.857</td>\n",
       "      <td>5191.0</td>\n",
       "      <td>0</td>\n",
       "    </tr>\n",
       "    <tr>\n",
       "      <th>...</th>\n",
       "      <td>...</td>\n",
       "      <td>...</td>\n",
       "      <td>...</td>\n",
       "      <td>...</td>\n",
       "      <td>...</td>\n",
       "      <td>...</td>\n",
       "      <td>...</td>\n",
       "      <td>...</td>\n",
       "      <td>...</td>\n",
       "      <td>...</td>\n",
       "      <td>...</td>\n",
       "      <td>...</td>\n",
       "      <td>...</td>\n",
       "      <td>...</td>\n",
       "      <td>...</td>\n",
       "      <td>...</td>\n",
       "      <td>...</td>\n",
       "      <td>...</td>\n",
       "    </tr>\n",
       "    <tr>\n",
       "      <th>41183</th>\n",
       "      <td>73</td>\n",
       "      <td>5</td>\n",
       "      <td>5</td>\n",
       "      <td>0</td>\n",
       "      <td>2</td>\n",
       "      <td>0</td>\n",
       "      <td>0</td>\n",
       "      <td>7</td>\n",
       "      <td>1</td>\n",
       "      <td>999</td>\n",
       "      <td>0</td>\n",
       "      <td>1</td>\n",
       "      <td>-1.1</td>\n",
       "      <td>94.767</td>\n",
       "      <td>-50.8</td>\n",
       "      <td>1.028</td>\n",
       "      <td>4963.6</td>\n",
       "      <td>1</td>\n",
       "    </tr>\n",
       "    <tr>\n",
       "      <th>41184</th>\n",
       "      <td>46</td>\n",
       "      <td>1</td>\n",
       "      <td>5</td>\n",
       "      <td>0</td>\n",
       "      <td>0</td>\n",
       "      <td>0</td>\n",
       "      <td>0</td>\n",
       "      <td>7</td>\n",
       "      <td>1</td>\n",
       "      <td>999</td>\n",
       "      <td>0</td>\n",
       "      <td>1</td>\n",
       "      <td>-1.1</td>\n",
       "      <td>94.767</td>\n",
       "      <td>-50.8</td>\n",
       "      <td>1.028</td>\n",
       "      <td>4963.6</td>\n",
       "      <td>0</td>\n",
       "    </tr>\n",
       "    <tr>\n",
       "      <th>41185</th>\n",
       "      <td>56</td>\n",
       "      <td>5</td>\n",
       "      <td>6</td>\n",
       "      <td>0</td>\n",
       "      <td>2</td>\n",
       "      <td>0</td>\n",
       "      <td>0</td>\n",
       "      <td>7</td>\n",
       "      <td>2</td>\n",
       "      <td>999</td>\n",
       "      <td>0</td>\n",
       "      <td>1</td>\n",
       "      <td>-1.1</td>\n",
       "      <td>94.767</td>\n",
       "      <td>-50.8</td>\n",
       "      <td>1.028</td>\n",
       "      <td>4963.6</td>\n",
       "      <td>0</td>\n",
       "    </tr>\n",
       "    <tr>\n",
       "      <th>41186</th>\n",
       "      <td>44</td>\n",
       "      <td>9</td>\n",
       "      <td>5</td>\n",
       "      <td>0</td>\n",
       "      <td>0</td>\n",
       "      <td>0</td>\n",
       "      <td>0</td>\n",
       "      <td>7</td>\n",
       "      <td>1</td>\n",
       "      <td>999</td>\n",
       "      <td>0</td>\n",
       "      <td>1</td>\n",
       "      <td>-1.1</td>\n",
       "      <td>94.767</td>\n",
       "      <td>-50.8</td>\n",
       "      <td>1.028</td>\n",
       "      <td>4963.6</td>\n",
       "      <td>1</td>\n",
       "    </tr>\n",
       "    <tr>\n",
       "      <th>41187</th>\n",
       "      <td>74</td>\n",
       "      <td>5</td>\n",
       "      <td>5</td>\n",
       "      <td>0</td>\n",
       "      <td>2</td>\n",
       "      <td>0</td>\n",
       "      <td>0</td>\n",
       "      <td>7</td>\n",
       "      <td>3</td>\n",
       "      <td>999</td>\n",
       "      <td>1</td>\n",
       "      <td>0</td>\n",
       "      <td>-1.1</td>\n",
       "      <td>94.767</td>\n",
       "      <td>-50.8</td>\n",
       "      <td>1.028</td>\n",
       "      <td>4963.6</td>\n",
       "      <td>0</td>\n",
       "    </tr>\n",
       "  </tbody>\n",
       "</table>\n",
       "<p>41176 rows × 18 columns</p>\n",
       "</div>"
      ],
      "text/plain": [
       "       age  job  education  default  housing  loan  contact  month  campaign  \\\n",
       "0       56    3          0        0        0     0        1      6         1   \n",
       "1       57    7          3        1        0     0        1      6         1   \n",
       "2       37    7          3        0        2     0        1      6         1   \n",
       "3       40    0          1        0        0     0        1      6         1   \n",
       "4       56    7          3        0        0     2        1      6         1   \n",
       "...    ...  ...        ...      ...      ...   ...      ...    ...       ...   \n",
       "41183   73    5          5        0        2     0        0      7         1   \n",
       "41184   46    1          5        0        0     0        0      7         1   \n",
       "41185   56    5          6        0        2     0        0      7         2   \n",
       "41186   44    9          5        0        0     0        0      7         1   \n",
       "41187   74    5          5        0        2     0        0      7         3   \n",
       "\n",
       "       pdays  previous  poutcome  emp.var.rate  cons.price.idx  cons.conf.idx  \\\n",
       "0        999         0         1           1.1          93.994          -36.4   \n",
       "1        999         0         1           1.1          93.994          -36.4   \n",
       "2        999         0         1           1.1          93.994          -36.4   \n",
       "3        999         0         1           1.1          93.994          -36.4   \n",
       "4        999         0         1           1.1          93.994          -36.4   \n",
       "...      ...       ...       ...           ...             ...            ...   \n",
       "41183    999         0         1          -1.1          94.767          -50.8   \n",
       "41184    999         0         1          -1.1          94.767          -50.8   \n",
       "41185    999         0         1          -1.1          94.767          -50.8   \n",
       "41186    999         0         1          -1.1          94.767          -50.8   \n",
       "41187    999         1         0          -1.1          94.767          -50.8   \n",
       "\n",
       "       euribor3m  nr.employed  y  \n",
       "0          4.857       5191.0  0  \n",
       "1          4.857       5191.0  0  \n",
       "2          4.857       5191.0  0  \n",
       "3          4.857       5191.0  0  \n",
       "4          4.857       5191.0  0  \n",
       "...          ...          ... ..  \n",
       "41183      1.028       4963.6  1  \n",
       "41184      1.028       4963.6  0  \n",
       "41185      1.028       4963.6  0  \n",
       "41186      1.028       4963.6  1  \n",
       "41187      1.028       4963.6  0  \n",
       "\n",
       "[41176 rows x 18 columns]"
      ]
     },
     "execution_count": 38,
     "metadata": {},
     "output_type": "execute_result"
    }
   ],
   "source": [
    "df_bank"
   ]
  },
  {
   "cell_type": "code",
   "execution_count": 39,
   "id": "84dad3ee",
   "metadata": {},
   "outputs": [
    {
     "data": {
      "text/plain": [
       "array([0, 1])"
      ]
     },
     "execution_count": 39,
     "metadata": {},
     "output_type": "execute_result"
    }
   ],
   "source": [
    "df_bank['y'].unique()"
   ]
  },
  {
   "cell_type": "code",
   "execution_count": 40,
   "id": "71154884",
   "metadata": {
    "scrolled": true
   },
   "outputs": [
    {
     "data": {
      "text/plain": [
       "(41176, 18)"
      ]
     },
     "execution_count": 40,
     "metadata": {},
     "output_type": "execute_result"
    }
   ],
   "source": [
    "df_bank.shape"
   ]
  },
  {
   "cell_type": "markdown",
   "id": "e18f3870",
   "metadata": {},
   "source": [
    "**ATUR DATA MENJADI FEATURES DAN TARGET**"
   ]
  },
  {
   "cell_type": "code",
   "execution_count": 41,
   "id": "92bbd98c",
   "metadata": {},
   "outputs": [],
   "source": [
    "# Memilih semua fitur kecuali kolom terakhir\n",
    "X = df_bank.iloc[:, :-1]\n",
    "\n",
    "# Memilih target yaitu kolom terakhir\n",
    "y = df_bank.iloc[:, -1]"
   ]
  },
  {
   "cell_type": "code",
   "execution_count": 42,
   "id": "5a5fc76e",
   "metadata": {},
   "outputs": [],
   "source": [
    "# Split dataset menjadi training 70% dan testing 30%\n",
    "x_train, x_test, y_train, y_test = train_test_split(X,y, test_size=0.3, random_state=0)"
   ]
  },
  {
   "cell_type": "code",
   "execution_count": 43,
   "id": "7dc3f1fa",
   "metadata": {
    "scrolled": true
   },
   "outputs": [
    {
     "name": "stdout",
     "output_type": "stream",
     "text": [
      "(28823, 17)\n",
      "(12353, 17)\n",
      "(28823,)\n",
      "(12353,)\n"
     ]
    }
   ],
   "source": [
    "print(x_train.shape)\n",
    "print(x_test.shape)\n",
    "print(y_train.shape)\n",
    "print(y_test.shape)"
   ]
  },
  {
   "cell_type": "markdown",
   "id": "181775b9",
   "metadata": {},
   "source": [
    "# Membangun Model"
   ]
  },
  {
   "cell_type": "markdown",
   "id": "1b3e8402",
   "metadata": {},
   "source": [
    "## Logistic Regression"
   ]
  },
  {
   "cell_type": "markdown",
   "id": "e47b7b1d",
   "metadata": {},
   "source": [
    "**Generating Model**"
   ]
  },
  {
   "cell_type": "code",
   "execution_count": 44,
   "id": "dffc724b",
   "metadata": {
    "scrolled": false
   },
   "outputs": [
    {
     "name": "stderr",
     "output_type": "stream",
     "text": [
      "C:\\Users\\Rizqatasyaa\\anaconda3\\lib\\site-packages\\sklearn\\linear_model\\_logistic.py:814: ConvergenceWarning: lbfgs failed to converge (status=1):\n",
      "STOP: TOTAL NO. of ITERATIONS REACHED LIMIT.\n",
      "\n",
      "Increase the number of iterations (max_iter) or scale the data as shown in:\n",
      "    https://scikit-learn.org/stable/modules/preprocessing.html\n",
      "Please also refer to the documentation for alternative solver options:\n",
      "    https://scikit-learn.org/stable/modules/linear_model.html#logistic-regression\n",
      "  n_iter_i = _check_optimize_result(\n"
     ]
    },
    {
     "data": {
      "text/plain": [
       "LogisticRegression()"
      ]
     },
     "execution_count": 44,
     "metadata": {},
     "output_type": "execute_result"
    }
   ],
   "source": [
    "model_logreg = LogisticRegression()\n",
    "model_logreg.fit(x_train, y_train)"
   ]
  },
  {
   "cell_type": "markdown",
   "id": "4cabc5ba",
   "metadata": {},
   "source": [
    "**Prediksi hasil testing dan menghitung akurasi**"
   ]
  },
  {
   "cell_type": "code",
   "execution_count": 45,
   "id": "53500d8f",
   "metadata": {},
   "outputs": [
    {
     "name": "stdout",
     "output_type": "stream",
     "text": [
      "Accuracy of logistic regression classifier on test set: 0.89703\n"
     ]
    }
   ],
   "source": [
    "y_pred_lr = model_logreg.predict(x_test)  \n",
    "\n",
    "print('Accuracy of logistic regression classifier on test set: {:.5f}'.format(metrics.accuracy_score(y_test, y_pred_lr)))  "
   ]
  },
  {
   "cell_type": "markdown",
   "id": "2883fe5e",
   "metadata": {},
   "source": [
    "**Confusion Matrix**"
   ]
  },
  {
   "cell_type": "code",
   "execution_count": 46,
   "id": "c140f972",
   "metadata": {
    "scrolled": true
   },
   "outputs": [
    {
     "name": "stderr",
     "output_type": "stream",
     "text": [
      "C:\\Users\\Rizqatasyaa\\anaconda3\\lib\\site-packages\\sklearn\\utils\\deprecation.py:87: FutureWarning: Function plot_confusion_matrix is deprecated; Function `plot_confusion_matrix` is deprecated in 1.0 and will be removed in 1.2. Use one of the class methods: ConfusionMatrixDisplay.from_predictions or ConfusionMatrixDisplay.from_estimator.\n",
      "  warnings.warn(msg, category=FutureWarning)\n"
     ]
    },
    {
     "data": {
      "text/plain": [
       "<sklearn.metrics._plot.confusion_matrix.ConfusionMatrixDisplay at 0x21ab0ed1100>"
      ]
     },
     "execution_count": 46,
     "metadata": {},
     "output_type": "execute_result"
    },
    {
     "data": {
      "image/png": "[encoded data removed]",
      "text/plain": [
       "<Figure size 432x288 with 2 Axes>"
      ]
     },
     "metadata": {},
     "output_type": "display_data"
    }
   ],
   "source": [
    "plot_confusion_matrix(model_logreg, x_train, y_train)"
   ]
  },
  {
   "cell_type": "markdown",
   "id": "2a7a0249",
   "metadata": {},
   "source": [
    "**Ketepatan hasil prediksi**"
   ]
  },
  {
   "cell_type": "code",
   "execution_count": 47,
   "id": "eee921e3",
   "metadata": {
    "scrolled": true
   },
   "outputs": [
    {
     "name": "stdout",
     "output_type": "stream",
     "text": [
      "              precision    recall  f1-score   support\n",
      "\n",
      "           0       0.90      0.99      0.94     10919\n",
      "           1       0.71      0.19      0.30      1434\n",
      "\n",
      "    accuracy                           0.90     12353\n",
      "   macro avg       0.81      0.59      0.62     12353\n",
      "weighted avg       0.88      0.90      0.87     12353\n",
      "\n"
     ]
    }
   ],
   "source": [
    "print(classification_report(y_test, y_pred_lr)) "
   ]
  },
  {
   "cell_type": "markdown",
   "id": "1dac7c43",
   "metadata": {},
   "source": [
    "**INTERPRETASI**\n",
    "\n",
    "Dapat disimpulkan akurasi pengklasifikasi regresi logistik pada data testing yaitu sebesar 0,90 atau 90%.\n",
    "\n",
    "untuk confusion matrix menghasilkan  25.316 + 645 prediksi yang benar dan 2.560 + 302 prediksi yang salah. atau\n",
    "- 25.316 prediksi negatif yang benar = 25.316 pengamatan pertama adalah nol atau no yang diprediksi dengan benar\n",
    "- 2.560 prediksi negatif yang salah = 2.560 pengamatan yang salah sebagai nol atau no\n",
    "- 302 prediksi positif yang salah = pengamatan keempat adalah prediksi yang salah dinyatakan sebagai 1 atau yes\n",
    "- 645 prediksi positif yang benar = 645 pengamatan terakhir adalah yang diprediksi dengan benar dinyatakan sebagai 1 atau yes\n"
   ]
  },
  {
   "cell_type": "markdown",
   "id": "3d7ea8c8",
   "metadata": {},
   "source": [
    "## K-Nearest Neighbor (KNN)"
   ]
  },
  {
   "cell_type": "markdown",
   "id": "1f6bf133",
   "metadata": {},
   "source": [
    "**Standarisasi Data**"
   ]
  },
  {
   "cell_type": "markdown",
   "id": "d441ceb4",
   "metadata": {},
   "source": [
    "Algoritma KNN menggunakan metrik jarak (Euclidean), sehingga memiliki data yang terdistribusi merata khususnya pada distribusi normal akan meningkatkan performa model KNN ini. Maka dari itu diperlukan proses standarisasi data."
   ]
  },
  {
   "cell_type": "code",
   "execution_count": 48,
   "id": "aa086a80",
   "metadata": {},
   "outputs": [],
   "source": [
    "scaler = StandardScaler()\n",
    "scaler.fit(x_train)\n",
    "\n",
    "X_train = scaler.transform(x_train)\n",
    "X_test = scaler.transform(x_test)"
   ]
  },
  {
   "cell_type": "markdown",
   "id": "dc53f09a",
   "metadata": {},
   "source": [
    "**Menentukan Nilai Konstanta K**"
   ]
  },
  {
   "cell_type": "code",
   "execution_count": 49,
   "id": "f6585d2b",
   "metadata": {},
   "outputs": [],
   "source": [
    "error = []"
   ]
  },
  {
   "cell_type": "code",
   "execution_count": 50,
   "id": "3de766e5",
   "metadata": {},
   "outputs": [],
   "source": [
    "for i in range(1, 10):\n",
    "    knn = KNeighborsClassifier(n_neighbors=i)\n",
    "    knn.fit(X_train, y_train)\n",
    "    pred_i = knn.predict(X_test)\n",
    "    error.append(np.mean(pred_i != y_test))"
   ]
  },
  {
   "cell_type": "code",
   "execution_count": 51,
   "id": "a9c81d95",
   "metadata": {
    "scrolled": false
   },
   "outputs": [
    {
     "data": {
      "text/plain": [
       "Text(0, 0.5, 'Error mean')"
      ]
     },
     "execution_count": 51,
     "metadata": {},
     "output_type": "execute_result"
    },
    {
     "data": {
      "image/png": "[encoded data removed]",
      "text/plain": [
       "<Figure size 864x432 with 1 Axes>"
      ]
     },
     "metadata": {},
     "output_type": "display_data"
    }
   ],
   "source": [
    "plt.figure(figsize=(12, 6))\n",
    "plt.plot(range(1, 10), error, color='red', linestyle='dashed', marker='o', markerfacecolor='blue', markersize=10)\n",
    "plt.title('Error Rate \"K\"')\n",
    "plt.xlabel('K')\n",
    "plt.ylabel('Error mean')"
   ]
  },
  {
   "cell_type": "markdown",
   "id": "f6f15e39",
   "metadata": {},
   "source": [
    "**INTERPRETASI**"
   ]
  },
  {
   "cell_type": "markdown",
   "id": "4b8f4fd0",
   "metadata": {},
   "source": [
    "Berdasarkan plot error rate \"K\" diatas, nilai K yang dipilih yaitu K=8 dengan tingkat error sekitar  0.05"
   ]
  },
  {
   "cell_type": "markdown",
   "id": "92b3f763",
   "metadata": {},
   "source": [
    "**Generating Model**"
   ]
  },
  {
   "cell_type": "code",
   "execution_count": 52,
   "id": "c629de0a",
   "metadata": {},
   "outputs": [
    {
     "data": {
      "text/plain": [
       "KNeighborsClassifier(n_neighbors=8)"
      ]
     },
     "execution_count": 52,
     "metadata": {},
     "output_type": "execute_result"
    }
   ],
   "source": [
    "model_knn = KNeighborsClassifier(n_neighbors=8)\n",
    "model_knn.fit(X_train, y_train)"
   ]
  },
  {
   "cell_type": "markdown",
   "id": "caaed498",
   "metadata": {},
   "source": [
    "**Prediksi hasil testing dan menghitung akurasi**"
   ]
  },
  {
   "cell_type": "code",
   "execution_count": 53,
   "id": "fa0c92ba",
   "metadata": {
    "scrolled": true
   },
   "outputs": [
    {
     "name": "stdout",
     "output_type": "stream",
     "text": [
      "Accuracy of KNN classifier on test set: 0.89476\n"
     ]
    }
   ],
   "source": [
    "y_pred_knn = model_knn.predict(X_test)\n",
    "\n",
    "print('Accuracy of KNN classifier on test set: {:.5f}'.format(metrics.accuracy_score(y_test, y_pred_knn)))  "
   ]
  },
  {
   "cell_type": "markdown",
   "id": "96e18a89",
   "metadata": {},
   "source": [
    "**Confusion Matrix**"
   ]
  },
  {
   "cell_type": "code",
   "execution_count": 54,
   "id": "612d343c",
   "metadata": {
    "scrolled": true
   },
   "outputs": [
    {
     "name": "stderr",
     "output_type": "stream",
     "text": [
      "C:\\Users\\Rizqatasyaa\\anaconda3\\lib\\site-packages\\sklearn\\utils\\deprecation.py:87: FutureWarning: Function plot_confusion_matrix is deprecated; Function `plot_confusion_matrix` is deprecated in 1.0 and will be removed in 1.2. Use one of the class methods: ConfusionMatrixDisplay.from_predictions or ConfusionMatrixDisplay.from_estimator.\n",
      "  warnings.warn(msg, category=FutureWarning)\n",
      "C:\\Users\\Rizqatasyaa\\anaconda3\\lib\\site-packages\\sklearn\\base.py:443: UserWarning: X has feature names, but KNeighborsClassifier was fitted without feature names\n",
      "  warnings.warn(\n"
     ]
    },
    {
     "data": {
      "text/plain": [
       "<sklearn.metrics._plot.confusion_matrix.ConfusionMatrixDisplay at 0x21ab2351e80>"
      ]
     },
     "execution_count": 54,
     "metadata": {},
     "output_type": "execute_result"
    },
    {
     "data": {
      "image/png": "[encoded data removed]",
      "text/plain": [
       "<Figure size 432x288 with 2 Axes>"
      ]
     },
     "metadata": {},
     "output_type": "display_data"
    }
   ],
   "source": [
    "plot_confusion_matrix(model_knn, x_train, y_train)"
   ]
  },
  {
   "cell_type": "markdown",
   "id": "307c888e",
   "metadata": {},
   "source": [
    "**Ketepatan hasil prediksi**"
   ]
  },
  {
   "cell_type": "code",
   "execution_count": 55,
   "id": "0f5b61e6",
   "metadata": {
    "scrolled": true
   },
   "outputs": [
    {
     "name": "stdout",
     "output_type": "stream",
     "text": [
      "              precision    recall  f1-score   support\n",
      "\n",
      "           0       0.91      0.98      0.94     10919\n",
      "           1       0.64      0.22      0.32      1434\n",
      "\n",
      "    accuracy                           0.89     12353\n",
      "   macro avg       0.77      0.60      0.63     12353\n",
      "weighted avg       0.87      0.89      0.87     12353\n",
      "\n"
     ]
    }
   ],
   "source": [
    "print(classification_report(y_test, y_pred_knn))"
   ]
  },
  {
   "cell_type": "markdown",
   "id": "02dcc1f1",
   "metadata": {},
   "source": [
    "**INTERPRETASI**"
   ]
  },
  {
   "cell_type": "markdown",
   "id": "1da220ee",
   "metadata": {},
   "source": [
    "Dapat disimpulkan akurasi pengklasifikasi KNN pada data testing yaitu sebesar 0.89 atau 89%\n",
    "\n",
    "untuk confusion matrix menghasilkan 25.618 prediksi yang benar dan 3.205 prediksi yang salah. atau\n",
    "\n",
    "- 25.618 prediksi negatif yang benar = 25.618 pengamatan pertama adalah nol atau no yang diprediksi dengan benar\n",
    "- 3.205 prediksi negatif yang salah = 3.205 pengamatan yang salah sebagai nol atau no\n",
    "- tidak ada prediksi positif yang salah = pengamatan keempat adalah prediksi yang salah dinyatakan sebagai 1 atau yes\n",
    "- tidak ada prediksi positif yang benar = pengamatan terakhir adalah yang diprediksi dengan benar dinyatakan sebagai 1 atau yes"
   ]
  },
  {
   "cell_type": "markdown",
   "id": "84a5d608",
   "metadata": {},
   "source": [
    "## Support Vector Machine (SVM)"
   ]
  },
  {
   "cell_type": "markdown",
   "id": "085c6c95",
   "metadata": {},
   "source": [
    "**Generating Model**"
   ]
  },
  {
   "cell_type": "code",
   "execution_count": 56,
   "id": "336da0ad",
   "metadata": {},
   "outputs": [
    {
     "data": {
      "text/plain": [
       "SVC()"
      ]
     },
     "execution_count": 56,
     "metadata": {},
     "output_type": "execute_result"
    }
   ],
   "source": [
    "model_svm = svm.SVC()\n",
    "model_svm.fit(x_train, y_train)"
   ]
  },
  {
   "cell_type": "markdown",
   "id": "fe4a649a",
   "metadata": {},
   "source": [
    "**Prediksi hasil testing dan menghitung akurasi**"
   ]
  },
  {
   "cell_type": "code",
   "execution_count": 57,
   "id": "a3ad7cd3",
   "metadata": {},
   "outputs": [
    {
     "name": "stdout",
     "output_type": "stream",
     "text": [
      "Accuracy of SVM classifier on test set: 0.89549\n"
     ]
    }
   ],
   "source": [
    "y_pred_svm = model_svm.predict(x_test)\n",
    "\n",
    "print('Accuracy of SVM classifier on test set: {:.5f}'.format(metrics.accuracy_score(y_test, y_pred_svm)))  "
   ]
  },
  {
   "cell_type": "markdown",
   "id": "bd978279",
   "metadata": {},
   "source": [
    "**Confusion Matrix**"
   ]
  },
  {
   "cell_type": "code",
   "execution_count": 58,
   "id": "2b5333b2",
   "metadata": {},
   "outputs": [
    {
     "name": "stderr",
     "output_type": "stream",
     "text": [
      "C:\\Users\\Rizqatasyaa\\anaconda3\\lib\\site-packages\\sklearn\\utils\\deprecation.py:87: FutureWarning: Function plot_confusion_matrix is deprecated; Function `plot_confusion_matrix` is deprecated in 1.0 and will be removed in 1.2. Use one of the class methods: ConfusionMatrixDisplay.from_predictions or ConfusionMatrixDisplay.from_estimator.\n",
      "  warnings.warn(msg, category=FutureWarning)\n"
     ]
    },
    {
     "data": {
      "text/plain": [
       "<sklearn.metrics._plot.confusion_matrix.ConfusionMatrixDisplay at 0x21ab290ae20>"
      ]
     },
     "execution_count": 58,
     "metadata": {},
     "output_type": "execute_result"
    },
    {
     "data": {
      "image/png": "[encoded data removed]",
      "text/plain": [
       "<Figure size 432x288 with 2 Axes>"
      ]
     },
     "metadata": {},
     "output_type": "display_data"
    }
   ],
   "source": [
    "plot_confusion_matrix(model_svm, x_train, y_train)"
   ]
  },
  {
   "cell_type": "markdown",
   "id": "0b49af4e",
   "metadata": {},
   "source": [
    "**Ketepatan hasil prediksi**"
   ]
  },
  {
   "cell_type": "code",
   "execution_count": 59,
   "id": "53dda3cf",
   "metadata": {
    "scrolled": true
   },
   "outputs": [
    {
     "name": "stdout",
     "output_type": "stream",
     "text": [
      "              precision    recall  f1-score   support\n",
      "\n",
      "           0       0.90      0.99      0.94     10919\n",
      "           1       0.66      0.20      0.31      1434\n",
      "\n",
      "    accuracy                           0.90     12353\n",
      "   macro avg       0.78      0.59      0.63     12353\n",
      "weighted avg       0.88      0.90      0.87     12353\n",
      "\n"
     ]
    }
   ],
   "source": [
    "print(classification_report(y_test, y_pred_svm))"
   ]
  },
  {
   "cell_type": "markdown",
   "id": "c2b2e477",
   "metadata": {},
   "source": [
    "**INTERPRETASI**"
   ]
  },
  {
   "cell_type": "markdown",
   "id": "c88d40f1",
   "metadata": {},
   "source": [
    "Dapat disimpulkan akurasi pengklasifikasi SVM pada data testing yaitu sebesar 0.90 atau 90%\n",
    "\n",
    "untuk confusion matrix menghasilkan 25.216+678 prediksi yang benar dan 2.527+402 prediksi yang salah. atau\n",
    "\n",
    "- 25.216 prediksi negatif yang benar = 25.216 pengamatan pertama adalah nol atau no yang diprediksi dengan benar\n",
    "- 2.527 prediksi negatif yang salah = 2.527 pengamatan yang salah sebagai nol atau no\n",
    "- 402 prediksi positif yang salah = 402 pengamatan keempat adalah prediksi yang salah dinyatakan sebagai 1 atau yes\n",
    "- 678 prediksi positif yang benar = pengamatan terakhir adalah yang diprediksi dengan benar dinyatakan sebagai 1 atau yes"
   ]
  },
  {
   "cell_type": "markdown",
   "id": "32709123",
   "metadata": {},
   "source": [
    "## Decision Tree"
   ]
  },
  {
   "cell_type": "markdown",
   "id": "c0984687",
   "metadata": {},
   "source": [
    "**Generating Model**"
   ]
  },
  {
   "cell_type": "code",
   "execution_count": 60,
   "id": "d5789437",
   "metadata": {},
   "outputs": [
    {
     "data": {
      "text/plain": [
       "{'criterion': 'entropy', 'max_depth': 5}"
      ]
     },
     "execution_count": 60,
     "metadata": {},
     "output_type": "execute_result"
    }
   ],
   "source": [
    "max_depths = list(range(1,20))\n",
    "criterion = ['gini', 'entropy']\n",
    "\n",
    "param_grid = {'criterion': criterion,\n",
    "              'max_depth': max_depths}\n",
    "\n",
    "grid_search = GridSearchCV(DecisionTreeClassifier(),param_grid,scoring='accuracy')\n",
    "grid_search.fit(x_train, y_train)\n",
    "grid_search.best_params_"
   ]
  },
  {
   "cell_type": "code",
   "execution_count": 61,
   "id": "ad555f68",
   "metadata": {},
   "outputs": [
    {
     "data": {
      "text/plain": [
       "DecisionTreeClassifier(criterion='entropy')"
      ]
     },
     "execution_count": 61,
     "metadata": {},
     "output_type": "execute_result"
    }
   ],
   "source": [
    "model_dt = DecisionTreeClassifier(criterion='entropy')\n",
    "model_dt.fit(x_train, y_train)"
   ]
  },
  {
   "cell_type": "markdown",
   "id": "557c78e9",
   "metadata": {},
   "source": [
    "**Prediksi hasil testing dan menghitung akurasi**"
   ]
  },
  {
   "cell_type": "code",
   "execution_count": 62,
   "id": "0d605d3c",
   "metadata": {},
   "outputs": [
    {
     "name": "stdout",
     "output_type": "stream",
     "text": [
      "Accuracy of Decision Tree classifier on test set: 0.84125\n"
     ]
    }
   ],
   "source": [
    "y_pred_dt = model_dt.predict(x_test)\n",
    "\n",
    "print('Accuracy of Decision Tree classifier on test set: {:.5f}'.format(metrics.accuracy_score(y_test, y_pred_dt)))  "
   ]
  },
  {
   "cell_type": "markdown",
   "id": "7b465f3e",
   "metadata": {},
   "source": [
    "**Confusion Matrix**"
   ]
  },
  {
   "cell_type": "code",
   "execution_count": 63,
   "id": "a14e8c8d",
   "metadata": {},
   "outputs": [
    {
     "name": "stderr",
     "output_type": "stream",
     "text": [
      "C:\\Users\\Rizqatasyaa\\anaconda3\\lib\\site-packages\\sklearn\\utils\\deprecation.py:87: FutureWarning: Function plot_confusion_matrix is deprecated; Function `plot_confusion_matrix` is deprecated in 1.0 and will be removed in 1.2. Use one of the class methods: ConfusionMatrixDisplay.from_predictions or ConfusionMatrixDisplay.from_estimator.\n",
      "  warnings.warn(msg, category=FutureWarning)\n"
     ]
    },
    {
     "data": {
      "text/plain": [
       "<sklearn.metrics._plot.confusion_matrix.ConfusionMatrixDisplay at 0x21ab2984580>"
      ]
     },
     "execution_count": 63,
     "metadata": {},
     "output_type": "execute_result"
    },
    {
     "data": {
      "image/png": "[encoded data removed]",
      "text/plain": [
       "<Figure size 432x288 with 2 Axes>"
      ]
     },
     "metadata": {},
     "output_type": "display_data"
    }
   ],
   "source": [
    "plot_confusion_matrix(model_dt, x_train, y_train)"
   ]
  },
  {
   "cell_type": "markdown",
   "id": "fd54187f",
   "metadata": {},
   "source": [
    "**Ketepatan hasil prediksi**"
   ]
  },
  {
   "cell_type": "code",
   "execution_count": 64,
   "id": "c1410183",
   "metadata": {
    "scrolled": true
   },
   "outputs": [
    {
     "name": "stdout",
     "output_type": "stream",
     "text": [
      "              precision    recall  f1-score   support\n",
      "\n",
      "           0       0.91      0.91      0.91     10919\n",
      "           1       0.33      0.35      0.34      1434\n",
      "\n",
      "    accuracy                           0.84     12353\n",
      "   macro avg       0.62      0.63      0.62     12353\n",
      "weighted avg       0.85      0.84      0.84     12353\n",
      "\n"
     ]
    }
   ],
   "source": [
    "print(classification_report(y_test, y_pred_dt))"
   ]
  },
  {
   "cell_type": "markdown",
   "id": "bb36257e",
   "metadata": {},
   "source": [
    "**Hasil Prediksi**"
   ]
  },
  {
   "cell_type": "code",
   "execution_count": 65,
   "id": "d7638af0",
   "metadata": {
    "scrolled": true
   },
   "outputs": [
    {
     "data": {
      "text/html": [
       "<div>\n",
       "<style scoped>\n",
       "    .dataframe tbody tr th:only-of-type {\n",
       "        vertical-align: middle;\n",
       "    }\n",
       "\n",
       "    .dataframe tbody tr th {\n",
       "        vertical-align: top;\n",
       "    }\n",
       "\n",
       "    .dataframe thead th {\n",
       "        text-align: right;\n",
       "    }\n",
       "</style>\n",
       "<table border=\"1\" class=\"dataframe\">\n",
       "  <thead>\n",
       "    <tr style=\"text-align: right;\">\n",
       "      <th></th>\n",
       "      <th>Actual</th>\n",
       "      <th>Predicted</th>\n",
       "    </tr>\n",
       "  </thead>\n",
       "  <tbody>\n",
       "    <tr>\n",
       "      <th>7403</th>\n",
       "      <td>0</td>\n",
       "      <td>0</td>\n",
       "    </tr>\n",
       "    <tr>\n",
       "      <th>29282</th>\n",
       "      <td>0</td>\n",
       "      <td>0</td>\n",
       "    </tr>\n",
       "    <tr>\n",
       "      <th>11552</th>\n",
       "      <td>1</td>\n",
       "      <td>0</td>\n",
       "    </tr>\n",
       "    <tr>\n",
       "      <th>13634</th>\n",
       "      <td>0</td>\n",
       "      <td>0</td>\n",
       "    </tr>\n",
       "    <tr>\n",
       "      <th>7018</th>\n",
       "      <td>0</td>\n",
       "      <td>0</td>\n",
       "    </tr>\n",
       "  </tbody>\n",
       "</table>\n",
       "</div>"
      ],
      "text/plain": [
       "       Actual  Predicted\n",
       "7403        0          0\n",
       "29282       0          0\n",
       "11552       1          0\n",
       "13634       0          0\n",
       "7018        0          0"
      ]
     },
     "execution_count": 65,
     "metadata": {},
     "output_type": "execute_result"
    }
   ],
   "source": [
    "df_dt = pd.DataFrame({'Actual':y_test, 'Predicted':y_pred_dt})\n",
    "df_dt.head()"
   ]
  },
  {
   "cell_type": "markdown",
   "id": "716efce8",
   "metadata": {},
   "source": [
    "**VISUALISASI DECISION TREE**"
   ]
  },
  {
   "cell_type": "code",
   "execution_count": 66,
   "id": "508ffe51",
   "metadata": {},
   "outputs": [
    {
     "data": {
      "image/png": "[encoded data removed]",
      "text/plain": [
       "<Figure size 648x720 with 1 Axes>"
      ]
     },
     "metadata": {},
     "output_type": "display_data"
    }
   ],
   "source": [
    "plt.figure(figsize=(9,10))\n",
    "plot_tree(model_dt,\n",
    "          class_names=['0', '1'],\n",
    "          feature_names=columns_features,\n",
    "          filled = True,max_depth=5,\n",
    "          rounded=True,\n",
    "        );"
   ]
  },
  {
   "cell_type": "markdown",
   "id": "961118ba",
   "metadata": {},
   "source": [
    "**INTERPRETASI**"
   ]
  },
  {
   "cell_type": "markdown",
   "id": "1c0b1fbe",
   "metadata": {},
   "source": [
    "Dapat disimpulkan akurasi pengklasifikasi Decision Tree pada data testing yaitu sebesar 0.84 atau 84%\n",
    "\n",
    "untuk confusion matrix menghasilkan 25.614 + 3.024 prediksi yang benar dan 181 + 4 prediksi yang salah. atau\n",
    "\n",
    "- 25.614 prediksi negatif yang benar = 25.614 pengamatan pertama adalah nol atau no yang diprediksi dengan benar\n",
    "- 181 prediksi negatif yang salah = 181 pengamatan yang salah sebagai nol atau no\n",
    "- 4 prediksi positif yang salah = 4 pengamatan keempat adalah prediksi yang salah dinyatakan sebagai 1 atau yes\n",
    "- 3.024 prediksi positif yang benar = pengamatan terakhir adalah yang diprediksi dengan benar dinyatakan sebagai 1 atau yes"
   ]
  },
  {
   "cell_type": "markdown",
   "id": "37d6a6b4",
   "metadata": {},
   "source": [
    "## Random Forest"
   ]
  },
  {
   "cell_type": "markdown",
   "id": "c5d7b6bd",
   "metadata": {},
   "source": [
    "**Generating Model**"
   ]
  },
  {
   "cell_type": "code",
   "execution_count": 67,
   "id": "caed41fe",
   "metadata": {},
   "outputs": [
    {
     "data": {
      "text/plain": [
       "RandomForestClassifier()"
      ]
     },
     "execution_count": 67,
     "metadata": {},
     "output_type": "execute_result"
    }
   ],
   "source": [
    "model_rf = RandomForestClassifier(n_estimators=100)\n",
    "model_rf.fit(x_train, y_train)"
   ]
  },
  {
   "cell_type": "markdown",
   "id": "96dbe1ec",
   "metadata": {},
   "source": [
    "**Prediksi hasil testing dan menghitung akurasi**"
   ]
  },
  {
   "cell_type": "code",
   "execution_count": 68,
   "id": "525a09cd",
   "metadata": {},
   "outputs": [
    {
     "name": "stdout",
     "output_type": "stream",
     "text": [
      "Accuracy of Random Forest classifier on test set: 0.88918\n"
     ]
    }
   ],
   "source": [
    "y_pred_rf = model_rf.predict(x_test)\n",
    "\n",
    "print('Accuracy of Random Forest classifier on test set: {:.5f}'.format(metrics.accuracy_score(y_test, y_pred_rf)))  "
   ]
  },
  {
   "cell_type": "markdown",
   "id": "78fc72d7",
   "metadata": {},
   "source": [
    "**Confusion Matrix**"
   ]
  },
  {
   "cell_type": "code",
   "execution_count": 69,
   "id": "97d66765",
   "metadata": {},
   "outputs": [
    {
     "name": "stderr",
     "output_type": "stream",
     "text": [
      "C:\\Users\\Rizqatasyaa\\anaconda3\\lib\\site-packages\\sklearn\\utils\\deprecation.py:87: FutureWarning: Function plot_confusion_matrix is deprecated; Function `plot_confusion_matrix` is deprecated in 1.0 and will be removed in 1.2. Use one of the class methods: ConfusionMatrixDisplay.from_predictions or ConfusionMatrixDisplay.from_estimator.\n",
      "  warnings.warn(msg, category=FutureWarning)\n"
     ]
    },
    {
     "data": {
      "text/plain": [
       "<sklearn.metrics._plot.confusion_matrix.ConfusionMatrixDisplay at 0x21ab20bcc10>"
      ]
     },
     "execution_count": 69,
     "metadata": {},
     "output_type": "execute_result"
    },
    {
     "data": {
      "image/png": "[encoded data removed]",
      "text/plain": [
       "<Figure size 432x288 with 2 Axes>"
      ]
     },
     "metadata": {},
     "output_type": "display_data"
    }
   ],
   "source": [
    "plot_confusion_matrix(model_rf, x_train, y_train)"
   ]
  },
  {
   "cell_type": "markdown",
   "id": "6b25e9a0",
   "metadata": {},
   "source": [
    "**Ketepatan hasil prediksi**"
   ]
  },
  {
   "cell_type": "code",
   "execution_count": 70,
   "id": "582a4afc",
   "metadata": {
    "scrolled": true
   },
   "outputs": [
    {
     "name": "stdout",
     "output_type": "stream",
     "text": [
      "              precision    recall  f1-score   support\n",
      "\n",
      "           0       0.91      0.97      0.94     10919\n",
      "           1       0.54      0.28      0.37      1434\n",
      "\n",
      "    accuracy                           0.89     12353\n",
      "   macro avg       0.73      0.63      0.66     12353\n",
      "weighted avg       0.87      0.89      0.87     12353\n",
      "\n"
     ]
    }
   ],
   "source": [
    "print(classification_report(y_test, y_pred_rf))"
   ]
  },
  {
   "cell_type": "code",
   "execution_count": 71,
   "id": "0c62b4f7",
   "metadata": {},
   "outputs": [],
   "source": [
    "feature_imp = pd.Series(model_rf.feature_importances_, index=columns_features).sort_values(ascending=False)"
   ]
  },
  {
   "cell_type": "code",
   "execution_count": 72,
   "id": "72fd0aad",
   "metadata": {},
   "outputs": [
    {
     "data": {
      "image/png": "[encoded data removed]",
      "text/plain": [
       "<Figure size 432x288 with 1 Axes>"
      ]
     },
     "metadata": {},
     "output_type": "display_data"
    }
   ],
   "source": [
    "sns.barplot(x=feature_imp, y=feature_imp.index)\n",
    "\n",
    "plt.xlabel('Features Importance Score')\n",
    "plt.ylabel('Features')\n",
    "plt.title('Visualizing Important Features')\n",
    "\n",
    "plt.show()"
   ]
  },
  {
   "cell_type": "markdown",
   "id": "ecd1072f",
   "metadata": {},
   "source": [
    "**INTERPRETASI**"
   ]
  },
  {
   "cell_type": "markdown",
   "id": "d6a75ee5",
   "metadata": {},
   "source": [
    "Dapat disimpulkan akurasi pengklasifikasi Decision Tree pada data testing yaitu sebesar 0.89 atau 89%\n",
    "\n",
    "untuk confusion matrix menghasilkan 25.588 + 3.049 prediksi yang benar dan 156 + 30 prediksi yang salah. atau\n",
    "\n",
    "- 25.588 prediksi negatif yang benar = 25.588 pengamatan pertama adalah nol atau no yang diprediksi dengan benar\n",
    "- 156 prediksi negatif yang salah = 156 pengamatan yang salah sebagai nol atau no\n",
    "- 30 prediksi positif yang salah = 30 pengamatan keempat adalah prediksi yang salah dinyatakan sebagai 1 atau yes\n",
    "- 3.049 prediksi positif yang benar = pengamatan terakhir adalah yang diprediksi dengan benar dinyatakan sebagai 1 atau yes"
   ]
  },
  {
   "cell_type": "markdown",
   "id": "97b1a4f2",
   "metadata": {},
   "source": [
    "## Naive Bayes"
   ]
  },
  {
   "cell_type": "markdown",
   "id": "a0512c89",
   "metadata": {},
   "source": [
    "**Generating Model**"
   ]
  },
  {
   "cell_type": "code",
   "execution_count": 73,
   "id": "9dbc6d0a",
   "metadata": {},
   "outputs": [
    {
     "data": {
      "text/plain": [
       "GaussianNB()"
      ]
     },
     "execution_count": 73,
     "metadata": {},
     "output_type": "execute_result"
    }
   ],
   "source": [
    "model_gnb = GaussianNB()\n",
    "model_gnb.fit(x_train, y_train)"
   ]
  },
  {
   "cell_type": "markdown",
   "id": "46cc7cda",
   "metadata": {},
   "source": [
    "**Prediksi hasil testing dan menghitung akurasi**"
   ]
  },
  {
   "cell_type": "code",
   "execution_count": 74,
   "id": "e47febce",
   "metadata": {},
   "outputs": [
    {
     "name": "stdout",
     "output_type": "stream",
     "text": [
      "Accuracy of Naive Bayes classifier on test set: 0.83688\n"
     ]
    }
   ],
   "source": [
    "y_pred_gnb = model_gnb.predict(x_test)\n",
    "\n",
    "print('Accuracy of Naive Bayes classifier on test set: {:.5f}'.format(metrics.accuracy_score(y_test, y_pred_gnb)))"
   ]
  },
  {
   "cell_type": "markdown",
   "id": "1f5f6ecd",
   "metadata": {},
   "source": [
    "**Confusion Matrix**"
   ]
  },
  {
   "cell_type": "code",
   "execution_count": 75,
   "id": "6be25838",
   "metadata": {},
   "outputs": [
    {
     "name": "stderr",
     "output_type": "stream",
     "text": [
      "C:\\Users\\Rizqatasyaa\\anaconda3\\lib\\site-packages\\sklearn\\utils\\deprecation.py:87: FutureWarning: Function plot_confusion_matrix is deprecated; Function `plot_confusion_matrix` is deprecated in 1.0 and will be removed in 1.2. Use one of the class methods: ConfusionMatrixDisplay.from_predictions or ConfusionMatrixDisplay.from_estimator.\n",
      "  warnings.warn(msg, category=FutureWarning)\n"
     ]
    },
    {
     "data": {
      "text/plain": [
       "<sklearn.metrics._plot.confusion_matrix.ConfusionMatrixDisplay at 0x21ab205b160>"
      ]
     },
     "execution_count": 75,
     "metadata": {},
     "output_type": "execute_result"
    },
    {
     "data": {
      "image/png": "[encoded data removed]",
      "text/plain": [
       "<Figure size 432x288 with 2 Axes>"
      ]
     },
     "metadata": {},
     "output_type": "display_data"
    }
   ],
   "source": [
    "plot_confusion_matrix(model_gnb, x_train, y_train)"
   ]
  },
  {
   "cell_type": "markdown",
   "id": "3b02ae7c",
   "metadata": {},
   "source": [
    "**Ketepatan hasil prediksi**"
   ]
  },
  {
   "cell_type": "code",
   "execution_count": 76,
   "id": "62f03331",
   "metadata": {},
   "outputs": [
    {
     "name": "stdout",
     "output_type": "stream",
     "text": [
      "              precision    recall  f1-score   support\n",
      "\n",
      "           0       0.93      0.88      0.90     10919\n",
      "           1       0.36      0.52      0.43      1434\n",
      "\n",
      "    accuracy                           0.84     12353\n",
      "   macro avg       0.65      0.70      0.67     12353\n",
      "weighted avg       0.87      0.84      0.85     12353\n",
      "\n"
     ]
    }
   ],
   "source": [
    "print(classification_report(y_test, y_pred_gnb))"
   ]
  },
  {
   "cell_type": "markdown",
   "id": "d3ddbf73",
   "metadata": {},
   "source": [
    "**INTERPRETASI**"
   ]
  },
  {
   "cell_type": "markdown",
   "id": "0e330003",
   "metadata": {},
   "source": [
    "Dapat disimpulkan akurasi pengklasifikasi Decision Tree pada data testing yaitu sebesar 0.84 atau 84%\n",
    "\n",
    "untuk confusion matrix menghasilkan 22.437 + 1.623 prediksi yang benar dan 1.582 + 3.181 prediksi yang salah. atau\n",
    "\n",
    "- 22.437 prediksi negatif yang benar = 22.437 pengamatan pertama adalah nol atau no yang diprediksi dengan benar\n",
    "- 1.582 prediksi negatif yang salah = 1.582 pengamatan yang salah sebagai nol atau no\n",
    "- 3.181 prediksi positif yang salah = 3.181 pengamatan keempat adalah prediksi yang salah dinyatakan sebagai 1 atau yes\n",
    "- 1.623 prediksi positif yang benar = pengamatan terakhir adalah yang diprediksi dengan benar dinyatakan sebagai 1 atau yes"
   ]
  },
  {
   "cell_type": "markdown",
   "id": "5af963a7",
   "metadata": {},
   "source": [
    "## Perbandingan 6 Algoritma"
   ]
  },
  {
   "cell_type": "code",
   "execution_count": 77,
   "id": "84ce8185",
   "metadata": {
    "scrolled": true
   },
   "outputs": [
    {
     "name": "stdout",
     "output_type": "stream",
     "text": [
      "Accuracy of Logistic Regression classifier on test set: 0.89703\n",
      "Accuracy of KNN classifier on test set: 0.89476\n",
      "Accuracy of SVM classifier on test set: 0.89549\n",
      "Accuracy of Decision Tree classifier on test set: 0.84125\n",
      "Accuracy of Random Forest classifier on test set: 0.88918\n",
      "Accuracy of Naive Bayes classifier on test set: 0.83688\n"
     ]
    }
   ],
   "source": [
    "print('Accuracy of Logistic Regression classifier on test set: {:.5f}'.format(metrics.accuracy_score(y_test, y_pred_lr)))\n",
    "print('Accuracy of KNN classifier on test set: {:.5f}'.format(metrics.accuracy_score(y_test, y_pred_knn)))\n",
    "print('Accuracy of SVM classifier on test set: {:.5f}'.format(metrics.accuracy_score(y_test, y_pred_svm)))\n",
    "print('Accuracy of Decision Tree classifier on test set: {:.5f}'.format(metrics.accuracy_score(y_test, y_pred_dt)))\n",
    "print('Accuracy of Random Forest classifier on test set: {:.5f}'.format(metrics.accuracy_score(y_test, y_pred_rf)))\n",
    "print('Accuracy of Naive Bayes classifier on test set: {:.5f}'.format(metrics.accuracy_score(y_test, y_pred_gnb)))"
   ]
  },
  {
   "cell_type": "markdown",
   "id": "051803ec",
   "metadata": {},
   "source": [
    "# Kesimpulan"
   ]
  },
  {
   "cell_type": "markdown",
   "id": "71838534",
   "metadata": {},
   "source": [
    "Berdasarkan hasil analisis diatas menggunakan 6 algoritma dapat disimpulkan bahwa algoritma yang baik untuk melakukan prediksi apakah klien akan berlangganan (ya/tidak) deposito berjangka (variabel y). dilihat dari akurasi masing-masing model, model yang memiliki akurasi paling tinggi adalah **Logistic Regression** sebesar **0.89703** dengan menggunakan data training 70% dan data testing 30% yaitu training sebesar 28.823 data dengan 17 kolom, sedangkan testing sebesar 12.353 data dari total keseluruhan data sebanyak 41.176 data (data setelah preprocessing dan cleaning) , dapat diartinya model **Logistic Regression** ini dapat memprediksi dengan akurat."
   ]
  }
 ],
 "metadata": {
  "kernelspec": {
   "display_name": "Python 3 (ipykernel)",
   "language": "python",
   "name": "python3"
  },
  "language_info": {
   "codemirror_mode": {
    "name": "ipython",
    "version": 3
   },
   "file_extension": ".py",
   "mimetype": "text/x-python",
   "name": "python",
   "nbconvert_exporter": "python",
   "pygments_lexer": "ipython3",
   "version": "3.9.12"
  },
  "toc": {
   "base_numbering": 1,
   "nav_menu": {},
   "number_sections": true,
   "sideBar": true,
   "skip_h1_title": false,
   "title_cell": "Table of Contents",
   "title_sidebar": "Contents",
   "toc_cell": false,
   "toc_position": {},
   "toc_section_display": true,
   "toc_window_display": false
  }
 },
 "nbformat": 4,
 "nbformat_minor": 5
}
