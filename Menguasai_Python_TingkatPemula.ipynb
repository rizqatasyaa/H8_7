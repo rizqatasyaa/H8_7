{
 "cells": [
  {
   "cell_type": "markdown",
   "id": "8dcd9904",
   "metadata": {},
   "source": [
    "## List"
   ]
  },
  {
   "cell_type": "code",
   "execution_count": 1,
   "id": "e835d9f4",
   "metadata": {},
   "outputs": [
    {
     "name": "stdout",
     "output_type": "stream",
     "text": [
      "[1, 2, 3]\n"
     ]
    }
   ],
   "source": [
    "my_list = [1,2,3]\n",
    "print(my_list)"
   ]
  },
  {
   "cell_type": "code",
   "execution_count": 2,
   "id": "7c43a9fc",
   "metadata": {},
   "outputs": [
    {
     "data": {
      "text/plain": [
       "[1, 2, 3, 4, 5]"
      ]
     },
     "execution_count": 2,
     "metadata": {},
     "output_type": "execute_result"
    }
   ],
   "source": [
    "my_list + [4,5]"
   ]
  },
  {
   "cell_type": "code",
   "execution_count": 3,
   "id": "9421259b",
   "metadata": {},
   "outputs": [
    {
     "name": "stdout",
     "output_type": "stream",
     "text": [
      "[1, 2, 3, 1, 2, 3]\n"
     ]
    }
   ],
   "source": [
    "print(my_list * 2)"
   ]
  },
  {
   "cell_type": "code",
   "execution_count": 4,
   "id": "f7e4042b",
   "metadata": {},
   "outputs": [],
   "source": [
    "my_list.append(4)"
   ]
  },
  {
   "cell_type": "code",
   "execution_count": 5,
   "id": "923499fd",
   "metadata": {},
   "outputs": [
    {
     "name": "stdout",
     "output_type": "stream",
     "text": [
      "[1, 2, 3, 4]\n"
     ]
    }
   ],
   "source": [
    "print(my_list)"
   ]
  },
  {
   "cell_type": "code",
   "execution_count": 6,
   "id": "49ee3ce4",
   "metadata": {},
   "outputs": [],
   "source": [
    "my_list.append([4,5])"
   ]
  },
  {
   "cell_type": "code",
   "execution_count": 7,
   "id": "624346e5",
   "metadata": {},
   "outputs": [
    {
     "name": "stdout",
     "output_type": "stream",
     "text": [
      "[1, 2, 3, 4, [4, 5]]\n"
     ]
    }
   ],
   "source": [
    "print(my_list)"
   ]
  },
  {
   "cell_type": "code",
   "execution_count": 8,
   "id": "d9f0d975",
   "metadata": {},
   "outputs": [],
   "source": [
    "mylist = [1,2,3]"
   ]
  },
  {
   "cell_type": "code",
   "execution_count": 9,
   "id": "3562674d",
   "metadata": {},
   "outputs": [
    {
     "name": "stdout",
     "output_type": "stream",
     "text": [
      "[1, 2, 3, 4, 5, 6]\n"
     ]
    }
   ],
   "source": [
    "mylist.extend([4,5,6])\n",
    "print(mylist)"
   ]
  },
  {
   "cell_type": "code",
   "execution_count": 10,
   "id": "87b2490f",
   "metadata": {},
   "outputs": [
    {
     "name": "stdout",
     "output_type": "stream",
     "text": [
      "[1, 2, 3, 5, 6]\n"
     ]
    }
   ],
   "source": [
    "mylist.remove(4)\n",
    "print(mylist)"
   ]
  },
  {
   "cell_type": "code",
   "execution_count": 11,
   "id": "665eeea9",
   "metadata": {},
   "outputs": [
    {
     "name": "stdout",
     "output_type": "stream",
     "text": [
      "[1, 2, 3, 4]\n"
     ]
    }
   ],
   "source": [
    "my_list.remove([4,5])\n",
    "print(my_list)"
   ]
  },
  {
   "cell_type": "markdown",
   "id": "6b1500cf",
   "metadata": {},
   "source": [
    "## Dictionaries"
   ]
  },
  {
   "cell_type": "code",
   "execution_count": 14,
   "id": "c0131321",
   "metadata": {},
   "outputs": [
    {
     "name": "stdout",
     "output_type": "stream",
     "text": [
      "Rizqatsy\n",
      "21\n"
     ]
    }
   ],
   "source": [
    "student = {}\n",
    "student = {'name': 'Rizqa', 'age': 20}\n",
    "employee = {'cto': {'name': 'Rizqa', 'age': 20}}\n",
    "student = dict(name='Rizqatsy', age=21)\n",
    "\n",
    "print(student['name'])\n",
    "print(student['age'])"
   ]
  },
  {
   "cell_type": "code",
   "execution_count": 15,
   "id": "35069443",
   "metadata": {},
   "outputs": [
    {
     "name": "stdout",
     "output_type": "stream",
     "text": [
      "{'name': 'Rizqatsy', 'age': 21}\n"
     ]
    }
   ],
   "source": [
    "print(student)"
   ]
  },
  {
   "cell_type": "code",
   "execution_count": 16,
   "id": "0491c304",
   "metadata": {},
   "outputs": [
    {
     "name": "stdout",
     "output_type": "stream",
     "text": [
      "{'name': 'Rizqatsy'}\n"
     ]
    }
   ],
   "source": [
    "del student['age']\n",
    "print(student)"
   ]
  },
  {
   "cell_type": "code",
   "execution_count": 17,
   "id": "94cc36ea",
   "metadata": {},
   "outputs": [
    {
     "name": "stdout",
     "output_type": "stream",
     "text": [
      "dict_keys(['name', 'age'])\n"
     ]
    }
   ],
   "source": [
    "student = {'name': 'Rizqa', 'age': 20}\n",
    "print(student.keys())"
   ]
  },
  {
   "cell_type": "code",
   "execution_count": 18,
   "id": "00257489",
   "metadata": {},
   "outputs": [
    {
     "name": "stdout",
     "output_type": "stream",
     "text": [
      "dict_values(['Rizqa', 20])\n"
     ]
    }
   ],
   "source": [
    "print(student.values())"
   ]
  },
  {
   "cell_type": "markdown",
   "id": "3d4df65e",
   "metadata": {},
   "source": [
    "## Tuples"
   ]
  },
  {
   "cell_type": "code",
   "execution_count": 19,
   "id": "03cf5d06",
   "metadata": {},
   "outputs": [
    {
     "name": "stdout",
     "output_type": "stream",
     "text": [
      "('Rizqa', ('kode', 'random'))\n"
     ]
    }
   ],
   "source": [
    "people = ('Rizqa', ('kode', 'random'))\n",
    "print(people)"
   ]
  },
  {
   "cell_type": "code",
   "execution_count": 20,
   "id": "7594bf7f",
   "metadata": {},
   "outputs": [
    {
     "name": "stdout",
     "output_type": "stream",
     "text": [
      "Rizqa\n"
     ]
    }
   ],
   "source": [
    "print(people[0])"
   ]
  },
  {
   "cell_type": "code",
   "execution_count": 21,
   "id": "cd77c538",
   "metadata": {},
   "outputs": [
    {
     "name": "stdout",
     "output_type": "stream",
     "text": [
      "('kode', 'random')\n"
     ]
    }
   ],
   "source": [
    "print(people[1])"
   ]
  },
  {
   "cell_type": "code",
   "execution_count": 22,
   "id": "70888b1c",
   "metadata": {},
   "outputs": [
    {
     "name": "stdout",
     "output_type": "stream",
     "text": [
      "kode\n"
     ]
    }
   ],
   "source": [
    "print(people[1][0])"
   ]
  },
  {
   "cell_type": "code",
   "execution_count": 23,
   "id": "24ed034e",
   "metadata": {},
   "outputs": [
    {
     "name": "stdout",
     "output_type": "stream",
     "text": [
      "(1, (2, 3))\n"
     ]
    }
   ],
   "source": [
    "numbers = (1,2,3,4)\n",
    "new_numbers = numbers[0], numbers[1:3]\n",
    "print(new_numbers)"
   ]
  },
  {
   "cell_type": "code",
   "execution_count": 24,
   "id": "a893376c",
   "metadata": {},
   "outputs": [
    {
     "name": "stdout",
     "output_type": "stream",
     "text": [
      "(1, 2, 3, 4)\n"
     ]
    }
   ],
   "source": [
    "print(numbers)"
   ]
  },
  {
   "cell_type": "code",
   "execution_count": 25,
   "id": "7b66bb4f",
   "metadata": {},
   "outputs": [
    {
     "name": "stdout",
     "output_type": "stream",
     "text": [
      "['bcc', 'body', 'cc', 'from', 'subject', 'to']\n"
     ]
    }
   ],
   "source": [
    "email_attr = ('to', 'from', 'cc', 'bcc', 'subject', 'body')\n",
    "email_attr_list = list(email_attr)\n",
    "email_attr_list.sort()\n",
    "print(email_attr_list)"
   ]
  },
  {
   "cell_type": "markdown",
   "id": "210072ae",
   "metadata": {},
   "source": [
    "## Files"
   ]
  },
  {
   "cell_type": "code",
   "execution_count": 28,
   "id": "56a953b9",
   "metadata": {},
   "outputs": [
    {
     "data": {
      "text/plain": [
       "5"
      ]
     },
     "execution_count": 28,
     "metadata": {},
     "output_type": "execute_result"
    }
   ],
   "source": [
    "x, y, z = 43,44,45\n",
    "message = 'Spam'\n",
    "data = {'a':1, 'b': 2}\n",
    "list = [1,2,3]\n",
    "file = open('text.txt', 'w')\n",
    "file.write(message + '\\n')"
   ]
  },
  {
   "cell_type": "code",
   "execution_count": 29,
   "id": "d1358d98",
   "metadata": {},
   "outputs": [
    {
     "data": {
      "text/plain": [
       "9"
      ]
     },
     "execution_count": 29,
     "metadata": {},
     "output_type": "execute_result"
    }
   ],
   "source": [
    "file.write('%s,%s,%s\\n' % (x, y, z))"
   ]
  },
  {
   "cell_type": "code",
   "execution_count": 30,
   "id": "67c76822",
   "metadata": {},
   "outputs": [
    {
     "data": {
      "text/plain": [
       "27"
      ]
     },
     "execution_count": 30,
     "metadata": {},
     "output_type": "execute_result"
    }
   ],
   "source": [
    "file.write(str(list)+ '$' + str(data) + '\\n')"
   ]
  },
  {
   "cell_type": "code",
   "execution_count": 31,
   "id": "6d69da7f",
   "metadata": {},
   "outputs": [],
   "source": [
    "file.close()"
   ]
  },
  {
   "cell_type": "code",
   "execution_count": 32,
   "id": "d52c24a1",
   "metadata": {},
   "outputs": [
    {
     "ename": "TypeError",
     "evalue": "'tuple' object does not support item assignment",
     "output_type": "error",
     "traceback": [
      "\u001b[1;31m---------------------------------------------------------------------------\u001b[0m",
      "\u001b[1;31mTypeError\u001b[0m                                 Traceback (most recent call last)",
      "Input \u001b[1;32mIn [32]\u001b[0m, in \u001b[0;36m<cell line: 2>\u001b[1;34m()\u001b[0m\n\u001b[0;32m      1\u001b[0m aTuple \u001b[38;5;241m=\u001b[39m (\u001b[38;5;241m100\u001b[39m, \u001b[38;5;241m200\u001b[39m, \u001b[38;5;241m300\u001b[39m, \u001b[38;5;241m400\u001b[39m, \u001b[38;5;241m500\u001b[39m)\n\u001b[1;32m----> 2\u001b[0m aTuple[\u001b[38;5;241m1\u001b[39m] \u001b[38;5;241m=\u001b[39m \u001b[38;5;241m800\u001b[39m\n\u001b[0;32m      3\u001b[0m \u001b[38;5;28mprint\u001b[39m(aTuple)\n",
      "\u001b[1;31mTypeError\u001b[0m: 'tuple' object does not support item assignment"
     ]
    }
   ],
   "source": [
    "aTuple = (100, 200, 300, 400, 500)\n",
    "aTuple[1] = 800\n",
    "print(aTuple)"
   ]
  },
  {
   "cell_type": "markdown",
   "id": "7a71f7af",
   "metadata": {},
   "source": [
    "## While"
   ]
  },
  {
   "cell_type": "code",
   "execution_count": 3,
   "id": "0301076b",
   "metadata": {},
   "outputs": [
    {
     "ename": "NameError",
     "evalue": "name 'test' is not defined",
     "output_type": "error",
     "traceback": [
      "\u001b[1;31m---------------------------------------------------------------------------\u001b[0m",
      "\u001b[1;31mNameError\u001b[0m                                 Traceback (most recent call last)",
      "Input \u001b[1;32mIn [3]\u001b[0m, in \u001b[0;36m<cell line: 1>\u001b[1;34m()\u001b[0m\n\u001b[1;32m----> 1\u001b[0m \u001b[38;5;28;01mwhile\u001b[39;00m \u001b[43mtest\u001b[49m:\n\u001b[0;32m      2\u001b[0m     \u001b[38;5;28mprint\u001b[39m(\u001b[38;5;124m'\u001b[39m\u001b[38;5;124mPrint Ctrl-C to stop me!\u001b[39m\u001b[38;5;124m'\u001b[39m)\n",
      "\u001b[1;31mNameError\u001b[0m: name 'test' is not defined"
     ]
    }
   ],
   "source": [
    "while test:\n",
    "    print('Print Ctrl-C to stop me!')"
   ]
  },
  {
   "cell_type": "code",
   "execution_count": 7,
   "id": "c3bafd32",
   "metadata": {},
   "outputs": [
    {
     "name": "stdout",
     "output_type": "stream",
     "text": [
      "spampamamm"
     ]
    }
   ],
   "source": [
    "message = \"spam\"\n",
    "while message != '':\n",
    "    print(message, end='')\n",
    "    message = message[1:]"
   ]
  },
  {
   "cell_type": "code",
   "execution_count": 9,
   "id": "5fbf6d38",
   "metadata": {},
   "outputs": [
    {
     "name": "stdout",
     "output_type": "stream",
     "text": [
      "0123456789101112"
     ]
    }
   ],
   "source": [
    "a = 0\n",
    "b = 13\n",
    "while a < b:\n",
    "    print(a, end='')\n",
    "    a = a + 1"
   ]
  },
  {
   "cell_type": "code",
   "execution_count": 10,
   "id": "6cec6825",
   "metadata": {},
   "outputs": [
    {
     "ename": "NameError",
     "evalue": "name 'test' is not defined",
     "output_type": "error",
     "traceback": [
      "\u001b[1;31m---------------------------------------------------------------------------\u001b[0m",
      "\u001b[1;31mNameError\u001b[0m                                 Traceback (most recent call last)",
      "Input \u001b[1;32mIn [10]\u001b[0m, in \u001b[0;36m<cell line: 1>\u001b[1;34m()\u001b[0m\n\u001b[1;32m----> 1\u001b[0m \u001b[38;5;28;01mwhile\u001b[39;00m \u001b[43mtest\u001b[49m:\n\u001b[0;32m      2\u001b[0m     statements\n\u001b[0;32m      3\u001b[0m     \u001b[38;5;28;01mif\u001b[39;00m test: \u001b[38;5;28;01mbreak\u001b[39;00m\n",
      "\u001b[1;31mNameError\u001b[0m: name 'test' is not defined"
     ]
    }
   ],
   "source": [
    "while test:\n",
    "    statements\n",
    "    if test: break\n",
    "    if test: continue\n",
    "else:\n",
    "    statements"
   ]
  },
  {
   "cell_type": "code",
   "execution_count": 11,
   "id": "6cc9e153",
   "metadata": {},
   "outputs": [
    {
     "name": "stdout",
     "output_type": "stream",
     "text": [
      "Enter name: Rizqa\n",
      "Enter age: 20\n",
      "Hello Rizqa => 400\n",
      "Enter name: stop\n"
     ]
    }
   ],
   "source": [
    "while True:\n",
    "    name = input('Enter name: ')\n",
    "    if name == 'stop': break\n",
    "    age = input('Enter age: ')\n",
    "    print('Hello', name, '=>', int(age) ** 2)"
   ]
  },
  {
   "cell_type": "markdown",
   "id": "a596a3d4",
   "metadata": {},
   "source": [
    "## For"
   ]
  },
  {
   "cell_type": "code",
   "execution_count": 12,
   "id": "3115fadc",
   "metadata": {},
   "outputs": [
    {
     "name": "stdout",
     "output_type": "stream",
     "text": [
      "rizqa\n",
      "billy\n",
      "kode\n"
     ]
    }
   ],
   "source": [
    "for word in ['rizqa', 'billy', 'kode']:\n",
    "    print(word, end='\\n')"
   ]
  },
  {
   "cell_type": "code",
   "execution_count": 13,
   "id": "64ce527f",
   "metadata": {},
   "outputs": [
    {
     "data": {
      "text/plain": [
       "10"
      ]
     },
     "execution_count": 13,
     "metadata": {},
     "output_type": "execute_result"
    }
   ],
   "source": [
    "sum = 0\n",
    "for i in [1,2,3,4]:\n",
    "    sum = sum + i\n",
    "\n",
    "sum"
   ]
  },
  {
   "cell_type": "code",
   "execution_count": 14,
   "id": "243beff0",
   "metadata": {},
   "outputs": [
    {
     "data": {
      "text/plain": [
       "24"
      ]
     },
     "execution_count": 14,
     "metadata": {},
     "output_type": "execute_result"
    }
   ],
   "source": [
    "prod = 1\n",
    "for item in [1,2,3,4]: prod *= item\n",
    "    \n",
    "prod\n",
    "    "
   ]
  },
  {
   "cell_type": "code",
   "execution_count": 15,
   "id": "42d9e02b",
   "metadata": {},
   "outputs": [
    {
     "name": "stdout",
     "output_type": "stream",
     "text": [
      "f o x y   f o x "
     ]
    }
   ],
   "source": [
    "text = 'foxy fox'\n",
    "words = ('is', 'great', 'animal')\n",
    "for chara in text: print(chara, end=' ')"
   ]
  },
  {
   "cell_type": "code",
   "execution_count": 16,
   "id": "4b5d74d2",
   "metadata": {},
   "outputs": [
    {
     "name": "stdout",
     "output_type": "stream",
     "text": [
      "is...great...animal..."
     ]
    }
   ],
   "source": [
    "for word in words: print(word, end='...')"
   ]
  },
  {
   "cell_type": "code",
   "execution_count": 17,
   "id": "3513120a",
   "metadata": {},
   "outputs": [
    {
     "name": "stdout",
     "output_type": "stream",
     "text": [
      "1 2\n",
      "3 4\n",
      "5 6\n"
     ]
    }
   ],
   "source": [
    "coor = [(1,2),(3,4),(5,6)]\n",
    "for(x,y) in coor: print(x,y)"
   ]
  },
  {
   "cell_type": "code",
   "execution_count": 18,
   "id": "5ba6a3ba",
   "metadata": {},
   "outputs": [
    {
     "name": "stdout",
     "output_type": "stream",
     "text": [
      "100\n"
     ]
    }
   ],
   "source": [
    "x = 0\n",
    "while (x < 100):\n",
    "    x+=2\n",
    "print(x)"
   ]
  },
  {
   "cell_type": "code",
   "execution_count": 20,
   "id": "d7d9b075",
   "metadata": {},
   "outputs": [
    {
     "name": "stdout",
     "output_type": "stream",
     "text": [
      "I, d, a, z, "
     ]
    }
   ],
   "source": [
    "for l in 'Idaz':\n",
    "    if l == 'a':\n",
    "        pass\n",
    "    print(l, end=\", \")"
   ]
  },
  {
   "cell_type": "markdown",
   "id": "d612f752",
   "metadata": {},
   "source": [
    "## If Statement"
   ]
  },
  {
   "cell_type": "code",
   "execution_count": 21,
   "id": "bf410861",
   "metadata": {},
   "outputs": [
    {
     "name": "stdout",
     "output_type": "stream",
     "text": [
      "false\n"
     ]
    }
   ],
   "source": [
    "if not 1:\n",
    "    print('true')\n",
    "else:\n",
    "    print('false')"
   ]
  },
  {
   "cell_type": "code",
   "execution_count": 23,
   "id": "81d16f7a",
   "metadata": {},
   "outputs": [
    {
     "name": "stdout",
     "output_type": "stream",
     "text": [
      "Enter your age: 36\n",
      "Lots of time left!\n"
     ]
    }
   ],
   "source": [
    "age = input('Enter your age: ')\n",
    "if int(age) * 365 > 20000:\n",
    "    print('Time to retire!')\n",
    "elif int(age) * 365 > 10000:\n",
    "    print('Lots of time left!')\n",
    "else:\n",
    "    print('Time to get started!')\n",
    "\n"
   ]
  },
  {
   "cell_type": "code",
   "execution_count": 26,
   "id": "30382bea",
   "metadata": {},
   "outputs": [
    {
     "name": "stdout",
     "output_type": "stream",
     "text": [
      "Enter your age: 83\n",
      "You are a Jedi Master now. Go learn from master yoda!!\n"
     ]
    }
   ],
   "source": [
    "user_age = input('Enter your age: ')\n",
    "age = int(user_age) * 365\n",
    "\n",
    "if age >= 9490:\n",
    "    print('You are a Jedi Master now. Go learn from master yoda!!')\n",
    "elif age >= 8395 and age < 9490: \n",
    "    print('Becoming jedi knight')\n",
    "else:\n",
    "    print('You are a young padawan')"
   ]
  },
  {
   "cell_type": "code",
   "execution_count": 28,
   "id": "f86bbd3b",
   "metadata": {},
   "outputs": [],
   "source": [
    "x = 10\n",
    "y = 50\n",
    "\n",
    "if (x**2 > 100 and y < 100):\n",
    "    print(x,y)"
   ]
  }
 ],
 "metadata": {
  "kernelspec": {
   "display_name": "Python 3 (ipykernel)",
   "language": "python",
   "name": "python3"
  },
  "language_info": {
   "codemirror_mode": {
    "name": "ipython",
    "version": 3
   },
   "file_extension": ".py",
   "mimetype": "text/x-python",
   "name": "python",
   "nbconvert_exporter": "python",
   "pygments_lexer": "ipython3",
   "version": "3.9.12"
  },
  "toc": {
   "base_numbering": 1,
   "nav_menu": {},
   "number_sections": true,
   "sideBar": true,
   "skip_h1_title": false,
   "title_cell": "Table of Contents",
   "title_sidebar": "Contents",
   "toc_cell": false,
   "toc_position": {},
   "toc_section_display": true,
   "toc_window_display": false
  }
 },
 "nbformat": 4,
 "nbformat_minor": 5
}
